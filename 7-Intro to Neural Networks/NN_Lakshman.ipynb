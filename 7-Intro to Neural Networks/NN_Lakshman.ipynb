{
 "cells": [
  {
   "cell_type": "markdown",
   "id": "b540d56e",
   "metadata": {},
   "source": [
    "# **AIML Module Project - Neural Networks** - Total Score 60"
   ]
  },
  {
   "cell_type": "markdown",
   "id": "b2cf574b",
   "metadata": {},
   "source": [
    "## Lakshman Kumar S"
   ]
  },
  {
   "cell_type": "markdown",
   "id": "0e638bf7",
   "metadata": {},
   "source": [
    "# Part A - 30 Marks"
   ]
  },
  {
   "cell_type": "markdown",
   "id": "27159bc6",
   "metadata": {},
   "source": [
    "• **DOMAIN:** Electronics and Telecommunication\n",
    "\n",
    "• **CONTEXT:** A communications equipment manufacturing company has a product which is responsible for emitting informative signals. Company wants to build a machine learning model which can help the company to predict the equipment’s signal quality using various parameters. \n",
    "\n",
    "• **DATA DESCRIPTION:** The data set contains information on various signal tests performed:\n",
    "\n",
    "1. **Parameters:** Various measurable signal parameters.\n",
    "\n",
    "2. **Signal_Quality:** Final signal strength or quality\n",
    "\n",
    "• **PROJECT OBJECTIVE:** To build a classifier which can use the given parameters to determine the signal strength or quality.\n",
    "\n",
    "### Steps and tasks: [ Total Score: 30 Marks]"
   ]
  },
  {
   "cell_type": "markdown",
   "id": "2fee7459",
   "metadata": {},
   "source": [
    "#### 1. Data import and Understanding [10 Marks]\n"
   ]
  },
  {
   "cell_type": "markdown",
   "id": "832e6907",
   "metadata": {},
   "source": [
    "##### A. Read the ‘Signals.csv’ as DataFrame and import required libraries. [2 Marks]\n"
   ]
  },
  {
   "cell_type": "code",
   "execution_count": 1,
   "id": "df1ddcdb",
   "metadata": {},
   "outputs": [],
   "source": [
    "import pandas as pd\n",
    "import numpy as np\n",
    "from sklearn.model_selection import train_test_split\n",
    "from sklearn.preprocessing import LabelEncoder, OneHotEncoder\n",
    "from sklearn import model_selection\n",
    "from sklearn.compose import ColumnTransformer\n",
    "import matplotlib.pyplot as plt\n",
    "import seaborn as sns\n",
    "from sklearn.impute import SimpleImputer\n",
    "import warnings\n",
    "from sklearn.metrics import confusion_matrix\n",
    "from sklearn.pipeline import Pipeline\n",
    "from sklearn.model_selection import GridSearchCV\n",
    "from sklearn.model_selection import RandomizedSearchCV\n",
    "import tensorflow as tf\n",
    "from tensorflow.keras.models import Sequential\n",
    "from tensorflow.keras.layers import Dense\n",
    "from tensorflow.keras.layers import Dense, Input, Dropout,BatchNormalization\n",
    "from tensorflow.keras.wrappers.scikit_learn import KerasClassifier\n",
    "import random\n",
    "from tensorflow.keras import backend\n",
    "random.seed(1)\n",
    "np.random.seed(1) \n",
    "tf.random.set_seed(1)\n",
    "warnings.filterwarnings(\"ignore\")"
   ]
  },
  {
   "cell_type": "code",
   "execution_count": 2,
   "id": "b557ba41",
   "metadata": {},
   "outputs": [],
   "source": [
    "Data = pd.read_csv('Signals.csv')"
   ]
  },
  {
   "cell_type": "code",
   "execution_count": 3,
   "id": "412927d8",
   "metadata": {},
   "outputs": [
    {
     "data": {
      "text/html": [
       "<div>\n",
       "<style scoped>\n",
       "    .dataframe tbody tr th:only-of-type {\n",
       "        vertical-align: middle;\n",
       "    }\n",
       "\n",
       "    .dataframe tbody tr th {\n",
       "        vertical-align: top;\n",
       "    }\n",
       "\n",
       "    .dataframe thead th {\n",
       "        text-align: right;\n",
       "    }\n",
       "</style>\n",
       "<table border=\"1\" class=\"dataframe\">\n",
       "  <thead>\n",
       "    <tr style=\"text-align: right;\">\n",
       "      <th></th>\n",
       "      <th>Parameter 1</th>\n",
       "      <th>Parameter 2</th>\n",
       "      <th>Parameter 3</th>\n",
       "      <th>Parameter 4</th>\n",
       "      <th>Parameter 5</th>\n",
       "      <th>Parameter 6</th>\n",
       "      <th>Parameter 7</th>\n",
       "      <th>Parameter 8</th>\n",
       "      <th>Parameter 9</th>\n",
       "      <th>Parameter 10</th>\n",
       "      <th>Parameter 11</th>\n",
       "      <th>Signal_Strength</th>\n",
       "    </tr>\n",
       "  </thead>\n",
       "  <tbody>\n",
       "    <tr>\n",
       "      <th>0</th>\n",
       "      <td>7.4</td>\n",
       "      <td>0.70</td>\n",
       "      <td>0.00</td>\n",
       "      <td>1.9</td>\n",
       "      <td>0.076</td>\n",
       "      <td>11.0</td>\n",
       "      <td>34.0</td>\n",
       "      <td>0.9978</td>\n",
       "      <td>3.51</td>\n",
       "      <td>0.56</td>\n",
       "      <td>9.4</td>\n",
       "      <td>5</td>\n",
       "    </tr>\n",
       "    <tr>\n",
       "      <th>1</th>\n",
       "      <td>7.8</td>\n",
       "      <td>0.88</td>\n",
       "      <td>0.00</td>\n",
       "      <td>2.6</td>\n",
       "      <td>0.098</td>\n",
       "      <td>25.0</td>\n",
       "      <td>67.0</td>\n",
       "      <td>0.9968</td>\n",
       "      <td>3.20</td>\n",
       "      <td>0.68</td>\n",
       "      <td>9.8</td>\n",
       "      <td>5</td>\n",
       "    </tr>\n",
       "    <tr>\n",
       "      <th>2</th>\n",
       "      <td>7.8</td>\n",
       "      <td>0.76</td>\n",
       "      <td>0.04</td>\n",
       "      <td>2.3</td>\n",
       "      <td>0.092</td>\n",
       "      <td>15.0</td>\n",
       "      <td>54.0</td>\n",
       "      <td>0.9970</td>\n",
       "      <td>3.26</td>\n",
       "      <td>0.65</td>\n",
       "      <td>9.8</td>\n",
       "      <td>5</td>\n",
       "    </tr>\n",
       "    <tr>\n",
       "      <th>3</th>\n",
       "      <td>11.2</td>\n",
       "      <td>0.28</td>\n",
       "      <td>0.56</td>\n",
       "      <td>1.9</td>\n",
       "      <td>0.075</td>\n",
       "      <td>17.0</td>\n",
       "      <td>60.0</td>\n",
       "      <td>0.9980</td>\n",
       "      <td>3.16</td>\n",
       "      <td>0.58</td>\n",
       "      <td>9.8</td>\n",
       "      <td>6</td>\n",
       "    </tr>\n",
       "    <tr>\n",
       "      <th>4</th>\n",
       "      <td>7.4</td>\n",
       "      <td>0.70</td>\n",
       "      <td>0.00</td>\n",
       "      <td>1.9</td>\n",
       "      <td>0.076</td>\n",
       "      <td>11.0</td>\n",
       "      <td>34.0</td>\n",
       "      <td>0.9978</td>\n",
       "      <td>3.51</td>\n",
       "      <td>0.56</td>\n",
       "      <td>9.4</td>\n",
       "      <td>5</td>\n",
       "    </tr>\n",
       "  </tbody>\n",
       "</table>\n",
       "</div>"
      ],
      "text/plain": [
       "   Parameter 1  Parameter 2  Parameter 3  Parameter 4  Parameter 5  \\\n",
       "0          7.4         0.70         0.00          1.9        0.076   \n",
       "1          7.8         0.88         0.00          2.6        0.098   \n",
       "2          7.8         0.76         0.04          2.3        0.092   \n",
       "3         11.2         0.28         0.56          1.9        0.075   \n",
       "4          7.4         0.70         0.00          1.9        0.076   \n",
       "\n",
       "   Parameter 6  Parameter 7  Parameter 8  Parameter 9  Parameter 10  \\\n",
       "0         11.0         34.0       0.9978         3.51          0.56   \n",
       "1         25.0         67.0       0.9968         3.20          0.68   \n",
       "2         15.0         54.0       0.9970         3.26          0.65   \n",
       "3         17.0         60.0       0.9980         3.16          0.58   \n",
       "4         11.0         34.0       0.9978         3.51          0.56   \n",
       "\n",
       "   Parameter 11  Signal_Strength  \n",
       "0           9.4                5  \n",
       "1           9.8                5  \n",
       "2           9.8                5  \n",
       "3           9.8                6  \n",
       "4           9.4                5  "
      ]
     },
     "execution_count": 3,
     "metadata": {},
     "output_type": "execute_result"
    }
   ],
   "source": [
    "Data.head()"
   ]
  },
  {
   "cell_type": "code",
   "execution_count": 4,
   "id": "c8a68428",
   "metadata": {},
   "outputs": [
    {
     "name": "stdout",
     "output_type": "stream",
     "text": [
      "The dataset contains 1599 rows and 12 columns\n"
     ]
    }
   ],
   "source": [
    "row, column = Data.shape\n",
    "print('The dataset contains', row, 'rows and', column, 'columns')"
   ]
  },
  {
   "cell_type": "code",
   "execution_count": 5,
   "id": "9f8da978",
   "metadata": {},
   "outputs": [
    {
     "name": "stdout",
     "output_type": "stream",
     "text": [
      "<class 'pandas.core.frame.DataFrame'>\n",
      "RangeIndex: 1599 entries, 0 to 1598\n",
      "Data columns (total 12 columns):\n",
      " #   Column           Non-Null Count  Dtype  \n",
      "---  ------           --------------  -----  \n",
      " 0   Parameter 1      1599 non-null   float64\n",
      " 1   Parameter 2      1599 non-null   float64\n",
      " 2   Parameter 3      1599 non-null   float64\n",
      " 3   Parameter 4      1599 non-null   float64\n",
      " 4   Parameter 5      1599 non-null   float64\n",
      " 5   Parameter 6      1599 non-null   float64\n",
      " 6   Parameter 7      1599 non-null   float64\n",
      " 7   Parameter 8      1599 non-null   float64\n",
      " 8   Parameter 9      1599 non-null   float64\n",
      " 9   Parameter 10     1599 non-null   float64\n",
      " 10  Parameter 11     1599 non-null   float64\n",
      " 11  Signal_Strength  1599 non-null   int64  \n",
      "dtypes: float64(11), int64(1)\n",
      "memory usage: 150.0 KB\n"
     ]
    }
   ],
   "source": [
    "# Let's check the datatypes of the columns in the dataset\n",
    "Data.info()"
   ]
  },
  {
   "cell_type": "markdown",
   "id": "3c2335ba",
   "metadata": {},
   "source": [
    "There are 1599 observations and 12 columns in the data.\n",
    "\n",
    "11 columns are of the float64 datatype and 1 column is int64."
   ]
  },
  {
   "cell_type": "markdown",
   "id": "75308889",
   "metadata": {},
   "source": [
    "##### B. Check for missing values and print percentage for each attribute. [2 Marks]\n"
   ]
  },
  {
   "cell_type": "code",
   "execution_count": 6,
   "id": "868d13ce",
   "metadata": {},
   "outputs": [
    {
     "data": {
      "text/plain": [
       "Parameter 1        0.0\n",
       "Parameter 2        0.0\n",
       "Parameter 3        0.0\n",
       "Parameter 4        0.0\n",
       "Parameter 5        0.0\n",
       "Parameter 6        0.0\n",
       "Parameter 7        0.0\n",
       "Parameter 8        0.0\n",
       "Parameter 9        0.0\n",
       "Parameter 10       0.0\n",
       "Parameter 11       0.0\n",
       "Signal_Strength    0.0\n",
       "dtype: float64"
      ]
     },
     "execution_count": 6,
     "metadata": {},
     "output_type": "execute_result"
    }
   ],
   "source": [
    "# Let's check for missing values in the data (in percentage)\n",
    "Data.isnull().sum()* 100 / len(Data)"
   ]
  },
  {
   "cell_type": "markdown",
   "id": "2eb13de3",
   "metadata": {},
   "source": [
    "Thus, there are no missing values in the data for all columns"
   ]
  },
  {
   "cell_type": "markdown",
   "id": "51f2a734",
   "metadata": {},
   "source": [
    "##### C. Check for presence of duplicate records in the dataset and impute with appropriate method. [2 Marks]\n"
   ]
  },
  {
   "cell_type": "code",
   "execution_count": 7,
   "id": "e84f0d7f",
   "metadata": {},
   "outputs": [
    {
     "name": "stdout",
     "output_type": "stream",
     "text": [
      "The dataset before dropping duplicates contains 1599 rows and 12 columns\n"
     ]
    }
   ],
   "source": [
    "row, column = Data.shape\n",
    "print('The dataset before dropping duplicates contains', row, 'rows and', column, 'columns')"
   ]
  },
  {
   "cell_type": "code",
   "execution_count": 8,
   "id": "f940a801",
   "metadata": {},
   "outputs": [
    {
     "data": {
      "text/plain": [
       "False    1359\n",
       "True      240\n",
       "dtype: int64"
      ]
     },
     "execution_count": 8,
     "metadata": {},
     "output_type": "execute_result"
    }
   ],
   "source": [
    "Data.duplicated().value_counts()"
   ]
  },
  {
   "cell_type": "markdown",
   "id": "15a1a543",
   "metadata": {},
   "source": [
    "Thus, out of 1599 observations, 1359 observations are unique and 240 observations are duplicates. These records can be dropped."
   ]
  },
  {
   "cell_type": "code",
   "execution_count": 9,
   "id": "04d660ad",
   "metadata": {},
   "outputs": [],
   "source": [
    "Data= Data.drop_duplicates()"
   ]
  },
  {
   "cell_type": "code",
   "execution_count": 10,
   "id": "4a5934af",
   "metadata": {},
   "outputs": [
    {
     "name": "stdout",
     "output_type": "stream",
     "text": [
      "The dataset after dropping duplicates contains 1359 rows and 12 columns\n"
     ]
    }
   ],
   "source": [
    "row, column = Data.shape\n",
    "print('The dataset after dropping duplicates contains', row, 'rows and', column, 'columns')"
   ]
  },
  {
   "cell_type": "markdown",
   "id": "40450228",
   "metadata": {},
   "source": [
    "##### D. Visualise distribution of the target variable. [2 Marks]\n"
   ]
  },
  {
   "cell_type": "code",
   "execution_count": 11,
   "id": "6084b9a7",
   "metadata": {},
   "outputs": [
    {
     "data": {
      "text/plain": [
       "5    577\n",
       "6    535\n",
       "7    167\n",
       "4     53\n",
       "8     17\n",
       "3     10\n",
       "Name: Signal_Strength, dtype: int64"
      ]
     },
     "execution_count": 11,
     "metadata": {},
     "output_type": "execute_result"
    }
   ],
   "source": [
    "Data[\"Signal_Strength\"].value_counts()"
   ]
  },
  {
   "cell_type": "code",
   "execution_count": 12,
   "id": "035cfbef",
   "metadata": {},
   "outputs": [
    {
     "data": {
      "text/plain": [
       "5    0.424577\n",
       "6    0.393672\n",
       "7    0.122884\n",
       "4    0.038999\n",
       "8    0.012509\n",
       "3    0.007358\n",
       "Name: Signal_Strength, dtype: float64"
      ]
     },
     "execution_count": 12,
     "metadata": {},
     "output_type": "execute_result"
    }
   ],
   "source": [
    "Data[\"Signal_Strength\"].value_counts(1)"
   ]
  },
  {
   "cell_type": "code",
   "execution_count": 13,
   "id": "9fa09dd2",
   "metadata": {},
   "outputs": [
    {
     "data": {
      "image/png": "[encoded data removed]",
      "text/plain": [
       "<Figure size 432x288 with 1 Axes>"
      ]
     },
     "metadata": {
      "needs_background": "light"
     },
     "output_type": "display_data"
    }
   ],
   "source": [
    "#plotting count of score\n",
    "sns.countplot(data=Data , x='Signal_Strength')\n",
    "plt.show()"
   ]
  },
  {
   "cell_type": "markdown",
   "id": "6d1a8b60",
   "metadata": {},
   "source": [
    "Signal_Strength of 5 has the highest number of distribution and Signal_strength of 3 has the lowest number of distribution"
   ]
  },
  {
   "cell_type": "markdown",
   "id": "409a521f",
   "metadata": {},
   "source": [
    "##### E. Share insights from the initial data analysis (at least 2). [2 Marks]"
   ]
  },
  {
   "cell_type": "code",
   "execution_count": 14,
   "id": "099587a4",
   "metadata": {},
   "outputs": [
    {
     "data": {
      "text/html": [
       "<div>\n",
       "<style scoped>\n",
       "    .dataframe tbody tr th:only-of-type {\n",
       "        vertical-align: middle;\n",
       "    }\n",
       "\n",
       "    .dataframe tbody tr th {\n",
       "        vertical-align: top;\n",
       "    }\n",
       "\n",
       "    .dataframe thead th {\n",
       "        text-align: right;\n",
       "    }\n",
       "</style>\n",
       "<table border=\"1\" class=\"dataframe\">\n",
       "  <thead>\n",
       "    <tr style=\"text-align: right;\">\n",
       "      <th></th>\n",
       "      <th>count</th>\n",
       "      <th>mean</th>\n",
       "      <th>std</th>\n",
       "      <th>min</th>\n",
       "      <th>25%</th>\n",
       "      <th>50%</th>\n",
       "      <th>75%</th>\n",
       "      <th>max</th>\n",
       "    </tr>\n",
       "  </thead>\n",
       "  <tbody>\n",
       "    <tr>\n",
       "      <th>Parameter 1</th>\n",
       "      <td>1359.0</td>\n",
       "      <td>8.310596</td>\n",
       "      <td>1.736990</td>\n",
       "      <td>4.60000</td>\n",
       "      <td>7.1000</td>\n",
       "      <td>7.9000</td>\n",
       "      <td>9.20000</td>\n",
       "      <td>15.90000</td>\n",
       "    </tr>\n",
       "    <tr>\n",
       "      <th>Parameter 2</th>\n",
       "      <td>1359.0</td>\n",
       "      <td>0.529478</td>\n",
       "      <td>0.183031</td>\n",
       "      <td>0.12000</td>\n",
       "      <td>0.3900</td>\n",
       "      <td>0.5200</td>\n",
       "      <td>0.64000</td>\n",
       "      <td>1.58000</td>\n",
       "    </tr>\n",
       "    <tr>\n",
       "      <th>Parameter 3</th>\n",
       "      <td>1359.0</td>\n",
       "      <td>0.272333</td>\n",
       "      <td>0.195537</td>\n",
       "      <td>0.00000</td>\n",
       "      <td>0.0900</td>\n",
       "      <td>0.2600</td>\n",
       "      <td>0.43000</td>\n",
       "      <td>1.00000</td>\n",
       "    </tr>\n",
       "    <tr>\n",
       "      <th>Parameter 4</th>\n",
       "      <td>1359.0</td>\n",
       "      <td>2.523400</td>\n",
       "      <td>1.352314</td>\n",
       "      <td>0.90000</td>\n",
       "      <td>1.9000</td>\n",
       "      <td>2.2000</td>\n",
       "      <td>2.60000</td>\n",
       "      <td>15.50000</td>\n",
       "    </tr>\n",
       "    <tr>\n",
       "      <th>Parameter 5</th>\n",
       "      <td>1359.0</td>\n",
       "      <td>0.088124</td>\n",
       "      <td>0.049377</td>\n",
       "      <td>0.01200</td>\n",
       "      <td>0.0700</td>\n",
       "      <td>0.0790</td>\n",
       "      <td>0.09100</td>\n",
       "      <td>0.61100</td>\n",
       "    </tr>\n",
       "    <tr>\n",
       "      <th>Parameter 6</th>\n",
       "      <td>1359.0</td>\n",
       "      <td>15.893304</td>\n",
       "      <td>10.447270</td>\n",
       "      <td>1.00000</td>\n",
       "      <td>7.0000</td>\n",
       "      <td>14.0000</td>\n",
       "      <td>21.00000</td>\n",
       "      <td>72.00000</td>\n",
       "    </tr>\n",
       "    <tr>\n",
       "      <th>Parameter 7</th>\n",
       "      <td>1359.0</td>\n",
       "      <td>46.825975</td>\n",
       "      <td>33.408946</td>\n",
       "      <td>6.00000</td>\n",
       "      <td>22.0000</td>\n",
       "      <td>38.0000</td>\n",
       "      <td>63.00000</td>\n",
       "      <td>289.00000</td>\n",
       "    </tr>\n",
       "    <tr>\n",
       "      <th>Parameter 8</th>\n",
       "      <td>1359.0</td>\n",
       "      <td>0.996709</td>\n",
       "      <td>0.001869</td>\n",
       "      <td>0.99007</td>\n",
       "      <td>0.9956</td>\n",
       "      <td>0.9967</td>\n",
       "      <td>0.99782</td>\n",
       "      <td>1.00369</td>\n",
       "    </tr>\n",
       "    <tr>\n",
       "      <th>Parameter 9</th>\n",
       "      <td>1359.0</td>\n",
       "      <td>3.309787</td>\n",
       "      <td>0.155036</td>\n",
       "      <td>2.74000</td>\n",
       "      <td>3.2100</td>\n",
       "      <td>3.3100</td>\n",
       "      <td>3.40000</td>\n",
       "      <td>4.01000</td>\n",
       "    </tr>\n",
       "    <tr>\n",
       "      <th>Parameter 10</th>\n",
       "      <td>1359.0</td>\n",
       "      <td>0.658705</td>\n",
       "      <td>0.170667</td>\n",
       "      <td>0.33000</td>\n",
       "      <td>0.5500</td>\n",
       "      <td>0.6200</td>\n",
       "      <td>0.73000</td>\n",
       "      <td>2.00000</td>\n",
       "    </tr>\n",
       "    <tr>\n",
       "      <th>Parameter 11</th>\n",
       "      <td>1359.0</td>\n",
       "      <td>10.432315</td>\n",
       "      <td>1.082065</td>\n",
       "      <td>8.40000</td>\n",
       "      <td>9.5000</td>\n",
       "      <td>10.2000</td>\n",
       "      <td>11.10000</td>\n",
       "      <td>14.90000</td>\n",
       "    </tr>\n",
       "    <tr>\n",
       "      <th>Signal_Strength</th>\n",
       "      <td>1359.0</td>\n",
       "      <td>5.623252</td>\n",
       "      <td>0.823578</td>\n",
       "      <td>3.00000</td>\n",
       "      <td>5.0000</td>\n",
       "      <td>6.0000</td>\n",
       "      <td>6.00000</td>\n",
       "      <td>8.00000</td>\n",
       "    </tr>\n",
       "  </tbody>\n",
       "</table>\n",
       "</div>"
      ],
      "text/plain": [
       "                  count       mean        std      min      25%      50%  \\\n",
       "Parameter 1      1359.0   8.310596   1.736990  4.60000   7.1000   7.9000   \n",
       "Parameter 2      1359.0   0.529478   0.183031  0.12000   0.3900   0.5200   \n",
       "Parameter 3      1359.0   0.272333   0.195537  0.00000   0.0900   0.2600   \n",
       "Parameter 4      1359.0   2.523400   1.352314  0.90000   1.9000   2.2000   \n",
       "Parameter 5      1359.0   0.088124   0.049377  0.01200   0.0700   0.0790   \n",
       "Parameter 6      1359.0  15.893304  10.447270  1.00000   7.0000  14.0000   \n",
       "Parameter 7      1359.0  46.825975  33.408946  6.00000  22.0000  38.0000   \n",
       "Parameter 8      1359.0   0.996709   0.001869  0.99007   0.9956   0.9967   \n",
       "Parameter 9      1359.0   3.309787   0.155036  2.74000   3.2100   3.3100   \n",
       "Parameter 10     1359.0   0.658705   0.170667  0.33000   0.5500   0.6200   \n",
       "Parameter 11     1359.0  10.432315   1.082065  8.40000   9.5000  10.2000   \n",
       "Signal_Strength  1359.0   5.623252   0.823578  3.00000   5.0000   6.0000   \n",
       "\n",
       "                      75%        max  \n",
       "Parameter 1       9.20000   15.90000  \n",
       "Parameter 2       0.64000    1.58000  \n",
       "Parameter 3       0.43000    1.00000  \n",
       "Parameter 4       2.60000   15.50000  \n",
       "Parameter 5       0.09100    0.61100  \n",
       "Parameter 6      21.00000   72.00000  \n",
       "Parameter 7      63.00000  289.00000  \n",
       "Parameter 8       0.99782    1.00369  \n",
       "Parameter 9       3.40000    4.01000  \n",
       "Parameter 10      0.73000    2.00000  \n",
       "Parameter 11     11.10000   14.90000  \n",
       "Signal_Strength   6.00000    8.00000  "
      ]
     },
     "execution_count": 14,
     "metadata": {},
     "output_type": "execute_result"
    }
   ],
   "source": [
    "# Let's view the statistical summary of the numerical columns in the data\n",
    "Data.describe().T"
   ]
  },
  {
   "cell_type": "code",
   "execution_count": 15,
   "id": "9c37835e",
   "metadata": {},
   "outputs": [
    {
     "data": {
      "text/plain": [
       "5    577\n",
       "6    535\n",
       "7    167\n",
       "4     53\n",
       "8     17\n",
       "3     10\n",
       "Name: Signal_Strength, dtype: int64"
      ]
     },
     "execution_count": 15,
     "metadata": {},
     "output_type": "execute_result"
    }
   ],
   "source": [
    "Data['Signal_Strength'].value_counts()"
   ]
  },
  {
   "cell_type": "code",
   "execution_count": 16,
   "id": "934c7057",
   "metadata": {},
   "outputs": [
    {
     "data": {
      "text/plain": [
       "Parameter 1         96\n",
       "Parameter 2        143\n",
       "Parameter 3         80\n",
       "Parameter 4         91\n",
       "Parameter 5        153\n",
       "Parameter 6         60\n",
       "Parameter 7        144\n",
       "Parameter 8        436\n",
       "Parameter 9         89\n",
       "Parameter 10        96\n",
       "Parameter 11        65\n",
       "Signal_Strength      6\n",
       "dtype: int64"
      ]
     },
     "execution_count": 16,
     "metadata": {},
     "output_type": "execute_result"
    }
   ],
   "source": [
    "# Let's check the number of unique values in each column\n",
    "Data.nunique()"
   ]
  },
  {
   "cell_type": "markdown",
   "id": "2e4e9c23",
   "metadata": {},
   "source": [
    "Observations from initial data analysis:\n",
    "\n",
    "1. All columns are numerical columns in the dataset.\n",
    "\n",
    "2. The maximum number of Parameter 7 is 289, but at least 75% of Parameter 7 had its value within 63.\n",
    "\n",
    "3. 50% of the rows have a Parameter 5 between 0.012 and 0.079, so the dataset is weighted towards the lower side with respect to this column.\n",
    "\n",
    "4. 50% of the rows have a Signal_Strength between 6 and 8, so the dataset is weighted towards the higher side with respect to this column.\n",
    "\n",
    "5. There are no columns with complete unique values. Hence we cannot drop any of these columns as it might add predictive power or value to the model.\n",
    "\n",
    "6. The 'Parameter 8' column has highest number 436 unique categories.\n",
    "\n",
    "7. In total, there are 6 classes [3, 4, 5, 6, 7, 8] in the target variable - Signal_Strength"
   ]
  },
  {
   "cell_type": "markdown",
   "id": "10b9f265",
   "metadata": {},
   "source": [
    "#### 2. Data preprocessing [7 Marks]\n"
   ]
  },
  {
   "cell_type": "markdown",
   "id": "6f5dd0e3",
   "metadata": {},
   "source": [
    "##### A. Split the data into X & Y. [1 Marks]\n"
   ]
  },
  {
   "cell_type": "code",
   "execution_count": 17,
   "id": "e57ba75c",
   "metadata": {},
   "outputs": [],
   "source": [
    "## Separating Independent and Dependent Columns\n",
    "X = Data.drop(['Signal_Strength'],axis=1)\n",
    "Y = Data[['Signal_Strength']]"
   ]
  },
  {
   "cell_type": "code",
   "execution_count": 18,
   "id": "d6a7cbfb",
   "metadata": {},
   "outputs": [
    {
     "data": {
      "text/html": [
       "<div>\n",
       "<style scoped>\n",
       "    .dataframe tbody tr th:only-of-type {\n",
       "        vertical-align: middle;\n",
       "    }\n",
       "\n",
       "    .dataframe tbody tr th {\n",
       "        vertical-align: top;\n",
       "    }\n",
       "\n",
       "    .dataframe thead th {\n",
       "        text-align: right;\n",
       "    }\n",
       "</style>\n",
       "<table border=\"1\" class=\"dataframe\">\n",
       "  <thead>\n",
       "    <tr style=\"text-align: right;\">\n",
       "      <th></th>\n",
       "      <th>Signal_Strength</th>\n",
       "    </tr>\n",
       "  </thead>\n",
       "  <tbody>\n",
       "    <tr>\n",
       "      <th>0</th>\n",
       "      <td>5</td>\n",
       "    </tr>\n",
       "    <tr>\n",
       "      <th>1</th>\n",
       "      <td>5</td>\n",
       "    </tr>\n",
       "    <tr>\n",
       "      <th>2</th>\n",
       "      <td>5</td>\n",
       "    </tr>\n",
       "    <tr>\n",
       "      <th>3</th>\n",
       "      <td>6</td>\n",
       "    </tr>\n",
       "    <tr>\n",
       "      <th>5</th>\n",
       "      <td>5</td>\n",
       "    </tr>\n",
       "  </tbody>\n",
       "</table>\n",
       "</div>"
      ],
      "text/plain": [
       "   Signal_Strength\n",
       "0                5\n",
       "1                5\n",
       "2                5\n",
       "3                6\n",
       "5                5"
      ]
     },
     "execution_count": 18,
     "metadata": {},
     "output_type": "execute_result"
    }
   ],
   "source": [
    "Y.head()"
   ]
  },
  {
   "cell_type": "markdown",
   "id": "41f7d408",
   "metadata": {},
   "source": [
    "##### B. Split the data into train & test with 70:30 proportion.[1 Marks]\n"
   ]
  },
  {
   "cell_type": "code",
   "execution_count": 19,
   "id": "26d4af12",
   "metadata": {},
   "outputs": [],
   "source": [
    "# Splitting the dataset into the Training and Testing set.\n",
    "\n",
    "X_train, X_test, y_train, y_test = train_test_split(X,Y, test_size = 0.3, random_state = 42,stratify = Y)"
   ]
  },
  {
   "cell_type": "code",
   "execution_count": 20,
   "id": "2ec23f1a",
   "metadata": {},
   "outputs": [
    {
     "name": "stdout",
     "output_type": "stream",
     "text": [
      "69.98% data is in training set\n",
      "30.02% data is in test set\n"
     ]
    }
   ],
   "source": [
    "print(\"{0:0.2f}% data is in training set\".format((len(X_train)/len(Data.index)) * 100))\n",
    "print(\"{0:0.2f}% data is in test set\".format((len(X_test)/len(Data.index)) * 100))"
   ]
  },
  {
   "cell_type": "code",
   "execution_count": 21,
   "id": "c7fa8ea1",
   "metadata": {},
   "outputs": [
    {
     "name": "stdout",
     "output_type": "stream",
     "text": [
      "Parameter 1     0\n",
      "Parameter 2     0\n",
      "Parameter 3     0\n",
      "Parameter 4     0\n",
      "Parameter 5     0\n",
      "Parameter 6     0\n",
      "Parameter 7     0\n",
      "Parameter 8     0\n",
      "Parameter 9     0\n",
      "Parameter 10    0\n",
      "Parameter 11    0\n",
      "dtype: int64\n",
      "------------------------------\n",
      "Parameter 1     0\n",
      "Parameter 2     0\n",
      "Parameter 3     0\n",
      "Parameter 4     0\n",
      "Parameter 5     0\n",
      "Parameter 6     0\n",
      "Parameter 7     0\n",
      "Parameter 8     0\n",
      "Parameter 9     0\n",
      "Parameter 10    0\n",
      "Parameter 11    0\n",
      "dtype: int64\n"
     ]
    }
   ],
   "source": [
    "# Checking that no column has missing values in train and test sets\n",
    "print(X_train.isna().sum())\n",
    "print(\"-\" * 30)\n",
    "print(X_test.isna().sum())"
   ]
  },
  {
   "cell_type": "markdown",
   "id": "eed79d8d",
   "metadata": {},
   "source": [
    "##### C. Print shape of all the 4 variables and verify if train and test data is in sync. [1 Marks]\n"
   ]
  },
  {
   "cell_type": "code",
   "execution_count": 22,
   "id": "fbf00e9f",
   "metadata": {},
   "outputs": [
    {
     "name": "stdout",
     "output_type": "stream",
     "text": [
      "(1359, 11)\n",
      "(951, 11)\n",
      "(408, 11)\n",
      "(1359, 1)\n",
      "(951, 1)\n",
      "(408, 1)\n"
     ]
    }
   ],
   "source": [
    "###Checking the shape of train and test sets\n",
    "print(X.shape)\n",
    "print(X_train.shape)\n",
    "print(X_test.shape)\n",
    "print(Y.shape)\n",
    "print(y_train.shape)\n",
    "print(y_test.shape)"
   ]
  },
  {
   "cell_type": "code",
   "execution_count": 23,
   "id": "c57d720c",
   "metadata": {},
   "outputs": [
    {
     "name": "stdout",
     "output_type": "stream",
     "text": [
      "1359\n",
      "951.3\n",
      "407.7\n",
      "1359\n",
      "951.3\n",
      "407.7\n"
     ]
    }
   ],
   "source": [
    "print(X.shape[0])\n",
    "print(X.shape[0] * 0.7)\n",
    "print(X.shape[0] * 0.3)\n",
    "print(Y.shape[0])\n",
    "print(Y.shape[0] * 0.7)\n",
    "print(Y.shape[0] * 0.3)"
   ]
  },
  {
   "cell_type": "markdown",
   "id": "e74e6691",
   "metadata": {},
   "source": [
    "Thus, Shape of X is (1359,11) and of X_train is 70% of X which is (951,11) and X_test is 30% of X which is (408,11).\n",
    "\n",
    "Thus, Shape of Y is (1359,1) and of y_train is 70% of Y which is (951,1) and y_test is 30% of Y which is (408,1)."
   ]
  },
  {
   "cell_type": "code",
   "execution_count": 24,
   "id": "4ec4f9fd",
   "metadata": {},
   "outputs": [
    {
     "name": "stdout",
     "output_type": "stream",
     "text": [
      "69.98% data is in training set\n",
      "30.02% data is in test set\n"
     ]
    }
   ],
   "source": [
    "print(\"{0:0.2f}% data is in training set\".format((len(X_train)/len(Data.index)) * 100))\n",
    "print(\"{0:0.2f}% data is in test set\".format((len(X_test)/len(Data.index)) * 100))"
   ]
  },
  {
   "cell_type": "markdown",
   "id": "a4938173",
   "metadata": {},
   "source": [
    "##### D. Normalise the train and test data with appropriate method. [2 Marks]\n"
   ]
  },
  {
   "cell_type": "code",
   "execution_count": 25,
   "id": "0dc3f880",
   "metadata": {},
   "outputs": [
    {
     "data": {
      "text/plain": [
       "(1359, 11)"
      ]
     },
     "metadata": {},
     "output_type": "display_data"
    },
    {
     "data": {
      "text/plain": [
       "(1359, 11)"
      ]
     },
     "metadata": {},
     "output_type": "display_data"
    },
    {
     "data": {
      "text/plain": [
       "(1359, 1)"
      ]
     },
     "metadata": {},
     "output_type": "display_data"
    }
   ],
   "source": [
    "from sklearn.preprocessing import RobustScaler\n",
    "# Applying RobustScaler to make it less prone to outliers\n",
    "features = X.columns\n",
    "scaler = RobustScaler()\n",
    "X = pd.DataFrame(scaler.fit_transform(X), columns = features)\n",
    "from scipy.stats import zscore\n",
    "# Scaling the independent variables\n",
    "Xs = X.apply(zscore)\n",
    "\n",
    "display(X.shape, Xs.shape, Y.shape)"
   ]
  },
  {
   "cell_type": "code",
   "execution_count": 26,
   "id": "704434de",
   "metadata": {},
   "outputs": [
    {
     "data": {
      "text/html": [
       "<div>\n",
       "<style scoped>\n",
       "    .dataframe tbody tr th:only-of-type {\n",
       "        vertical-align: middle;\n",
       "    }\n",
       "\n",
       "    .dataframe tbody tr th {\n",
       "        vertical-align: top;\n",
       "    }\n",
       "\n",
       "    .dataframe thead th {\n",
       "        text-align: right;\n",
       "    }\n",
       "</style>\n",
       "<table border=\"1\" class=\"dataframe\">\n",
       "  <thead>\n",
       "    <tr style=\"text-align: right;\">\n",
       "      <th></th>\n",
       "      <th>count</th>\n",
       "      <th>mean</th>\n",
       "      <th>std</th>\n",
       "      <th>min</th>\n",
       "      <th>25%</th>\n",
       "      <th>50%</th>\n",
       "      <th>75%</th>\n",
       "      <th>max</th>\n",
       "    </tr>\n",
       "  </thead>\n",
       "  <tbody>\n",
       "    <tr>\n",
       "      <th>Parameter 1</th>\n",
       "      <td>1359.0</td>\n",
       "      <td>-6.311687e-16</td>\n",
       "      <td>1.000368</td>\n",
       "      <td>-2.137008</td>\n",
       "      <td>-0.697207</td>\n",
       "      <td>-0.236471</td>\n",
       "      <td>0.512226</td>\n",
       "      <td>4.370894</td>\n",
       "    </tr>\n",
       "    <tr>\n",
       "      <th>Parameter 2</th>\n",
       "      <td>1359.0</td>\n",
       "      <td>1.187832e-16</td>\n",
       "      <td>1.000368</td>\n",
       "      <td>-2.238023</td>\n",
       "      <td>-0.762323</td>\n",
       "      <td>-0.051800</td>\n",
       "      <td>0.604067</td>\n",
       "      <td>5.741690</td>\n",
       "    </tr>\n",
       "    <tr>\n",
       "      <th>Parameter 3</th>\n",
       "      <td>1359.0</td>\n",
       "      <td>-5.489845e-17</td>\n",
       "      <td>1.000368</td>\n",
       "      <td>-1.393258</td>\n",
       "      <td>-0.932817</td>\n",
       "      <td>-0.063094</td>\n",
       "      <td>0.806629</td>\n",
       "      <td>3.722758</td>\n",
       "    </tr>\n",
       "    <tr>\n",
       "      <th>Parameter 4</th>\n",
       "      <td>1359.0</td>\n",
       "      <td>8.349139e-17</td>\n",
       "      <td>1.000368</td>\n",
       "      <td>-1.200903</td>\n",
       "      <td>-0.461157</td>\n",
       "      <td>-0.239233</td>\n",
       "      <td>0.056665</td>\n",
       "      <td>9.599383</td>\n",
       "    </tr>\n",
       "    <tr>\n",
       "      <th>Parameter 5</th>\n",
       "      <td>1359.0</td>\n",
       "      <td>4.182739e-17</td>\n",
       "      <td>1.000368</td>\n",
       "      <td>-1.542254</td>\n",
       "      <td>-0.367182</td>\n",
       "      <td>-0.184843</td>\n",
       "      <td>0.058275</td>\n",
       "      <td>10.593400</td>\n",
       "    </tr>\n",
       "    <tr>\n",
       "      <th>Parameter 6</th>\n",
       "      <td>1359.0</td>\n",
       "      <td>-1.691068e-17</td>\n",
       "      <td>1.000368</td>\n",
       "      <td>-1.426094</td>\n",
       "      <td>-0.851570</td>\n",
       "      <td>-0.181291</td>\n",
       "      <td>0.488987</td>\n",
       "      <td>5.372442</td>\n",
       "    </tr>\n",
       "    <tr>\n",
       "      <th>Parameter 7</th>\n",
       "      <td>1359.0</td>\n",
       "      <td>3.567990e-17</td>\n",
       "      <td>1.000368</td>\n",
       "      <td>-1.222457</td>\n",
       "      <td>-0.743367</td>\n",
       "      <td>-0.264277</td>\n",
       "      <td>0.484301</td>\n",
       "      <td>7.251446</td>\n",
       "    </tr>\n",
       "    <tr>\n",
       "      <th>Parameter 8</th>\n",
       "      <td>1359.0</td>\n",
       "      <td>6.421157e-17</td>\n",
       "      <td>1.000368</td>\n",
       "      <td>-3.553604</td>\n",
       "      <td>-0.593582</td>\n",
       "      <td>-0.004789</td>\n",
       "      <td>0.594709</td>\n",
       "      <td>3.736721</td>\n",
       "    </tr>\n",
       "    <tr>\n",
       "      <th>Parameter 9</th>\n",
       "      <td>1359.0</td>\n",
       "      <td>-1.699238e-16</td>\n",
       "      <td>1.000368</td>\n",
       "      <td>-3.676535</td>\n",
       "      <td>-0.643871</td>\n",
       "      <td>0.001377</td>\n",
       "      <td>0.582100</td>\n",
       "      <td>4.518110</td>\n",
       "    </tr>\n",
       "    <tr>\n",
       "      <th>Parameter 10</th>\n",
       "      <td>1359.0</td>\n",
       "      <td>-1.367751e-16</td>\n",
       "      <td>1.000368</td>\n",
       "      <td>-1.926712</td>\n",
       "      <td>-0.637177</td>\n",
       "      <td>-0.226870</td>\n",
       "      <td>0.417898</td>\n",
       "      <td>7.862034</td>\n",
       "    </tr>\n",
       "    <tr>\n",
       "      <th>Parameter 11</th>\n",
       "      <td>1359.0</td>\n",
       "      <td>5.658134e-16</td>\n",
       "      <td>1.000368</td>\n",
       "      <td>-1.878873</td>\n",
       "      <td>-0.861924</td>\n",
       "      <td>-0.214775</td>\n",
       "      <td>0.617274</td>\n",
       "      <td>4.130369</td>\n",
       "    </tr>\n",
       "  </tbody>\n",
       "</table>\n",
       "</div>"
      ],
      "text/plain": [
       "               count          mean       std       min       25%       50%  \\\n",
       "Parameter 1   1359.0 -6.311687e-16  1.000368 -2.137008 -0.697207 -0.236471   \n",
       "Parameter 2   1359.0  1.187832e-16  1.000368 -2.238023 -0.762323 -0.051800   \n",
       "Parameter 3   1359.0 -5.489845e-17  1.000368 -1.393258 -0.932817 -0.063094   \n",
       "Parameter 4   1359.0  8.349139e-17  1.000368 -1.200903 -0.461157 -0.239233   \n",
       "Parameter 5   1359.0  4.182739e-17  1.000368 -1.542254 -0.367182 -0.184843   \n",
       "Parameter 6   1359.0 -1.691068e-17  1.000368 -1.426094 -0.851570 -0.181291   \n",
       "Parameter 7   1359.0  3.567990e-17  1.000368 -1.222457 -0.743367 -0.264277   \n",
       "Parameter 8   1359.0  6.421157e-17  1.000368 -3.553604 -0.593582 -0.004789   \n",
       "Parameter 9   1359.0 -1.699238e-16  1.000368 -3.676535 -0.643871  0.001377   \n",
       "Parameter 10  1359.0 -1.367751e-16  1.000368 -1.926712 -0.637177 -0.226870   \n",
       "Parameter 11  1359.0  5.658134e-16  1.000368 -1.878873 -0.861924 -0.214775   \n",
       "\n",
       "                   75%        max  \n",
       "Parameter 1   0.512226   4.370894  \n",
       "Parameter 2   0.604067   5.741690  \n",
       "Parameter 3   0.806629   3.722758  \n",
       "Parameter 4   0.056665   9.599383  \n",
       "Parameter 5   0.058275  10.593400  \n",
       "Parameter 6   0.488987   5.372442  \n",
       "Parameter 7   0.484301   7.251446  \n",
       "Parameter 8   0.594709   3.736721  \n",
       "Parameter 9   0.582100   4.518110  \n",
       "Parameter 10  0.417898   7.862034  \n",
       "Parameter 11  0.617274   4.130369  "
      ]
     },
     "execution_count": 26,
     "metadata": {},
     "output_type": "execute_result"
    }
   ],
   "source": [
    "Xs.describe().T"
   ]
  },
  {
   "cell_type": "code",
   "execution_count": 27,
   "id": "cdc9cdf5",
   "metadata": {},
   "outputs": [],
   "source": [
    "X_train, X_test, y_train, y_test = train_test_split(Xs,Y, test_size = 0.3, random_state = 42,stratify = Y)"
   ]
  },
  {
   "cell_type": "code",
   "execution_count": 28,
   "id": "1f936e8a",
   "metadata": {},
   "outputs": [
    {
     "name": "stdout",
     "output_type": "stream",
     "text": [
      "69.98% data is in training set\n",
      "30.02% data is in test set\n"
     ]
    }
   ],
   "source": [
    "print(\"{0:0.2f}% data is in training set\".format((len(X_train)/len(Data.index)) * 100))\n",
    "print(\"{0:0.2f}% data is in test set\".format((len(X_test)/len(Data.index)) * 100))"
   ]
  },
  {
   "cell_type": "markdown",
   "id": "c5301ced",
   "metadata": {},
   "source": [
    "##### E. Transform Labels into format acceptable by Neural Network [2 Marks]"
   ]
  },
  {
   "cell_type": "code",
   "execution_count": 29,
   "id": "1e83c6de",
   "metadata": {},
   "outputs": [],
   "source": [
    "from sklearn.preprocessing import LabelEncoder\n",
    "labelencoder_MD = LabelEncoder()\n",
    "y_train=  labelencoder_MD.fit_transform(y_train)\n",
    "y_test=  labelencoder_MD.transform(y_test)"
   ]
  },
  {
   "cell_type": "code",
   "execution_count": 30,
   "id": "f62abeb0",
   "metadata": {},
   "outputs": [],
   "source": [
    "# Convert to \"one-hot\" vectors using the to_categorical function\n",
    "from tensorflow.keras.utils import to_categorical\n",
    "num_classes = len(np.unique(y_test))\n",
    "y_train = to_categorical(y_train, num_classes)\n",
    "y_test_cat=to_categorical(y_test,num_classes)"
   ]
  },
  {
   "cell_type": "code",
   "execution_count": 31,
   "id": "d308b79c",
   "metadata": {},
   "outputs": [
    {
     "data": {
      "text/plain": [
       "array([[0., 0., 0., 1., 0., 0.],\n",
       "       [0., 0., 1., 0., 0., 0.],\n",
       "       [0., 0., 0., 1., 0., 0.],\n",
       "       [0., 0., 0., 1., 0., 0.]], dtype=float32)"
      ]
     },
     "execution_count": 31,
     "metadata": {},
     "output_type": "execute_result"
    }
   ],
   "source": [
    "y_train[1:5]"
   ]
  },
  {
   "cell_type": "code",
   "execution_count": 32,
   "id": "320c4667",
   "metadata": {},
   "outputs": [
    {
     "data": {
      "text/plain": [
       "array([[0., 0., 0., 1., 0., 0.],\n",
       "       [0., 0., 0., 1., 0., 0.],\n",
       "       [0., 0., 0., 1., 0., 0.],\n",
       "       [0., 0., 1., 0., 0., 0.]], dtype=float32)"
      ]
     },
     "execution_count": 32,
     "metadata": {},
     "output_type": "execute_result"
    }
   ],
   "source": [
    "y_test_cat[1:5]"
   ]
  },
  {
   "cell_type": "code",
   "execution_count": 33,
   "id": "a95cf757",
   "metadata": {},
   "outputs": [
    {
     "name": "stdout",
     "output_type": "stream",
     "text": [
      "(951, 11)\n",
      "(408, 11)\n",
      "(951, 6)\n",
      "(408,)\n",
      "(408, 6)\n"
     ]
    }
   ],
   "source": [
    "###Checking the shape of train and test sets\n",
    "print(X_train.shape)\n",
    "print(X_test.shape)\n",
    "print(y_train.shape)\n",
    "print(y_test.shape)\n",
    "print(y_test_cat.shape)"
   ]
  },
  {
   "cell_type": "markdown",
   "id": "fc2baa8b",
   "metadata": {},
   "source": [
    "#### 3. Model Training & Evaluation using Neural Network [13 Marks]\n"
   ]
  },
  {
   "cell_type": "markdown",
   "id": "01edf6cc",
   "metadata": {},
   "source": [
    "##### A. Design a Neural Network to train a classifier. [3 Marks]\n"
   ]
  },
  {
   "cell_type": "code",
   "execution_count": 34,
   "id": "64fb6eff",
   "metadata": {},
   "outputs": [],
   "source": [
    "backend.clear_session()\n",
    "#Fixing the seed for random number generators so that we can ensure we receive the same output everytime\n",
    "np.random.seed(42)\n",
    "import random\n",
    "random.seed(42)\n",
    "tf.random.set_seed(42)"
   ]
  },
  {
   "cell_type": "code",
   "execution_count": 35,
   "id": "94ae55a2",
   "metadata": {},
   "outputs": [],
   "source": [
    "# Initializing the ANN\n",
    "model_a_1 = Sequential()\n",
    "# The amount of nodes (dimensions) in hidden layer should be the average of input and output layers, in this case 64.\n",
    "# This adds the input layer (by specifying input dimension) AND the first hidden layer (units)\n",
    "model_a_1.add(Dense(activation = 'relu', input_dim = 11, units=64))\n",
    "#Add 1st hidden layer\n",
    "model_a_1.add(Dense(32, activation='relu',kernel_initializer='he_uniform'))\n",
    "# Adding the output layer\n",
    "# Notice that we do not need to specify input dim. \n",
    "# we have an output of 1 node, which is the the desired dimensions of our output \n",
    "# We use the softmax because we want many outcomes\n",
    "model_a_1.add(Dense(6, activation = 'softmax')) "
   ]
  },
  {
   "cell_type": "code",
   "execution_count": 36,
   "id": "f7e9b7fe",
   "metadata": {},
   "outputs": [],
   "source": [
    "# Create optimizer with default learning rate\n",
    "# Compile the model\n",
    "model_a_1.compile(optimizer='adam', loss='categorical_crossentropy', metrics=['accuracy'])"
   ]
  },
  {
   "cell_type": "code",
   "execution_count": 37,
   "id": "1d4b09c1",
   "metadata": {},
   "outputs": [
    {
     "name": "stdout",
     "output_type": "stream",
     "text": [
      "Model: \"sequential\"\n",
      "_________________________________________________________________\n",
      "Layer (type)                 Output Shape              Param #   \n",
      "=================================================================\n",
      "dense (Dense)                (None, 64)                768       \n",
      "_________________________________________________________________\n",
      "dense_1 (Dense)              (None, 32)                2080      \n",
      "_________________________________________________________________\n",
      "dense_2 (Dense)              (None, 6)                 198       \n",
      "=================================================================\n",
      "Total params: 3,046\n",
      "Trainable params: 3,046\n",
      "Non-trainable params: 0\n",
      "_________________________________________________________________\n"
     ]
    }
   ],
   "source": [
    "model_a_1.summary()"
   ]
  },
  {
   "cell_type": "markdown",
   "id": "bec11bdc",
   "metadata": {},
   "source": [
    "##### B. Train the classifier using previously designed Architecture [2 Marks]\n"
   ]
  },
  {
   "cell_type": "code",
   "execution_count": 38,
   "id": "f6b7cd16",
   "metadata": {},
   "outputs": [
    {
     "name": "stdout",
     "output_type": "stream",
     "text": [
      "Epoch 1/50\n",
      "24/24 [==============================] - 0s 8ms/step - loss: 1.5180 - accuracy: 0.4237 - val_loss: 1.3250 - val_accuracy: 0.4869\n",
      "Epoch 2/50\n",
      "24/24 [==============================] - 0s 2ms/step - loss: 1.2287 - accuracy: 0.5329 - val_loss: 1.1461 - val_accuracy: 0.5497\n",
      "Epoch 3/50\n",
      "24/24 [==============================] - 0s 2ms/step - loss: 1.1025 - accuracy: 0.5750 - val_loss: 1.0671 - val_accuracy: 0.5550\n",
      "Epoch 4/50\n",
      "24/24 [==============================] - 0s 1ms/step - loss: 1.0399 - accuracy: 0.5816 - val_loss: 1.0299 - val_accuracy: 0.5654\n",
      "Epoch 5/50\n",
      "24/24 [==============================] - 0s 1ms/step - loss: 1.0032 - accuracy: 0.6053 - val_loss: 1.0150 - val_accuracy: 0.5916\n",
      "Epoch 6/50\n",
      "24/24 [==============================] - 0s 2ms/step - loss: 0.9830 - accuracy: 0.6066 - val_loss: 1.0046 - val_accuracy: 0.5759\n",
      "Epoch 7/50\n",
      "24/24 [==============================] - 0s 2ms/step - loss: 0.9651 - accuracy: 0.6026 - val_loss: 0.9989 - val_accuracy: 0.5654\n",
      "Epoch 8/50\n",
      "24/24 [==============================] - 0s 1ms/step - loss: 0.9479 - accuracy: 0.6145 - val_loss: 0.9915 - val_accuracy: 0.5445\n",
      "Epoch 9/50\n",
      "24/24 [==============================] - 0s 2ms/step - loss: 0.9331 - accuracy: 0.6197 - val_loss: 0.9879 - val_accuracy: 0.5393\n",
      "Epoch 10/50\n",
      "24/24 [==============================] - 0s 1ms/step - loss: 0.9220 - accuracy: 0.6303 - val_loss: 0.9891 - val_accuracy: 0.5550\n",
      "Epoch 11/50\n",
      "24/24 [==============================] - 0s 1ms/step - loss: 0.9109 - accuracy: 0.6382 - val_loss: 0.9847 - val_accuracy: 0.5550\n",
      "Epoch 12/50\n",
      "24/24 [==============================] - 0s 2ms/step - loss: 0.9019 - accuracy: 0.6368 - val_loss: 0.9835 - val_accuracy: 0.5445\n",
      "Epoch 13/50\n",
      "24/24 [==============================] - 0s 2ms/step - loss: 0.8934 - accuracy: 0.6382 - val_loss: 0.9859 - val_accuracy: 0.5550\n",
      "Epoch 14/50\n",
      "24/24 [==============================] - 0s 2ms/step - loss: 0.8818 - accuracy: 0.6461 - val_loss: 0.9838 - val_accuracy: 0.5497\n",
      "Epoch 15/50\n",
      "24/24 [==============================] - 0s 1ms/step - loss: 0.8734 - accuracy: 0.6526 - val_loss: 0.9801 - val_accuracy: 0.5497\n",
      "Epoch 16/50\n",
      "24/24 [==============================] - 0s 1ms/step - loss: 0.8640 - accuracy: 0.6434 - val_loss: 0.9840 - val_accuracy: 0.5550\n",
      "Epoch 17/50\n",
      "24/24 [==============================] - 0s 1ms/step - loss: 0.8570 - accuracy: 0.6553 - val_loss: 0.9818 - val_accuracy: 0.5445\n",
      "Epoch 18/50\n",
      "24/24 [==============================] - 0s 1ms/step - loss: 0.8480 - accuracy: 0.6566 - val_loss: 0.9815 - val_accuracy: 0.5497\n",
      "Epoch 19/50\n",
      "24/24 [==============================] - 0s 1ms/step - loss: 0.8411 - accuracy: 0.6566 - val_loss: 0.9826 - val_accuracy: 0.5654\n",
      "Epoch 20/50\n",
      "24/24 [==============================] - 0s 2ms/step - loss: 0.8323 - accuracy: 0.6658 - val_loss: 0.9835 - val_accuracy: 0.5550\n",
      "Epoch 21/50\n",
      "24/24 [==============================] - 0s 1ms/step - loss: 0.8249 - accuracy: 0.6671 - val_loss: 0.9841 - val_accuracy: 0.5602\n",
      "Epoch 22/50\n",
      "24/24 [==============================] - 0s 1ms/step - loss: 0.8202 - accuracy: 0.6658 - val_loss: 0.9817 - val_accuracy: 0.5602\n",
      "Epoch 23/50\n",
      "24/24 [==============================] - 0s 1ms/step - loss: 0.8102 - accuracy: 0.6684 - val_loss: 0.9835 - val_accuracy: 0.5497\n",
      "Epoch 24/50\n",
      "24/24 [==============================] - 0s 2ms/step - loss: 0.8074 - accuracy: 0.6737 - val_loss: 0.9904 - val_accuracy: 0.5550\n",
      "Epoch 25/50\n",
      "24/24 [==============================] - 0s 2ms/step - loss: 0.8024 - accuracy: 0.6789 - val_loss: 0.9867 - val_accuracy: 0.5654\n",
      "Epoch 26/50\n",
      "24/24 [==============================] - 0s 2ms/step - loss: 0.7932 - accuracy: 0.6803 - val_loss: 0.9884 - val_accuracy: 0.5550\n",
      "Epoch 27/50\n",
      "24/24 [==============================] - 0s 2ms/step - loss: 0.7917 - accuracy: 0.6711 - val_loss: 0.9903 - val_accuracy: 0.5759\n",
      "Epoch 28/50\n",
      "24/24 [==============================] - 0s 2ms/step - loss: 0.7822 - accuracy: 0.6855 - val_loss: 0.9949 - val_accuracy: 0.5602\n",
      "Epoch 29/50\n",
      "24/24 [==============================] - 0s 2ms/step - loss: 0.7781 - accuracy: 0.6803 - val_loss: 0.9906 - val_accuracy: 0.5602\n",
      "Epoch 30/50\n",
      "24/24 [==============================] - 0s 2ms/step - loss: 0.7721 - accuracy: 0.6882 - val_loss: 0.9920 - val_accuracy: 0.5602\n",
      "Epoch 31/50\n",
      "24/24 [==============================] - 0s 2ms/step - loss: 0.7658 - accuracy: 0.7013 - val_loss: 0.9903 - val_accuracy: 0.5445\n",
      "Epoch 32/50\n",
      "24/24 [==============================] - 0s 2ms/step - loss: 0.7629 - accuracy: 0.6882 - val_loss: 0.9971 - val_accuracy: 0.5340\n",
      "Epoch 33/50\n",
      "24/24 [==============================] - 0s 2ms/step - loss: 0.7555 - accuracy: 0.6961 - val_loss: 0.9965 - val_accuracy: 0.5602\n",
      "Epoch 34/50\n",
      "24/24 [==============================] - 0s 2ms/step - loss: 0.7520 - accuracy: 0.6974 - val_loss: 0.9941 - val_accuracy: 0.5445\n",
      "Epoch 35/50\n",
      "24/24 [==============================] - 0s 2ms/step - loss: 0.7456 - accuracy: 0.6961 - val_loss: 1.0036 - val_accuracy: 0.5602\n",
      "Epoch 36/50\n",
      "24/24 [==============================] - 0s 2ms/step - loss: 0.7446 - accuracy: 0.6987 - val_loss: 1.0041 - val_accuracy: 0.5654\n",
      "Epoch 37/50\n",
      "24/24 [==============================] - 0s 2ms/step - loss: 0.7383 - accuracy: 0.6987 - val_loss: 1.0084 - val_accuracy: 0.5707\n",
      "Epoch 38/50\n",
      "24/24 [==============================] - 0s 2ms/step - loss: 0.7322 - accuracy: 0.7079 - val_loss: 1.0062 - val_accuracy: 0.5654\n",
      "Epoch 39/50\n",
      "24/24 [==============================] - 0s 2ms/step - loss: 0.7302 - accuracy: 0.7039 - val_loss: 1.0143 - val_accuracy: 0.5550\n",
      "Epoch 40/50\n",
      "24/24 [==============================] - 0s 1ms/step - loss: 0.7234 - accuracy: 0.7066 - val_loss: 1.0058 - val_accuracy: 0.5497\n",
      "Epoch 41/50\n",
      "24/24 [==============================] - 0s 1ms/step - loss: 0.7183 - accuracy: 0.7105 - val_loss: 1.0108 - val_accuracy: 0.5497\n",
      "Epoch 42/50\n",
      "24/24 [==============================] - 0s 1ms/step - loss: 0.7167 - accuracy: 0.7105 - val_loss: 1.0192 - val_accuracy: 0.5602\n",
      "Epoch 43/50\n",
      "24/24 [==============================] - 0s 1000us/step - loss: 0.7104 - accuracy: 0.7224 - val_loss: 1.0255 - val_accuracy: 0.5550\n",
      "Epoch 44/50\n",
      "24/24 [==============================] - 0s 1ms/step - loss: 0.7020 - accuracy: 0.7197 - val_loss: 1.0206 - val_accuracy: 0.5497\n",
      "Epoch 45/50\n",
      "24/24 [==============================] - 0s 1ms/step - loss: 0.7015 - accuracy: 0.7263 - val_loss: 1.0254 - val_accuracy: 0.5550\n",
      "Epoch 46/50\n",
      "24/24 [==============================] - 0s 1ms/step - loss: 0.6949 - accuracy: 0.7171 - val_loss: 1.0236 - val_accuracy: 0.5759\n",
      "Epoch 47/50\n",
      "24/24 [==============================] - 0s 2ms/step - loss: 0.6946 - accuracy: 0.7263 - val_loss: 1.0300 - val_accuracy: 0.5602\n",
      "Epoch 48/50\n",
      "24/24 [==============================] - 0s 2ms/step - loss: 0.6917 - accuracy: 0.7211 - val_loss: 1.0402 - val_accuracy: 0.5654\n",
      "Epoch 49/50\n",
      "24/24 [==============================] - 0s 2ms/step - loss: 0.6831 - accuracy: 0.7224 - val_loss: 1.0248 - val_accuracy: 0.5654\n",
      "Epoch 50/50\n",
      "24/24 [==============================] - 0s 1ms/step - loss: 0.6787 - accuracy: 0.7303 - val_loss: 1.0431 - val_accuracy: 0.5602\n"
     ]
    }
   ],
   "source": [
    "history=model_a_1.fit(X_train, y_train,           \n",
    "          validation_split=0.2,\n",
    "          epochs=50,\n",
    "          batch_size=32,verbose=1)"
   ]
  },
  {
   "cell_type": "code",
   "execution_count": 39,
   "id": "2e7484cd",
   "metadata": {},
   "outputs": [
    {
     "data": {
      "text/plain": [
       "array([[4.2016199e-04, 1.3469023e-02, 7.6311034e-01, 2.2126688e-01,\n",
       "        1.7284139e-03, 5.1441339e-06],\n",
       "       [5.2684555e-03, 3.6877491e-02, 6.4783740e-01, 2.7994275e-01,\n",
       "        2.9849611e-02, 2.2423863e-04],\n",
       "       [3.8191221e-05, 8.3570700e-04, 2.5242023e-02, 5.7204676e-01,\n",
       "        3.0312714e-01, 9.8710217e-02],\n",
       "       ...,\n",
       "       [8.4219212e-03, 2.3931514e-01, 2.4817346e-01, 8.0268152e-02,\n",
       "        4.2308846e-01, 7.3283492e-04],\n",
       "       [3.7782956e-07, 3.0952255e-04, 1.4036509e-01, 5.5008447e-01,\n",
       "        3.0909294e-01, 1.4757202e-04],\n",
       "       [6.6331559e-04, 2.7022140e-02, 6.8251950e-01, 2.8758186e-01,\n",
       "        2.2109528e-03, 2.2947172e-06]], dtype=float32)"
      ]
     },
     "execution_count": 39,
     "metadata": {},
     "output_type": "execute_result"
    }
   ],
   "source": [
    "model_a_1.predict(X_test)"
   ]
  },
  {
   "cell_type": "code",
   "execution_count": 40,
   "id": "985715cf",
   "metadata": {},
   "outputs": [
    {
     "data": {
      "text/plain": [
       "array([[False, False,  True, False, False, False],\n",
       "       [False, False,  True, False, False, False],\n",
       "       [False, False, False,  True, False, False],\n",
       "       ...,\n",
       "       [False, False, False, False, False, False],\n",
       "       [False, False, False,  True, False, False],\n",
       "       [False, False,  True, False, False, False]])"
      ]
     },
     "execution_count": 40,
     "metadata": {},
     "output_type": "execute_result"
    }
   ],
   "source": [
    "y_pred_a_1=model_a_1.predict(X_test)\n",
    "y_pred_a_1 = (y_pred_a_1 > 0.5)\n",
    "y_pred_a_1"
   ]
  },
  {
   "cell_type": "code",
   "execution_count": 41,
   "id": "e95c839a",
   "metadata": {},
   "outputs": [],
   "source": [
    "# As our outputs are probabilities so we will try to get the output class from these probablities by getting the maximum value\n",
    "y_pred_a_1_final=[]\n",
    "for i in y_pred_a_1:\n",
    "  y_pred_a_1_final.append(np.argmax(i))"
   ]
  },
  {
   "cell_type": "code",
   "execution_count": 42,
   "id": "baad8826",
   "metadata": {},
   "outputs": [
    {
     "data": {
      "image/png": "[encoded data removed]",
      "text/plain": [
       "<Figure size 720x504 with 2 Axes>"
      ]
     },
     "metadata": {
      "needs_background": "light"
     },
     "output_type": "display_data"
    }
   ],
   "source": [
    "from sklearn.metrics import confusion_matrix\n",
    "import seaborn as sns\n",
    "\n",
    "cm=confusion_matrix(y_test,y_pred_a_1_final)\n",
    "\n",
    "plt.figure(figsize=(10,7))\n",
    "sns.heatmap(cm,annot=True,fmt='d')\n",
    "plt.xlabel('Predicted')\n",
    "plt.ylabel('Truth')\n",
    "plt.show()"
   ]
  },
  {
   "cell_type": "code",
   "execution_count": 43,
   "id": "2160a8eb",
   "metadata": {},
   "outputs": [
    {
     "name": "stdout",
     "output_type": "stream",
     "text": [
      "              precision    recall  f1-score   support\n",
      "\n",
      "           0       0.03      0.67      0.06         3\n",
      "           1       0.00      0.00      0.00        16\n",
      "           2       0.68      0.57      0.62       173\n",
      "           3       0.55      0.58      0.57       161\n",
      "           4       0.34      0.20      0.25        50\n",
      "           5       0.00      0.00      0.00         5\n",
      "\n",
      "    accuracy                           0.50       408\n",
      "   macro avg       0.27      0.34      0.25       408\n",
      "weighted avg       0.55      0.50      0.52       408\n",
      "\n"
     ]
    }
   ],
   "source": [
    "from sklearn.metrics import classification_report\n",
    "print(classification_report(y_test,y_pred_a_1_final))"
   ]
  },
  {
   "cell_type": "code",
   "execution_count": 44,
   "id": "479d36bf",
   "metadata": {},
   "outputs": [
    {
     "name": "stdout",
     "output_type": "stream",
     "text": [
      "[1, 3, 4, 10, 11, 12, 15, 16, 19, 20, 21, 23, 24, 25, 27, 30, 31, 33, 34, 35, 36, 38, 39, 41, 42, 43, 44, 49, 50, 51, 52, 53, 54, 55, 56, 59, 62, 64, 69, 70, 72, 74, 76, 77, 82, 86, 91, 93, 94, 96, 97, 98, 99, 100, 102, 103, 106, 107, 111, 115, 118, 122, 124, 125, 131, 142, 143, 144, 145, 146, 149, 150, 152, 154, 155, 156, 160, 161, 162, 163, 164, 167, 169, 170, 171, 175, 176, 178, 180, 183, 188, 194, 195, 199, 200, 203, 206, 207, 209, 210, 211, 213, 215, 218, 221, 222, 226, 227, 228, 230, 233, 235, 236, 237, 240, 242, 243, 244, 246, 248, 250, 253, 254, 255, 257, 259, 260, 262, 266, 267, 270, 273, 278, 279, 280, 282, 288, 289, 293, 299, 301, 302, 303, 304, 305, 306, 308, 309, 311, 314, 315, 317, 318, 319, 320, 321, 323, 324, 327, 328, 329, 330, 331, 332, 334, 336, 337, 338, 343, 344, 347, 348, 349, 352, 353, 354, 355, 357, 358, 360, 361, 363, 364, 365, 366, 370, 371, 372, 376, 378, 380, 383, 384, 385, 386, 388, 389, 390, 391, 392, 394, 397, 398, 401, 405]\n",
      "205\n"
     ]
    }
   ],
   "source": [
    "index = 0\n",
    "misclassified_images = []\n",
    "for label, predict in zip(y_test, y_pred_a_1_final):\n",
    "    if label != predict: \n",
    "        misclassified_images.append(index)\n",
    "    index +=1\n",
    "print(misclassified_images)\n",
    "print(len(misclassified_images))"
   ]
  },
  {
   "cell_type": "markdown",
   "id": "75d3d0fc",
   "metadata": {},
   "source": [
    "##### C. Plot 2 separate visuals. [3 Marks]\n",
    "##### i. Training Loss and Validation Loss\n",
    "##### ii. Training Accuracy and Validation Accuracy\n"
   ]
  },
  {
   "cell_type": "code",
   "execution_count": 45,
   "id": "0f500da6",
   "metadata": {},
   "outputs": [
    {
     "name": "stdout",
     "output_type": "stream",
     "text": [
      "[1.0979797840118408, 0.5857843160629272]\n"
     ]
    },
    {
     "data": {
      "image/png": "[encoded data removed]",
      "text/plain": [
       "<Figure size 432x288 with 1 Axes>"
      ]
     },
     "metadata": {
      "needs_background": "light"
     },
     "output_type": "display_data"
    }
   ],
   "source": [
    "# Capturing learning history per epoch\n",
    "hist  = pd.DataFrame(history.history)\n",
    "hist['epoch'] = history.epoch\n",
    "\n",
    "# Plotting loss at different epochs\n",
    "plt.plot(hist['loss'])\n",
    "plt.plot(hist['val_loss'])\n",
    "plt.title('Training and Validation Loss')\n",
    "plt.ylabel('Loss')\n",
    "plt.xlabel('Epoch')\n",
    "plt.legend((\"Training\" , \"Validation\") , loc ='best')\n",
    "\n",
    "#Printing results\n",
    "results = model_a_1.evaluate(X_test, y_test_cat, verbose=False)\n",
    "print(results)"
   ]
  },
  {
   "cell_type": "code",
   "execution_count": 46,
   "id": "6f868de3",
   "metadata": {},
   "outputs": [
    {
     "data": {
      "image/png": "[encoded data removed]",
      "text/plain": [
       "<Figure size 432x288 with 1 Axes>"
      ]
     },
     "metadata": {
      "needs_background": "light"
     },
     "output_type": "display_data"
    }
   ],
   "source": [
    "loss, accuracy  = model_a_1.evaluate(X_test, y_test_cat, verbose=False)\n",
    "    \n",
    "plt.plot(history.history['accuracy'])\n",
    "plt.plot(history.history['val_accuracy'])\n",
    "plt.title('Training and Validation Accuracy')\n",
    "plt.ylabel('Accuracy')\n",
    "plt.xlabel('Epoch')\n",
    "plt.legend(['Training', 'Validation'], loc='best')\n",
    "plt.show()"
   ]
  },
  {
   "cell_type": "markdown",
   "id": "1cff07f8",
   "metadata": {},
   "source": [
    "From Training and Validation Loss plot, we could observe that the from Epoch 8, the validation loss remains the same whereas the training loss gets decreasing, this means the model is overfit during training stage.\n",
    "\n",
    "From Training and Validation Accuracy plot, we could observe that the from Epoch 3, the validation accuracy has less oscilation whereas the training accuracy gets increasing, this also means the model is overfit during training stage.\n",
    "\n",
    "To avoid overfitting we need to use Regularisation methods, in this case we are adopting dropout and batch normalization methods."
   ]
  },
  {
   "cell_type": "markdown",
   "id": "14ae12fb",
   "metadata": {},
   "source": [
    "##### D. Design new architecture/update existing architecture in attempt to improve the performance of the model. [2 Marks]\n"
   ]
  },
  {
   "cell_type": "markdown",
   "id": "6fd2bee0",
   "metadata": {},
   "source": [
    "To avoid overfitting we are using Regularisation methods, dropout and batch normalization.\n",
    "\n",
    "After doing many trial and errors, for our case, Dropout with 0.7 suits the best for accuracy and also to avoid overfitting."
   ]
  },
  {
   "cell_type": "code",
   "execution_count": 47,
   "id": "f79bee3d",
   "metadata": {},
   "outputs": [],
   "source": [
    "# create model\n",
    "model_a_2 = Sequential()  \n",
    "\n",
    "model_a_2.add(Dense(activation = 'relu', input_dim = 11, units=64))\n",
    "\n",
    "model_a_2.add(Dense(256, activation='relu',kernel_initializer='he_uniform')) ###Multiple Dense units with Relu activation\n",
    "model_a_2.add(Dense(128, activation='relu',kernel_initializer='he_uniform'))\n",
    "model_a_2.add(Dense(64, activation='relu',kernel_initializer='he_uniform'))\n",
    "model_a_2.add(Dense(64, activation='relu',kernel_initializer='he_uniform'))\n",
    "\n",
    "model_a_2.add(Dropout(0.8))\n",
    "model_a_2.add(BatchNormalization())\n",
    "\n",
    "model_a_2.add(Dense(num_classes, activation='softmax')) ### For multiclass classification Softmax is used "
   ]
  },
  {
   "cell_type": "code",
   "execution_count": 48,
   "id": "5bf1b70f",
   "metadata": {},
   "outputs": [],
   "source": [
    "# Create optimizer with default learning rate\n",
    "# Compile the model\n",
    "model_a_2.compile(optimizer='adam', loss='categorical_crossentropy', metrics=['accuracy'])"
   ]
  },
  {
   "cell_type": "code",
   "execution_count": 49,
   "id": "ea7426e5",
   "metadata": {},
   "outputs": [
    {
     "name": "stdout",
     "output_type": "stream",
     "text": [
      "Model: \"sequential_1\"\n",
      "_________________________________________________________________\n",
      "Layer (type)                 Output Shape              Param #   \n",
      "=================================================================\n",
      "dense_3 (Dense)              (None, 64)                768       \n",
      "_________________________________________________________________\n",
      "dense_4 (Dense)              (None, 256)               16640     \n",
      "_________________________________________________________________\n",
      "dense_5 (Dense)              (None, 128)               32896     \n",
      "_________________________________________________________________\n",
      "dense_6 (Dense)              (None, 64)                8256      \n",
      "_________________________________________________________________\n",
      "dense_7 (Dense)              (None, 64)                4160      \n",
      "_________________________________________________________________\n",
      "dropout (Dropout)            (None, 64)                0         \n",
      "_________________________________________________________________\n",
      "batch_normalization (BatchNo (None, 64)                256       \n",
      "_________________________________________________________________\n",
      "dense_8 (Dense)              (None, 6)                 390       \n",
      "=================================================================\n",
      "Total params: 63,366\n",
      "Trainable params: 63,238\n",
      "Non-trainable params: 128\n",
      "_________________________________________________________________\n"
     ]
    }
   ],
   "source": [
    "model_a_2.summary()"
   ]
  },
  {
   "cell_type": "code",
   "execution_count": 50,
   "id": "0f5a8337",
   "metadata": {},
   "outputs": [
    {
     "name": "stdout",
     "output_type": "stream",
     "text": [
      "Epoch 1/50\n",
      "24/24 [==============================] - 0s 6ms/step - loss: 2.0873 - accuracy: 0.2250 - val_loss: 1.7654 - val_accuracy: 0.4084\n",
      "Epoch 2/50\n",
      "24/24 [==============================] - 0s 2ms/step - loss: 1.8016 - accuracy: 0.3026 - val_loss: 1.5427 - val_accuracy: 0.4660\n",
      "Epoch 3/50\n",
      "24/24 [==============================] - 0s 2ms/step - loss: 1.7023 - accuracy: 0.3632 - val_loss: 1.3838 - val_accuracy: 0.5550\n",
      "Epoch 4/50\n",
      "24/24 [==============================] - 0s 2ms/step - loss: 1.5157 - accuracy: 0.4184 - val_loss: 1.2524 - val_accuracy: 0.5812\n",
      "Epoch 5/50\n",
      "24/24 [==============================] - 0s 2ms/step - loss: 1.4072 - accuracy: 0.4829 - val_loss: 1.2172 - val_accuracy: 0.5969\n",
      "Epoch 6/50\n",
      "24/24 [==============================] - 0s 2ms/step - loss: 1.2912 - accuracy: 0.5329 - val_loss: 1.1450 - val_accuracy: 0.6021\n",
      "Epoch 7/50\n",
      "24/24 [==============================] - 0s 2ms/step - loss: 1.2448 - accuracy: 0.5382 - val_loss: 1.0743 - val_accuracy: 0.5812\n",
      "Epoch 8/50\n",
      "24/24 [==============================] - 0s 2ms/step - loss: 1.1743 - accuracy: 0.5303 - val_loss: 1.0770 - val_accuracy: 0.5969\n",
      "Epoch 9/50\n",
      "24/24 [==============================] - ETA: 0s - loss: 1.3202 - accuracy: 0.43 - 0s 2ms/step - loss: 1.1809 - accuracy: 0.5461 - val_loss: 1.0413 - val_accuracy: 0.5916\n",
      "Epoch 10/50\n",
      "24/24 [==============================] - 0s 2ms/step - loss: 1.1617 - accuracy: 0.5382 - val_loss: 1.0142 - val_accuracy: 0.6073\n",
      "Epoch 11/50\n",
      "24/24 [==============================] - 0s 2ms/step - loss: 1.1305 - accuracy: 0.5474 - val_loss: 0.9933 - val_accuracy: 0.6073\n",
      "Epoch 12/50\n",
      "24/24 [==============================] - 0s 2ms/step - loss: 1.1288 - accuracy: 0.5382 - val_loss: 0.9821 - val_accuracy: 0.6073\n",
      "Epoch 13/50\n",
      "24/24 [==============================] - 0s 2ms/step - loss: 1.0947 - accuracy: 0.5632 - val_loss: 1.0283 - val_accuracy: 0.5497\n",
      "Epoch 14/50\n",
      "24/24 [==============================] - 0s 2ms/step - loss: 1.1181 - accuracy: 0.5395 - val_loss: 0.9861 - val_accuracy: 0.6230\n",
      "Epoch 15/50\n",
      "24/24 [==============================] - 0s 2ms/step - loss: 1.0991 - accuracy: 0.5566 - val_loss: 1.0586 - val_accuracy: 0.5131\n",
      "Epoch 16/50\n",
      "24/24 [==============================] - 0s 2ms/step - loss: 1.0931 - accuracy: 0.5645 - val_loss: 1.0175 - val_accuracy: 0.5183\n",
      "Epoch 17/50\n",
      "24/24 [==============================] - 0s 2ms/step - loss: 1.0962 - accuracy: 0.5342 - val_loss: 1.0388 - val_accuracy: 0.5812\n",
      "Epoch 18/50\n",
      "24/24 [==============================] - 0s 2ms/step - loss: 1.0689 - accuracy: 0.5592 - val_loss: 0.9784 - val_accuracy: 0.5916\n",
      "Epoch 19/50\n",
      "24/24 [==============================] - 0s 2ms/step - loss: 1.0977 - accuracy: 0.5526 - val_loss: 0.9622 - val_accuracy: 0.5759\n",
      "Epoch 20/50\n",
      "24/24 [==============================] - 0s 2ms/step - loss: 1.0713 - accuracy: 0.5539 - val_loss: 0.9531 - val_accuracy: 0.6230\n",
      "Epoch 21/50\n",
      "24/24 [==============================] - 0s 2ms/step - loss: 1.0620 - accuracy: 0.5395 - val_loss: 0.9709 - val_accuracy: 0.5759\n",
      "Epoch 22/50\n",
      "24/24 [==============================] - 0s 2ms/step - loss: 1.0422 - accuracy: 0.5711 - val_loss: 0.9352 - val_accuracy: 0.6073\n",
      "Epoch 23/50\n",
      "24/24 [==============================] - 0s 2ms/step - loss: 1.0224 - accuracy: 0.5684 - val_loss: 0.9370 - val_accuracy: 0.6283\n",
      "Epoch 24/50\n",
      "24/24 [==============================] - 0s 2ms/step - loss: 1.0580 - accuracy: 0.5868 - val_loss: 0.9445 - val_accuracy: 0.5864\n",
      "Epoch 25/50\n",
      "24/24 [==============================] - 0s 2ms/step - loss: 1.0382 - accuracy: 0.5645 - val_loss: 0.9490 - val_accuracy: 0.5969\n",
      "Epoch 26/50\n",
      "24/24 [==============================] - 0s 2ms/step - loss: 1.0282 - accuracy: 0.5934 - val_loss: 0.9627 - val_accuracy: 0.6126\n",
      "Epoch 27/50\n",
      "24/24 [==============================] - 0s 2ms/step - loss: 0.9837 - accuracy: 0.5855 - val_loss: 0.9648 - val_accuracy: 0.5969\n",
      "Epoch 28/50\n",
      "24/24 [==============================] - 0s 2ms/step - loss: 1.0400 - accuracy: 0.5645 - val_loss: 0.9576 - val_accuracy: 0.6021\n",
      "Epoch 29/50\n",
      "24/24 [==============================] - 0s 2ms/step - loss: 1.0097 - accuracy: 0.5763 - val_loss: 0.9780 - val_accuracy: 0.6126\n",
      "Epoch 30/50\n",
      "24/24 [==============================] - 0s 2ms/step - loss: 1.0094 - accuracy: 0.5934 - val_loss: 0.9451 - val_accuracy: 0.6335\n",
      "Epoch 31/50\n",
      "24/24 [==============================] - 0s 2ms/step - loss: 1.0067 - accuracy: 0.6013 - val_loss: 0.9675 - val_accuracy: 0.6021\n",
      "Epoch 32/50\n",
      "24/24 [==============================] - 0s 2ms/step - loss: 1.0455 - accuracy: 0.5974 - val_loss: 0.9401 - val_accuracy: 0.6021\n",
      "Epoch 33/50\n",
      "24/24 [==============================] - 0s 2ms/step - loss: 1.0076 - accuracy: 0.6013 - val_loss: 0.9636 - val_accuracy: 0.5864\n",
      "Epoch 34/50\n",
      "24/24 [==============================] - 0s 2ms/step - loss: 0.9909 - accuracy: 0.5961 - val_loss: 0.9432 - val_accuracy: 0.6073\n",
      "Epoch 35/50\n",
      "24/24 [==============================] - 0s 2ms/step - loss: 0.9767 - accuracy: 0.6237 - val_loss: 0.9557 - val_accuracy: 0.5812\n",
      "Epoch 36/50\n",
      "24/24 [==============================] - 0s 2ms/step - loss: 1.0011 - accuracy: 0.6145 - val_loss: 0.9319 - val_accuracy: 0.6073\n",
      "Epoch 37/50\n",
      "24/24 [==============================] - 0s 2ms/step - loss: 0.9877 - accuracy: 0.5947 - val_loss: 0.9454 - val_accuracy: 0.6126\n",
      "Epoch 38/50\n",
      "24/24 [==============================] - 0s 2ms/step - loss: 0.9916 - accuracy: 0.5961 - val_loss: 0.9378 - val_accuracy: 0.6230\n",
      "Epoch 39/50\n",
      "24/24 [==============================] - 0s 2ms/step - loss: 0.9648 - accuracy: 0.6066 - val_loss: 0.9437 - val_accuracy: 0.5864\n",
      "Epoch 40/50\n",
      "24/24 [==============================] - 0s 2ms/step - loss: 1.0047 - accuracy: 0.6026 - val_loss: 0.9715 - val_accuracy: 0.5550\n",
      "Epoch 41/50\n",
      "24/24 [==============================] - 0s 2ms/step - loss: 0.9817 - accuracy: 0.6171 - val_loss: 0.9400 - val_accuracy: 0.5864\n",
      "Epoch 42/50\n",
      "24/24 [==============================] - 0s 2ms/step - loss: 0.9831 - accuracy: 0.6039 - val_loss: 1.0256 - val_accuracy: 0.5550\n",
      "Epoch 43/50\n",
      "24/24 [==============================] - 0s 2ms/step - loss: 1.0003 - accuracy: 0.5789 - val_loss: 0.9708 - val_accuracy: 0.6178\n",
      "Epoch 44/50\n",
      "24/24 [==============================] - 0s 2ms/step - loss: 0.9726 - accuracy: 0.6079 - val_loss: 0.9290 - val_accuracy: 0.6021\n",
      "Epoch 45/50\n",
      "24/24 [==============================] - 0s 3ms/step - loss: 0.9549 - accuracy: 0.6487 - val_loss: 0.9231 - val_accuracy: 0.6178\n",
      "Epoch 46/50\n",
      "24/24 [==============================] - 0s 2ms/step - loss: 0.9414 - accuracy: 0.6316 - val_loss: 0.9261 - val_accuracy: 0.6073\n",
      "Epoch 47/50\n",
      "24/24 [==============================] - 0s 1ms/step - loss: 0.9336 - accuracy: 0.6276 - val_loss: 0.9289 - val_accuracy: 0.5969\n",
      "Epoch 48/50\n",
      "24/24 [==============================] - 0s 2ms/step - loss: 0.9549 - accuracy: 0.6263 - val_loss: 0.9392 - val_accuracy: 0.5916\n",
      "Epoch 49/50\n",
      "24/24 [==============================] - 0s 2ms/step - loss: 0.9117 - accuracy: 0.6316 - val_loss: 0.9591 - val_accuracy: 0.5969\n",
      "Epoch 50/50\n",
      "24/24 [==============================] - 0s 2ms/step - loss: 0.9314 - accuracy: 0.6553 - val_loss: 0.9418 - val_accuracy: 0.6021\n"
     ]
    }
   ],
   "source": [
    "history=model_a_2.fit(X_train, y_train,           \n",
    "          validation_split=0.2,\n",
    "          epochs=50,\n",
    "          batch_size=32,verbose=1)"
   ]
  },
  {
   "cell_type": "code",
   "execution_count": 51,
   "id": "c89979d4",
   "metadata": {},
   "outputs": [
    {
     "data": {
      "text/plain": [
       "array([[0.00669032, 0.02771886, 0.63647527, 0.2898959 , 0.03594299,\n",
       "        0.00327662],\n",
       "       [0.00608501, 0.03009374, 0.6168591 , 0.30997816, 0.03369288,\n",
       "        0.00329122],\n",
       "       [0.00225471, 0.00686539, 0.02200025, 0.5304617 , 0.3927955 ,\n",
       "        0.04562239],\n",
       "       ...,\n",
       "       [0.0115251 , 0.03726634, 0.2374476 , 0.52893203, 0.16497292,\n",
       "        0.01985603],\n",
       "       [0.00950722, 0.03226095, 0.2225456 , 0.5486695 , 0.16654183,\n",
       "        0.02047492],\n",
       "       [0.00524847, 0.02313763, 0.74663687, 0.20542136, 0.01758279,\n",
       "        0.00197292]], dtype=float32)"
      ]
     },
     "execution_count": 51,
     "metadata": {},
     "output_type": "execute_result"
    }
   ],
   "source": [
    "model_a_2.predict(X_test)"
   ]
  },
  {
   "cell_type": "code",
   "execution_count": 52,
   "id": "1333991e",
   "metadata": {},
   "outputs": [
    {
     "data": {
      "text/plain": [
       "array([[False, False,  True, False, False, False],\n",
       "       [False, False,  True, False, False, False],\n",
       "       [False, False, False,  True, False, False],\n",
       "       ...,\n",
       "       [False, False, False,  True, False, False],\n",
       "       [False, False, False,  True, False, False],\n",
       "       [False, False,  True, False, False, False]])"
      ]
     },
     "execution_count": 52,
     "metadata": {},
     "output_type": "execute_result"
    }
   ],
   "source": [
    "y_pred_a_2=model_a_2.predict(X_test)\n",
    "y_pred_a_2 = (y_pred_a_2 > 0.5)\n",
    "y_pred_a_2"
   ]
  },
  {
   "cell_type": "code",
   "execution_count": 53,
   "id": "53fa2e96",
   "metadata": {},
   "outputs": [],
   "source": [
    "# As our outputs are probabilities so we will try to get the output class from these probablities by getting the maximum value\n",
    "y_pred_a_2_final=[]\n",
    "for i in y_pred_a_2:\n",
    "  y_pred_a_2_final.append(np.argmax(i))"
   ]
  },
  {
   "cell_type": "code",
   "execution_count": 54,
   "id": "6d222643",
   "metadata": {},
   "outputs": [
    {
     "data": {
      "image/png": "[encoded data removed]",
      "text/plain": [
       "<Figure size 720x504 with 2 Axes>"
      ]
     },
     "metadata": {
      "needs_background": "light"
     },
     "output_type": "display_data"
    }
   ],
   "source": [
    "from sklearn.metrics import confusion_matrix\n",
    "import seaborn as sns\n",
    "\n",
    "cm=confusion_matrix(y_test,y_pred_a_2_final)\n",
    "\n",
    "plt.figure(figsize=(10,7))\n",
    "sns.heatmap(cm,annot=True,fmt='d')\n",
    "plt.xlabel('Predicted')\n",
    "plt.ylabel('Truth')\n",
    "plt.show()"
   ]
  },
  {
   "cell_type": "code",
   "execution_count": 55,
   "id": "f9989cdb",
   "metadata": {},
   "outputs": [
    {
     "name": "stdout",
     "output_type": "stream",
     "text": [
      "              precision    recall  f1-score   support\n",
      "\n",
      "           0       0.01      0.33      0.02         3\n",
      "           1       0.00      0.00      0.00        16\n",
      "           2       0.69      0.65      0.67       173\n",
      "           3       0.50      0.42      0.46       161\n",
      "           4       0.25      0.02      0.04        50\n",
      "           5       0.00      0.00      0.00         5\n",
      "\n",
      "    accuracy                           0.45       408\n",
      "   macro avg       0.24      0.24      0.20       408\n",
      "weighted avg       0.52      0.45      0.47       408\n",
      "\n"
     ]
    }
   ],
   "source": [
    "from sklearn.metrics import classification_report\n",
    "print(classification_report(y_test,y_pred_a_2_final))"
   ]
  },
  {
   "cell_type": "code",
   "execution_count": 56,
   "id": "c5c317e1",
   "metadata": {},
   "outputs": [
    {
     "name": "stdout",
     "output_type": "stream",
     "text": [
      "[1, 3, 4, 5, 7, 9, 10, 12, 14, 16, 18, 19, 20, 23, 24, 25, 27, 30, 31, 34, 35, 36, 37, 39, 41, 42, 43, 44, 48, 49, 50, 51, 52, 53, 56, 58, 59, 60, 62, 64, 66, 68, 69, 70, 73, 74, 76, 82, 86, 89, 91, 93, 94, 96, 97, 98, 99, 100, 102, 103, 104, 106, 107, 108, 111, 112, 113, 115, 116, 118, 119, 122, 124, 125, 128, 130, 131, 136, 142, 143, 144, 146, 149, 150, 152, 154, 155, 156, 160, 162, 163, 164, 167, 168, 169, 173, 175, 178, 179, 180, 183, 186, 188, 195, 198, 199, 200, 201, 203, 206, 207, 209, 210, 211, 215, 216, 217, 218, 219, 221, 222, 226, 228, 230, 231, 233, 234, 235, 236, 240, 242, 244, 246, 248, 250, 252, 253, 254, 255, 257, 259, 260, 261, 263, 264, 267, 270, 273, 279, 285, 286, 288, 289, 291, 292, 293, 295, 296, 298, 299, 300, 301, 303, 304, 305, 309, 310, 314, 315, 316, 318, 319, 320, 321, 322, 323, 324, 327, 328, 329, 331, 332, 334, 336, 337, 338, 342, 343, 344, 345, 346, 348, 352, 353, 354, 357, 358, 360, 361, 363, 364, 365, 366, 367, 368, 369, 370, 371, 372, 376, 378, 380, 382, 383, 384, 385, 388, 389, 391, 392, 393, 398, 401, 403, 404, 405]\n",
      "226\n"
     ]
    }
   ],
   "source": [
    "index = 0\n",
    "misclassified_images = []\n",
    "for label, predict in zip(y_test, y_pred_a_2_final):\n",
    "    if label != predict: \n",
    "        misclassified_images.append(index)\n",
    "    index +=1\n",
    "print(misclassified_images)\n",
    "print(len(misclassified_images))"
   ]
  },
  {
   "cell_type": "markdown",
   "id": "751d05ba",
   "metadata": {},
   "source": [
    "##### E. Plot visuals as in Q3.C and share insights about difference observed in both the models. [3 Marks]"
   ]
  },
  {
   "cell_type": "code",
   "execution_count": 57,
   "id": "09b3435d",
   "metadata": {},
   "outputs": [
    {
     "name": "stdout",
     "output_type": "stream",
     "text": [
      "[1.0520598888397217, 0.5857843160629272]\n"
     ]
    },
    {
     "data": {
      "image/png": "[encoded data removed]",
      "text/plain": [
       "<Figure size 432x288 with 1 Axes>"
      ]
     },
     "metadata": {
      "needs_background": "light"
     },
     "output_type": "display_data"
    }
   ],
   "source": [
    "# Capturing learning history per epoch\n",
    "hist  = pd.DataFrame(history.history)\n",
    "hist['epoch'] = history.epoch\n",
    "\n",
    "# Plotting loss at different epochs\n",
    "plt.plot(hist['loss'])\n",
    "plt.plot(hist['val_loss'])\n",
    "plt.title('Training and Validation Loss')\n",
    "plt.ylabel('Loss')\n",
    "plt.xlabel('Epoch')\n",
    "plt.legend((\"Training\" , \"Validation\") , loc ='best')\n",
    "\n",
    "#Printing results\n",
    "results = model_a_2.evaluate(X_test, y_test_cat, verbose=False)\n",
    "print(results)"
   ]
  },
  {
   "cell_type": "code",
   "execution_count": 58,
   "id": "01fa69b1",
   "metadata": {},
   "outputs": [
    {
     "data": {
      "image/png": "[encoded data removed]",
      "text/plain": [
       "<Figure size 432x288 with 1 Axes>"
      ]
     },
     "metadata": {
      "needs_background": "light"
     },
     "output_type": "display_data"
    }
   ],
   "source": [
    "loss, accuracy  = model_a_2.evaluate(X_test, y_test_cat, verbose=False)\n",
    "    \n",
    "plt.plot(history.history['accuracy'])\n",
    "plt.plot(history.history['val_accuracy'])\n",
    "plt.title('Training and Validation Accuracy')\n",
    "plt.ylabel('Accuracy')\n",
    "plt.xlabel('Epoch')\n",
    "plt.legend(['Training', 'Validation'], loc='best')\n",
    "plt.show()"
   ]
  },
  {
   "cell_type": "markdown",
   "id": "7d36a111",
   "metadata": {},
   "source": [
    "Insights after comparing previous model and the final model:\n",
    "\n",
    "**In previous model:**\n",
    "\n",
    "We could observe that model with 2 hidden layers gave the accuracy of 0.5 and misclassification of 204. But, the issue is it is overfitting as we have not used any regularization methods.\n",
    "\n",
    "From Training and Validation Loss plot, we could observe that the from Epoch 8, the validation loss remains the same whereas the training loss gets decreasing, this means the model is overfit during training stage.\n",
    "\n",
    "From Training and Validation Accuracy plot, we could observe that the from Epoch 3, the validation accuracy has less oscilation whereas the training accuracy gets increasing, this also means the model is overfit during training stage.\n",
    "\n",
    "To avoid overfitting we need to use Regularisation methods, in this case we are adopting dropout and batch normalization methods.\n",
    "\n",
    "**In final model:**\n",
    "\n",
    "After doing many trial and error, we could observe that model with 4 hidden layers and dropout of 0.8 and batch normalisation gave the best accuracy of 0.49 and misclassification of 207. The regularisation methods made sure that overfitting is avoided.\n",
    "\n",
    "From Training and Validation Loss plot, we could observe that the at Epoch ~45, the validation loss and the training loss are same and least with value less than 1.0, this means the model is not overfitting or underfitting.\n",
    "\n",
    "Similarly from Training and Validation Accuracy plot, we could observe that the at Epoch ~45, the validation accuracy and the training accuracy are same and highest with value ~55%, this also means model is not overfitting or underfitting."
   ]
  },
  {
   "cell_type": "markdown",
   "id": "da2d1690",
   "metadata": {},
   "source": [
    "# Part B - 30 Marks"
   ]
  },
  {
   "attachments": {
    "image.png": {
     "image/png": "[encoded data removed]"
    }
   },
   "cell_type": "markdown",
   "id": "3a9623b8",
   "metadata": {},
   "source": [
    "• **DOMAIN:** Autonomous Vehicles\n",
    "\n",
    "• **CONTEXT:** A Recognising multi-digit numbers in photographs captured at street level is an important component of modern-day map making. A classic example of a corpus of such street-level photographs is Google’s Street View imagery composed of hundreds of millions of geo-located 360-degree panoramic images. The ability to automatically transcribe an address number from a geo-located patch of pixels and associate the transcribed number with a known street address helps pinpoint, with a high degree of accuracy, the location of the building it represents. More broadly, recognising numbers in photographs is a problem of interest to the optical character recognition community. While OCR on constrained domains like document processing is well studied, arbitrary multi-character text recognition in photographs is still highly challenging. This difficulty arises due to the wide variability in the visual appearance of text in the wild on account of a large range of fonts, colours, styles, orientations, and character arrangements. \n",
    "\n",
    "The recognition problem is further complicated by environmental factors such as lighting, shadows, specularity, and occlusions as well as by image acquisition factors such as resolution, motion, and focus blurs. In this project, we will use the dataset with images centred around a single digit (many of the images do contain some distractors at the sides). Although we are taking a sample of the data which is simpler, it is more complex than MNIST because of the distractors.\n",
    "\n",
    "• **DATA DESCRIPTION:** The SVHN is a real-world image dataset for developing machine learning and object recognition algorithms with the minimal requirement on data formatting but comes from a significantly harder, unsolved, real-world problem (recognising digits and numbers in natural scene images). SVHN is obtained from house numbers in Google Street View images.\n",
    "\n",
    "![image.png](attachment:image.png)\n",
    "\n",
    "Where the labels for each of this image are the prominent number in that image i.e. 2,6,7 and 4 respectively.\n",
    "\n",
    "The dataset has been provided in the form of h5py files. You can read about this file format here: https://docs.h5py.org/en/stable/\n",
    "\n",
    "Acknowledgement: Yuval Netzer, Tao Wang, Adam Coates, Alessandro Bissacco, Bo Wu, Andrew Y. Ng Reading Digits in Natural Images with Unsupervised \n",
    "\n",
    "Feature Learning NIPS Workshop on Deep Learning and Unsupervised Feature Learning 2011. PDF\n",
    "http://ufldl.stanford.edu/housenumbers as the URL for this site.\n",
    "\n",
    "• **PROJECT OBJECTIVE:** To build a digit classifier on the SVHN (Street View Housing Number) dataset.\n",
    "\n",
    "### Steps and tasks: [ Total Score: 30 Marks]"
   ]
  },
  {
   "cell_type": "markdown",
   "id": "b6f7cec9",
   "metadata": {},
   "source": [
    "#### 1. Data Import and Exploration [5 Marks]\n"
   ]
  },
  {
   "cell_type": "markdown",
   "id": "783a0eb2",
   "metadata": {},
   "source": [
    "##### A. Read the .h5 file and assign to a variable. [2 Marks]\n"
   ]
  },
  {
   "cell_type": "code",
   "execution_count": 59,
   "id": "ce879f16",
   "metadata": {},
   "outputs": [],
   "source": [
    "import h5py"
   ]
  },
  {
   "cell_type": "code",
   "execution_count": 60,
   "id": "999deb7f",
   "metadata": {},
   "outputs": [],
   "source": [
    "hf = h5py.File('Autonomous_Vehicles_SVHN_single_grey1.h5', 'r')"
   ]
  },
  {
   "cell_type": "markdown",
   "id": "fd2d47a6",
   "metadata": {},
   "source": [
    "##### B. Print all the keys from the .h5 file. [1 Marks]\n"
   ]
  },
  {
   "cell_type": "code",
   "execution_count": 61,
   "id": "0164175a",
   "metadata": {},
   "outputs": [
    {
     "name": "stdout",
     "output_type": "stream",
     "text": [
      "List of keys from the Autonomous_Vehicles_SVHN_single_grey1.h5 files are: <KeysViewHDF5 ['X_test', 'X_train', 'X_val', 'y_test', 'y_train', 'y_val']>\n"
     ]
    }
   ],
   "source": [
    "print(\"List of keys from the Autonomous_Vehicles_SVHN_single_grey1.h5 files are:\" , hf.keys())"
   ]
  },
  {
   "cell_type": "markdown",
   "id": "600c6e52",
   "metadata": {},
   "source": [
    "##### C. Split the data into X_train, X_test, Y_train, Y_test [2 Marks]\n"
   ]
  },
  {
   "cell_type": "code",
   "execution_count": 62,
   "id": "5263810e",
   "metadata": {},
   "outputs": [],
   "source": [
    "X_test = hf.get('X_test')\n",
    "X_train = hf.get('X_train')\n",
    "X_val = hf.get('X_val')\n",
    "y_test = hf.get('y_test')\n",
    "y_train = hf.get('y_train')\n",
    "y_val = hf.get('y_val')"
   ]
  },
  {
   "cell_type": "code",
   "execution_count": 63,
   "id": "53bc1a46",
   "metadata": {},
   "outputs": [],
   "source": [
    "X_test = np.array(X_test)\n",
    "X_train = np.array(X_train)\n",
    "X_val = np.array(X_val)\n",
    "y_test = np.array(y_test)\n",
    "y_train = np.array(y_train)\n",
    "y_val = np.array(y_val)"
   ]
  },
  {
   "cell_type": "code",
   "execution_count": 64,
   "id": "848d934c",
   "metadata": {},
   "outputs": [
    {
     "name": "stdout",
     "output_type": "stream",
     "text": [
      "(42000, 32, 32)\n",
      "(60000, 32, 32)\n",
      "(18000, 32, 32)\n",
      "(42000,)\n",
      "(60000,)\n",
      "(18000,)\n"
     ]
    }
   ],
   "source": [
    "###Checking the shape of train and test sets\n",
    "print(X_train.shape)\n",
    "print(X_val.shape)\n",
    "print(X_test.shape)\n",
    "\n",
    "print(y_train.shape)\n",
    "print(y_val.shape)\n",
    "print(y_test.shape)"
   ]
  },
  {
   "cell_type": "markdown",
   "id": "27f6c9ff",
   "metadata": {},
   "source": [
    "#### 2. Data Visualisation and preprocessing [13 Marks]\n"
   ]
  },
  {
   "cell_type": "markdown",
   "id": "69e8194b",
   "metadata": {},
   "source": [
    "##### A. Print shape of all the 4 data split into x, y, train, test to verify if x & y is in sync. [1 Marks]\n"
   ]
  },
  {
   "cell_type": "code",
   "execution_count": 65,
   "id": "5bc11b0b",
   "metadata": {},
   "outputs": [
    {
     "name": "stdout",
     "output_type": "stream",
     "text": [
      "(42000, 32, 32)\n",
      "(60000, 32, 32)\n",
      "(18000, 32, 32)\n",
      "(42000,)\n",
      "(60000,)\n",
      "(18000,)\n"
     ]
    }
   ],
   "source": [
    "###Checking the shape of train and test sets\n",
    "print(X_train.shape)\n",
    "print(X_val.shape)\n",
    "print(X_test.shape)\n",
    "\n",
    "print(y_train.shape)\n",
    "print(y_val.shape)\n",
    "print(y_test.shape)"
   ]
  },
  {
   "cell_type": "markdown",
   "id": "28788fff",
   "metadata": {},
   "source": [
    "The value of X_train and y_train are 42000, X_test and y_test are 18000, X_val and y_val are 60000. \n",
    "Also, X_train + X_test 942000 + 18000 = 60000), where X_val shape is 60000.\n",
    "Thus, all x, y, train, test are in sync.\n",
    "\n",
    "Thus, the pixel size of X_train, X_val and X_test are uniform with value 32x32. Also, y_train, y_val and y_test data has only one column. Thus, all data splits are in sync."
   ]
  },
  {
   "cell_type": "markdown",
   "id": "a0b75be5",
   "metadata": {},
   "source": [
    "##### B. Visualise first 10 images in train data and print its corresponding labels. [4 Marks]\n"
   ]
  },
  {
   "cell_type": "code",
   "execution_count": 66,
   "id": "fe6e5d48",
   "metadata": {},
   "outputs": [
    {
     "data": {
      "image/png": "[encoded data removed]",
      "text/plain": [
       "<Figure size 720x72 with 10 Axes>"
      ]
     },
     "metadata": {
      "needs_background": "light"
     },
     "output_type": "display_data"
    },
    {
     "name": "stdout",
     "output_type": "stream",
     "text": [
      "label for each of the above image: [2 6 7 4 4 0 3 0 7 3]\n"
     ]
    }
   ],
   "source": [
    "# visualizing the first 10 images in the dataset and their labels\n",
    "%matplotlib inline\n",
    "import matplotlib.pyplot as plt\n",
    "plt.figure(figsize=(10, 1))\n",
    "for i in range(10):\n",
    "    plt.subplot(1, 10, i+1)\n",
    "    plt.imshow(X_train[i], cmap=\"gray\")\n",
    "    plt.axis('off')\n",
    "plt.show()\n",
    "print('label for each of the above image: %s' % (y_train[0:10]))"
   ]
  },
  {
   "cell_type": "markdown",
   "id": "204b0c1d",
   "metadata": {},
   "source": [
    "##### C. Reshape all the images with appropriate shape update the data in same variable. [3 Marks]\n"
   ]
  },
  {
   "cell_type": "code",
   "execution_count": 67,
   "id": "faf6b499",
   "metadata": {},
   "outputs": [
    {
     "name": "stdout",
     "output_type": "stream",
     "text": [
      "(42000, 32, 32)\n",
      "(60000, 32, 32)\n",
      "(18000, 32, 32)\n"
     ]
    }
   ],
   "source": [
    "print(X_train.shape)\n",
    "print(X_val.shape)\n",
    "print(X_test.shape)"
   ]
  },
  {
   "cell_type": "markdown",
   "id": "c340dc4f",
   "metadata": {},
   "source": [
    "Based on the input data, we could observe that the vector size is of 32x32. So we need to reshape all the images (Flatten the images) with image vector size of 32x32, which is 1024 and need to update the same variable"
   ]
  },
  {
   "cell_type": "code",
   "execution_count": 68,
   "id": "eb0ac352",
   "metadata": {},
   "outputs": [],
   "source": [
    "# Flatten the images\n",
    "image_vector_size = 32*32\n",
    "X_train = X_train.reshape(X_train.shape[0], image_vector_size)\n",
    "X_val = X_val.reshape(X_val.shape[0], image_vector_size)\n",
    "X_test = X_test.reshape(X_test.shape[0], image_vector_size)"
   ]
  },
  {
   "cell_type": "code",
   "execution_count": 69,
   "id": "128085f6",
   "metadata": {},
   "outputs": [
    {
     "name": "stdout",
     "output_type": "stream",
     "text": [
      "(42000, 1024)\n",
      "(60000, 1024)\n",
      "(18000, 1024)\n"
     ]
    }
   ],
   "source": [
    "print(X_train.shape)\n",
    "print(X_val.shape)\n",
    "print(X_test.shape)"
   ]
  },
  {
   "cell_type": "markdown",
   "id": "83bbe6c0",
   "metadata": {},
   "source": [
    "Thus, after reshaping the images got flatten and 1024 is the flattened image size"
   ]
  },
  {
   "cell_type": "markdown",
   "id": "1aabc4ae",
   "metadata": {},
   "source": [
    "##### D. Normalise the images i.e. Normalise the pixel values. [2 Marks]\n"
   ]
  },
  {
   "cell_type": "markdown",
   "id": "a8caa734",
   "metadata": {},
   "source": [
    "The pixel values ranges from 0-255 for each pixel. To normalize we will modify the range from 0-1, for which we need to divide each pixel value by 255."
   ]
  },
  {
   "cell_type": "code",
   "execution_count": 70,
   "id": "7785f494",
   "metadata": {},
   "outputs": [],
   "source": [
    "# # normalize inputs from 0-255 to 0-1\n",
    "X_train = X_train / 255.0\n",
    "X_val = X_val / 255.0\n",
    "X_test = X_test / 255.0"
   ]
  },
  {
   "cell_type": "code",
   "execution_count": 71,
   "id": "cd9e4f35",
   "metadata": {},
   "outputs": [
    {
     "name": "stdout",
     "output_type": "stream",
     "text": [
      "Training set (42000, 1024) (42000,)\n",
      "Validation set (60000, 1024) (60000,)\n",
      "Test set (18000, 1024) (18000,)\n"
     ]
    }
   ],
   "source": [
    "print('Training set', X_train.shape, y_train.shape)\n",
    "print('Validation set', X_val.shape, y_val.shape)\n",
    "print('Test set', X_test.shape, y_test.shape)"
   ]
  },
  {
   "cell_type": "markdown",
   "id": "5827968e",
   "metadata": {},
   "source": [
    "##### E. Transform Labels into format acceptable by Neural Network [2 Marks]\n"
   ]
  },
  {
   "cell_type": "code",
   "execution_count": 72,
   "id": "cb1fbf34",
   "metadata": {},
   "outputs": [],
   "source": [
    "# Convert to \"one-hot\" vectors using the to_categorical function\n",
    "num_classes = 10\n",
    "y_train = to_categorical(y_train, num_classes)\n",
    "y_val_cat = to_categorical(y_val, num_classes)\n",
    "y_test_cat=to_categorical(y_test,num_classes)"
   ]
  },
  {
   "cell_type": "code",
   "execution_count": 73,
   "id": "ea4825eb",
   "metadata": {},
   "outputs": [
    {
     "name": "stdout",
     "output_type": "stream",
     "text": [
      "(42000, 1024)\n",
      "(60000, 1024)\n",
      "(18000, 1024)\n",
      "(42000, 10)\n",
      "(60000, 10)\n",
      "(18000, 10)\n",
      "(60000,)\n",
      "(18000,)\n"
     ]
    }
   ],
   "source": [
    "###Checking the shape of train and test sets after transforming the labels\n",
    "print(X_train.shape)\n",
    "print(X_val.shape)\n",
    "print(X_test.shape)\n",
    "\n",
    "print(y_train.shape)\n",
    "print(y_val_cat.shape)\n",
    "print(y_test_cat.shape)\n",
    "print(y_val.shape)\n",
    "print(y_test.shape)"
   ]
  },
  {
   "cell_type": "code",
   "execution_count": 74,
   "id": "3a0f0224",
   "metadata": {},
   "outputs": [
    {
     "name": "stdout",
     "output_type": "stream",
     "text": [
      "First 5 training lables as one-hot encoded vectors:\n",
      " [[0. 0. 1. 0. 0. 0. 0. 0. 0. 0.]\n",
      " [0. 0. 0. 0. 0. 0. 1. 0. 0. 0.]\n",
      " [0. 0. 0. 0. 0. 0. 0. 1. 0. 0.]\n",
      " [0. 0. 0. 0. 1. 0. 0. 0. 0. 0.]\n",
      " [0. 0. 0. 0. 1. 0. 0. 0. 0. 0.]]\n"
     ]
    }
   ],
   "source": [
    "print(\"First 5 training lables as one-hot encoded vectors:\\n\", y_train[:5])"
   ]
  },
  {
   "cell_type": "code",
   "execution_count": 75,
   "id": "9b6bbab3",
   "metadata": {},
   "outputs": [
    {
     "name": "stdout",
     "output_type": "stream",
     "text": [
      "First 5 val lables as one-hot encoded vectors:\n",
      " [0 0 0 0 0]\n"
     ]
    }
   ],
   "source": [
    "print(\"First 5 val lables as one-hot encoded vectors:\\n\", y_val[:5])"
   ]
  },
  {
   "cell_type": "code",
   "execution_count": 76,
   "id": "7a2bcda0",
   "metadata": {},
   "outputs": [
    {
     "name": "stdout",
     "output_type": "stream",
     "text": [
      "First 5 test lables as one-hot encoded vectors:\n",
      " [[0. 1. 0. 0. 0. 0. 0. 0. 0. 0.]\n",
      " [0. 0. 0. 0. 0. 0. 0. 1. 0. 0.]\n",
      " [0. 0. 1. 0. 0. 0. 0. 0. 0. 0.]\n",
      " [0. 0. 0. 0. 0. 0. 0. 0. 0. 1.]\n",
      " [1. 0. 0. 0. 0. 0. 0. 0. 0. 0.]]\n"
     ]
    }
   ],
   "source": [
    "print(\"First 5 test lables as one-hot encoded vectors:\\n\", y_test_cat[:5])"
   ]
  },
  {
   "cell_type": "markdown",
   "id": "ae916e32",
   "metadata": {},
   "source": [
    "##### F. Print total Number of classes in the Dataset. [1 Marks]\n"
   ]
  },
  {
   "cell_type": "code",
   "execution_count": 77,
   "id": "b374e061",
   "metadata": {},
   "outputs": [
    {
     "name": "stdout",
     "output_type": "stream",
     "text": [
      "List of classes: [0 1 2 3 4 5 6 7 8 9]\n"
     ]
    }
   ],
   "source": [
    "no_class = np.unique(y_test)\n",
    "print(\"List of classes:\" , no_class)"
   ]
  },
  {
   "cell_type": "code",
   "execution_count": 78,
   "id": "bad7f3af",
   "metadata": {},
   "outputs": [
    {
     "name": "stdout",
     "output_type": "stream",
     "text": [
      "Total Number of classes: 10\n"
     ]
    }
   ],
   "source": [
    "print(\"Total Number of classes:\" ,len(no_class))"
   ]
  },
  {
   "cell_type": "markdown",
   "id": "bfa29d3d",
   "metadata": {},
   "source": [
    "#### 3. Model Training & Evaluation using Neural Network [12 Marks]\n"
   ]
  },
  {
   "cell_type": "markdown",
   "id": "a660dbb7",
   "metadata": {},
   "source": [
    "##### A. Design a Neural Network to train a classifier. [3 Marks]\n"
   ]
  },
  {
   "cell_type": "code",
   "execution_count": 79,
   "id": "de797a59",
   "metadata": {},
   "outputs": [],
   "source": [
    "# define model\n",
    "\n",
    "from tensorflow.keras import losses\n",
    "from tensorflow.keras import optimizers\n",
    "from tensorflow.keras import Sequential\n",
    "from tensorflow.keras.layers import Dense\n",
    "from tensorflow.keras.callbacks import ModelCheckpoint, ReduceLROnPlateau\n",
    "\n",
    "image_size=32*32\n",
    "\n",
    "backend.clear_session()\n",
    "#Fixing the seed for random number generators so that we can ensure we receive the same output everytime\n",
    "np.random.seed(42)\n",
    "import random\n",
    "random.seed(42)\n",
    "tf.random.set_seed(42)\n",
    "\n",
    "# create model\n",
    "model_b_1 = Sequential()  \n",
    "\n",
    "model_b_1.add(Dense(256,activation='relu',kernel_initializer='he_uniform',input_shape=(image_size,)))\n",
    "model_b_1.add(Dense(160,activation='relu',kernel_initializer='he_uniform'))\n",
    "model_b_1.add(Dense(224,activation='relu',kernel_initializer='he_uniform'))\n",
    "model_b_1.add(Dense(128,activation='relu',kernel_initializer='he_uniform'))\n",
    "model_b_1.add(Dense(224,activation='relu',kernel_initializer='he_uniform'))\n",
    "\n",
    "model_b_1.add(Dense(len(no_class), activation='softmax')) ### For multiclass classification Softmax is used "
   ]
  },
  {
   "cell_type": "code",
   "execution_count": 80,
   "id": "b233be90",
   "metadata": {},
   "outputs": [],
   "source": [
    "# Compile model\n",
    "#RMS_prop=optimizers.RMSprop()   ## we can similarly use different optimizers like RMSprop, Adagrad and SGD \n",
    "adam = optimizers.Adam(learning_rate=1e-3)\n",
    "model_b_1.compile(loss=losses.categorical_crossentropy, optimizer=adam, metrics=['accuracy']) ### Loss function = Categorical cross entropy"
   ]
  },
  {
   "cell_type": "code",
   "execution_count": 81,
   "id": "13968b87",
   "metadata": {},
   "outputs": [
    {
     "name": "stdout",
     "output_type": "stream",
     "text": [
      "Model: \"sequential\"\n",
      "_________________________________________________________________\n",
      "Layer (type)                 Output Shape              Param #   \n",
      "=================================================================\n",
      "dense (Dense)                (None, 256)               262400    \n",
      "_________________________________________________________________\n",
      "dense_1 (Dense)              (None, 160)               41120     \n",
      "_________________________________________________________________\n",
      "dense_2 (Dense)              (None, 224)               36064     \n",
      "_________________________________________________________________\n",
      "dense_3 (Dense)              (None, 128)               28800     \n",
      "_________________________________________________________________\n",
      "dense_4 (Dense)              (None, 224)               28896     \n",
      "_________________________________________________________________\n",
      "dense_5 (Dense)              (None, 10)                2250      \n",
      "=================================================================\n",
      "Total params: 399,530\n",
      "Trainable params: 399,530\n",
      "Non-trainable params: 0\n",
      "_________________________________________________________________\n"
     ]
    }
   ],
   "source": [
    "## Looking into our base model\n",
    "model_b_1.summary()"
   ]
  },
  {
   "cell_type": "code",
   "execution_count": 82,
   "id": "c5de26c1",
   "metadata": {},
   "outputs": [],
   "source": [
    "#Function to design model for hyperparameter tuning:\n",
    "def create_model_v7(lr,batch_size):  \n",
    "    backend.clear_session()\n",
    "    #Fixing the seed for random number generators so that we can ensure we receive the same output everytime\n",
    "    np.random.seed(42)\n",
    "    import random\n",
    "    random.seed(42)\n",
    "    tf.random.set_seed(42)\n",
    "    model = Sequential()\n",
    "    model.add(Dense(256,activation='relu',kernel_initializer='he_uniform',input_shape=(image_size,)))\n",
    "    #model.add(Dropout(0.7))\n",
    "    #model.add(Dense(128,activation='relu',kernel_initializer='he_uniform'))\n",
    "    model.add(Dense(160,activation='relu',kernel_initializer='he_uniform'))\n",
    "    #model.add(Dropout(0.8))\n",
    "    model.add(Dense(224,activation='relu',kernel_initializer='he_uniform'))\n",
    "    #model.add(Dropout(0.9))\n",
    "    model.add(Dense(128,activation='relu',kernel_initializer='he_uniform'))\n",
    "    model.add(Dense(224,activation='relu',kernel_initializer='he_uniform'))\n",
    "    model.add(Dense(num_classes, activation='softmax'))\n",
    "\n",
    "    #compile model\n",
    "    optimizer = tf.keras.optimizers.Adam(learning_rate=lr)\n",
    "    model.compile(optimizer = optimizer,loss = 'categorical_crossentropy', metrics = ['accuracy'])\n",
    "    return model"
   ]
  },
  {
   "cell_type": "markdown",
   "id": "b6faaefc",
   "metadata": {},
   "source": [
    "##### B. Train the classifier using previously designed Architecture (Use best suitable parameters). [3 Marks]\n"
   ]
  },
  {
   "cell_type": "markdown",
   "id": "a5d2068f",
   "metadata": {},
   "source": [
    "## Base model without hyperparameter tuning"
   ]
  },
  {
   "cell_type": "code",
   "execution_count": 83,
   "id": "9f323eaa",
   "metadata": {},
   "outputs": [],
   "source": [
    "checkpoint = ModelCheckpoint(\"model_weights.h5\",monitor='val_accuracy',\n",
    "                            save_weights_only=True, mode='max',verbose=1)\n",
    "reduce_lr = ReduceLROnPlateau(monitor='val_loss',factor=0.1,patience=2,min_lr=0.00001,model='auto')\n",
    "\n",
    "callbacks = [checkpoint,reduce_lr]"
   ]
  },
  {
   "cell_type": "code",
   "execution_count": 84,
   "id": "e859bdbc",
   "metadata": {},
   "outputs": [
    {
     "name": "stdout",
     "output_type": "stream",
     "text": [
      "Epoch 1/10\n",
      "\n",
      "Epoch 00001: saving model to model_weights.h5\n",
      "263/263 - 1s - loss: 2.2636 - accuracy: 0.1319 - val_loss: 2.0179 - val_accuracy: 0.2335\n",
      "Epoch 2/10\n",
      "\n",
      "Epoch 00002: saving model to model_weights.h5\n",
      "263/263 - 1s - loss: 1.4948 - accuracy: 0.4891 - val_loss: 1.2678 - val_accuracy: 0.5776\n",
      "Epoch 3/10\n",
      "\n",
      "Epoch 00003: saving model to model_weights.h5\n",
      "263/263 - 1s - loss: 1.2140 - accuracy: 0.6003 - val_loss: 1.2039 - val_accuracy: 0.6007\n",
      "Epoch 4/10\n",
      "\n",
      "Epoch 00004: saving model to model_weights.h5\n",
      "263/263 - 1s - loss: 1.0842 - accuracy: 0.6497 - val_loss: 1.0402 - val_accuracy: 0.6638\n",
      "Epoch 5/10\n",
      "\n",
      "Epoch 00005: saving model to model_weights.h5\n",
      "263/263 - 1s - loss: 1.0003 - accuracy: 0.6815 - val_loss: 1.0307 - val_accuracy: 0.6702\n",
      "Epoch 6/10\n",
      "\n",
      "Epoch 00006: saving model to model_weights.h5\n",
      "263/263 - 1s - loss: 0.9411 - accuracy: 0.6997 - val_loss: 0.8842 - val_accuracy: 0.7211\n",
      "Epoch 7/10\n",
      "\n",
      "Epoch 00007: saving model to model_weights.h5\n",
      "263/263 - 1s - loss: 0.8966 - accuracy: 0.7140 - val_loss: 0.9049 - val_accuracy: 0.7167\n",
      "Epoch 8/10\n",
      "\n",
      "Epoch 00008: saving model to model_weights.h5\n",
      "263/263 - 1s - loss: 0.8485 - accuracy: 0.7290 - val_loss: 0.8320 - val_accuracy: 0.7392\n",
      "Epoch 9/10\n",
      "\n",
      "Epoch 00009: saving model to model_weights.h5\n",
      "263/263 - 1s - loss: 0.8220 - accuracy: 0.7357 - val_loss: 0.9087 - val_accuracy: 0.7036\n",
      "Epoch 10/10\n",
      "\n",
      "Epoch 00010: saving model to model_weights.h5\n",
      "263/263 - 1s - loss: 0.8096 - accuracy: 0.7381 - val_loss: 0.8678 - val_accuracy: 0.7280\n"
     ]
    }
   ],
   "source": [
    "# Fit the model\n",
    "history_1=model_b_1.fit(X_train, y_train, validation_split = 0.2, epochs=10, batch_size=128, verbose=2,callbacks=callbacks)"
   ]
  },
  {
   "cell_type": "code",
   "execution_count": 85,
   "id": "89c6dcc9",
   "metadata": {},
   "outputs": [],
   "source": [
    "# predicting the model on test data\n",
    "y_pred_b_1=model_b_1.predict(X_test)"
   ]
  },
  {
   "cell_type": "code",
   "execution_count": 86,
   "id": "98bc6e19",
   "metadata": {},
   "outputs": [
    {
     "data": {
      "text/plain": [
       "array([0.07172018, 0.01970415, 0.19949186, 0.05265617, 0.03280478,\n",
       "       0.07423389, 0.07497536, 0.00816771, 0.39883253, 0.06741329],\n",
       "      dtype=float32)"
      ]
     },
     "execution_count": 86,
     "metadata": {},
     "output_type": "execute_result"
    }
   ],
   "source": [
    "y_pred_b_1[0]"
   ]
  },
  {
   "cell_type": "code",
   "execution_count": 87,
   "id": "545e8781",
   "metadata": {},
   "outputs": [],
   "source": [
    "# As our outputs are probabilities so we will try to get the output class from these probablities by getting the maximum value\n",
    "y_pred_b_1_final=[]\n",
    "for i in y_pred_b_1:\n",
    "  y_pred_b_1_final.append(np.argmax(i))"
   ]
  },
  {
   "cell_type": "code",
   "execution_count": 88,
   "id": "2c8560f7",
   "metadata": {},
   "outputs": [
    {
     "data": {
      "text/plain": [
       "8"
      ]
     },
     "execution_count": 88,
     "metadata": {},
     "output_type": "execute_result"
    }
   ],
   "source": [
    "y_pred_b_1_final[0]"
   ]
  },
  {
   "cell_type": "markdown",
   "id": "7becbcd7",
   "metadata": {
    "id": "-JD472gVvnuf"
   },
   "source": [
    "## Model with hyperparameter tuning"
   ]
  },
  {
   "cell_type": "code",
   "execution_count": 89,
   "id": "mkZutwIS2v66",
   "metadata": {
    "id": "mkZutwIS2v66"
   },
   "outputs": [],
   "source": [
    "keras_estimator = KerasClassifier(build_fn=create_model_v7, verbose=2)"
   ]
  },
  {
   "cell_type": "code",
   "execution_count": 90,
   "id": "j1NdeI0M2v4P",
   "metadata": {
    "colab": {
     "base_uri": "https://localhost:8080/"
    },
    "id": "j1NdeI0M2v4P",
    "outputId": "e5eb3456-8de7-47ae-e72d-b61c6e7fbe50"
   },
   "outputs": [
    {
     "name": "stdout",
     "output_type": "stream",
     "text": [
      "Fitting 3 folds for each of 4 candidates, totalling 12 fits\n",
      "525/525 - 3s - loss: 2.1816 - accuracy: 0.1713 - val_loss: 1.7286 - val_accuracy: 0.3590\n"
     ]
    }
   ],
   "source": [
    "# define the grid search parameters\n",
    "param_grid = {\n",
    "    'batch_size':[64, 128],\n",
    "    \"lr\":[ 0.001,0.01],}\n",
    "\n",
    "kfold_splits = 3\n",
    "grid = GridSearchCV(estimator=keras_estimator,  \n",
    "                    verbose=1,\n",
    "                    cv=kfold_splits,  \n",
    "                    param_grid=param_grid,n_jobs=-1)\n",
    "grid_result = grid.fit(X_train, y_train,validation_split = 0.2,verbose=2) "
   ]
  },
  {
   "cell_type": "code",
   "execution_count": 91,
   "id": "Sl3L94NL2v1Q",
   "metadata": {
    "colab": {
     "base_uri": "https://localhost:8080/"
    },
    "id": "Sl3L94NL2v1Q",
    "outputId": "4e37d991-4dd6-4028-bd24-535ca764c8e0"
   },
   "outputs": [
    {
     "name": "stdout",
     "output_type": "stream",
     "text": [
      "Best: 0.132571 using {'batch_size': 64, 'lr': 0.001}\n"
     ]
    }
   ],
   "source": [
    "# Summarize results\n",
    "print(\"Best: %f using %s\" % (grid_result.best_score_, grid_result.best_params_))\n",
    "means = grid_result.cv_results_['mean_test_score']\n",
    "stds = grid_result.cv_results_['std_test_score']\n",
    "params = grid_result.cv_results_['params']"
   ]
  },
  {
   "cell_type": "code",
   "execution_count": 92,
   "id": "yUchHFYf2vyJ",
   "metadata": {
    "colab": {
     "base_uri": "https://localhost:8080/"
    },
    "id": "yUchHFYf2vyJ",
    "outputId": "ba25eca4-e20a-45fe-da91-58ecda04dd2e"
   },
   "outputs": [
    {
     "name": "stdout",
     "output_type": "stream",
     "text": [
      "Model: \"sequential\"\n",
      "_________________________________________________________________\n",
      "Layer (type)                 Output Shape              Param #   \n",
      "=================================================================\n",
      "dense (Dense)                (None, 256)               262400    \n",
      "_________________________________________________________________\n",
      "dense_1 (Dense)              (None, 160)               41120     \n",
      "_________________________________________________________________\n",
      "dense_2 (Dense)              (None, 224)               36064     \n",
      "_________________________________________________________________\n",
      "dense_3 (Dense)              (None, 128)               28800     \n",
      "_________________________________________________________________\n",
      "dense_4 (Dense)              (None, 224)               28896     \n",
      "_________________________________________________________________\n",
      "dense_5 (Dense)              (None, 10)                2250      \n",
      "=================================================================\n",
      "Total params: 399,530\n",
      "Trainable params: 399,530\n",
      "Non-trainable params: 0\n",
      "_________________________________________________________________\n"
     ]
    }
   ],
   "source": [
    "estimator_v7=create_model_v7(batch_size=grid_result.best_params_['batch_size'],lr=grid_result.best_params_['lr'])\n",
    "\n",
    "estimator_v7.summary()"
   ]
  },
  {
   "cell_type": "code",
   "execution_count": 93,
   "id": "60e68ee3",
   "metadata": {},
   "outputs": [],
   "source": [
    "checkpoint = ModelCheckpoint(\"model_weights.h5\",monitor='val_accuracy',\n",
    "                            save_weights_only=True, mode='max',verbose=1)\n",
    "reduce_lr = ReduceLROnPlateau(monitor='val_loss',factor=0.1,patience=2,min_lr=0.00001,model='auto')\n",
    "\n",
    "callbacks = [checkpoint,reduce_lr]"
   ]
  },
  {
   "cell_type": "code",
   "execution_count": 94,
   "id": "WdVzfxJ72vve",
   "metadata": {
    "colab": {
     "base_uri": "https://localhost:8080/"
    },
    "id": "WdVzfxJ72vve",
    "outputId": "78c76b68-0e8a-43a1-cf50-4d84b98d40e5"
   },
   "outputs": [
    {
     "name": "stdout",
     "output_type": "stream",
     "text": [
      "Epoch 1/15\n",
      "\n",
      "Epoch 00001: saving model to model_weights.h5\n",
      "525/525 - 2s - loss: 2.1816 - accuracy: 0.1713 - val_loss: 1.7286 - val_accuracy: 0.3590\n",
      "Epoch 2/15\n",
      "\n",
      "Epoch 00002: saving model to model_weights.h5\n",
      "525/525 - 2s - loss: 1.4897 - accuracy: 0.4816 - val_loss: 1.3925 - val_accuracy: 0.5227\n",
      "Epoch 3/15\n",
      "\n",
      "Epoch 00003: saving model to model_weights.h5\n",
      "525/525 - 2s - loss: 1.2537 - accuracy: 0.5846 - val_loss: 1.2535 - val_accuracy: 0.5935\n",
      "Epoch 4/15\n",
      "\n",
      "Epoch 00004: saving model to model_weights.h5\n",
      "525/525 - 2s - loss: 1.1235 - accuracy: 0.6322 - val_loss: 1.0524 - val_accuracy: 0.6644\n",
      "Epoch 5/15\n",
      "\n",
      "Epoch 00005: saving model to model_weights.h5\n",
      "525/525 - 2s - loss: 1.0385 - accuracy: 0.6638 - val_loss: 1.0769 - val_accuracy: 0.6518\n",
      "Epoch 6/15\n",
      "\n",
      "Epoch 00006: saving model to model_weights.h5\n",
      "525/525 - 2s - loss: 0.9905 - accuracy: 0.6799 - val_loss: 0.9673 - val_accuracy: 0.6861\n",
      "Epoch 7/15\n",
      "\n",
      "Epoch 00007: saving model to model_weights.h5\n",
      "525/525 - 2s - loss: 0.9216 - accuracy: 0.7028 - val_loss: 0.8840 - val_accuracy: 0.7179\n",
      "Epoch 8/15\n",
      "\n",
      "Epoch 00008: saving model to model_weights.h5\n",
      "525/525 - 2s - loss: 0.8895 - accuracy: 0.7137 - val_loss: 0.9214 - val_accuracy: 0.7014\n",
      "Epoch 9/15\n",
      "\n",
      "Epoch 00009: saving model to model_weights.h5\n",
      "525/525 - 2s - loss: 0.8428 - accuracy: 0.7288 - val_loss: 0.8901 - val_accuracy: 0.7192\n",
      "Epoch 10/15\n",
      "\n",
      "Epoch 00010: saving model to model_weights.h5\n",
      "525/525 - 2s - loss: 0.7002 - accuracy: 0.7764 - val_loss: 0.7789 - val_accuracy: 0.7611\n",
      "Epoch 11/15\n",
      "\n",
      "Epoch 00011: saving model to model_weights.h5\n",
      "525/525 - 2s - loss: 0.6807 - accuracy: 0.7834 - val_loss: 0.7709 - val_accuracy: 0.7620\n",
      "Epoch 12/15\n",
      "\n",
      "Epoch 00012: saving model to model_weights.h5\n",
      "525/525 - 2s - loss: 0.6707 - accuracy: 0.7875 - val_loss: 0.7624 - val_accuracy: 0.7674\n",
      "Epoch 13/15\n",
      "\n",
      "Epoch 00013: saving model to model_weights.h5\n",
      "525/525 - 2s - loss: 0.6626 - accuracy: 0.7882 - val_loss: 0.7614 - val_accuracy: 0.7656\n",
      "Epoch 14/15\n",
      "\n",
      "Epoch 00014: saving model to model_weights.h5\n",
      "525/525 - 2s - loss: 0.6551 - accuracy: 0.7914 - val_loss: 0.7595 - val_accuracy: 0.7638\n",
      "Epoch 15/15\n",
      "\n",
      "Epoch 00015: saving model to model_weights.h5\n",
      "525/525 - 2s - loss: 0.6462 - accuracy: 0.7931 - val_loss: 0.7478 - val_accuracy: 0.7714\n"
     ]
    }
   ],
   "source": [
    "optimizer = tf.keras.optimizers.Adam(grid_result.best_params_['lr'])\n",
    "estimator_v7.compile(loss='categorical_crossentropy',optimizer=optimizer,metrics=['accuracy'])\n",
    "history_7=estimator_v7.fit(X_train, y_train, epochs=15, batch_size = grid_result.best_params_['batch_size'], verbose=2,validation_split=0.2, callbacks=callbacks)"
   ]
  },
  {
   "cell_type": "code",
   "execution_count": 95,
   "id": "04810d75",
   "metadata": {},
   "outputs": [],
   "source": [
    "y_pred_7=estimator_v7.predict(X_test)"
   ]
  },
  {
   "cell_type": "code",
   "execution_count": 96,
   "id": "77770889",
   "metadata": {},
   "outputs": [],
   "source": [
    "y_pred_final_7=[]\n",
    "for i in y_pred_7:\n",
    "  y_pred_final_7.append(np.argmax(i))"
   ]
  },
  {
   "cell_type": "code",
   "execution_count": 97,
   "id": "6044cb1f",
   "metadata": {},
   "outputs": [
    {
     "data": {
      "text/plain": [
       "2"
      ]
     },
     "execution_count": 97,
     "metadata": {},
     "output_type": "execute_result"
    }
   ],
   "source": [
    "y_pred_final_7[0]"
   ]
  },
  {
   "cell_type": "markdown",
   "id": "07fc7691",
   "metadata": {},
   "source": [
    "##### C. Evaluate performance of the model with appropriate metrics. [2 Marks]\n"
   ]
  },
  {
   "cell_type": "markdown",
   "id": "de1bb49f",
   "metadata": {
    "id": "-JD472gVvnuf"
   },
   "source": [
    "## Model without hyperparameter tuning"
   ]
  },
  {
   "cell_type": "code",
   "execution_count": 98,
   "id": "25aee7e5",
   "metadata": {},
   "outputs": [
    {
     "name": "stdout",
     "output_type": "stream",
     "text": [
      "              precision    recall  f1-score   support\n",
      "\n",
      "           0       0.80      0.74      0.77      1814\n",
      "           1       0.75      0.78      0.76      1828\n",
      "           2       0.76      0.78      0.77      1803\n",
      "           3       0.68      0.71      0.69      1719\n",
      "           4       0.82      0.79      0.80      1812\n",
      "           5       0.58      0.61      0.59      1768\n",
      "           6       0.72      0.71      0.71      1832\n",
      "           7       0.76      0.80      0.78      1808\n",
      "           8       0.61      0.70      0.65      1812\n",
      "           9       0.80      0.63      0.71      1804\n",
      "\n",
      "    accuracy                           0.72     18000\n",
      "   macro avg       0.73      0.72      0.72     18000\n",
      "weighted avg       0.73      0.72      0.73     18000\n",
      "\n"
     ]
    }
   ],
   "source": [
    "from sklearn.metrics import classification_report\n",
    "print(classification_report(y_test,y_pred_b_1_final))"
   ]
  },
  {
   "cell_type": "code",
   "execution_count": 99,
   "id": "92f66694",
   "metadata": {},
   "outputs": [
    {
     "data": {
      "image/png": "[encoded data removed]",
      "text/plain": [
       "<Figure size 720x504 with 2 Axes>"
      ]
     },
     "metadata": {
      "needs_background": "light"
     },
     "output_type": "display_data"
    }
   ],
   "source": [
    "from sklearn.metrics import confusion_matrix\n",
    "import seaborn as sns\n",
    "\n",
    "cm=confusion_matrix(y_test,y_pred_b_1_final)\n",
    "\n",
    "plt.figure(figsize=(10,7))\n",
    "sns.heatmap(cm,annot=True,fmt='d')\n",
    "plt.xlabel('Predicted')\n",
    "plt.ylabel('Truth')\n",
    "plt.show()"
   ]
  },
  {
   "cell_type": "code",
   "execution_count": 100,
   "id": "4c0be853",
   "metadata": {},
   "outputs": [
    {
     "name": "stdout",
     "output_type": "stream",
     "text": [
      "[0, 1, 7, 8, 11, 12, 14, 18, 23, 24, 25, 26, 27, 33, 40, 45, 46, 54, 62, 68, 76, 79, 84, 85, 88, 89, 90, 92, 97, 98, 100, 102, 108, 120, 127, 132, 136, 137, 138, 142, 150, 151, 154, 155, 158, 161, 162, 163, 170, 173, 175, 176, 178, 184, 188, 194, 199, 200, 203, 210, 215, 222, 223, 228, 230, 232, 235, 239, 242, 251, 252, 253, 266, 267, 268, 272, 274, 278, 284, 301, 303, 304, 305, 306, 307, 317, 322, 323, 330, 337, 345, 346, 347, 351, 353, 356, 358, 363, 366, 372, 375, 392, 394, 396, 400, 403, 406, 411, 415, 418, 421, 426, 428, 429, 434, 437, 438, 439, 446, 448, 451, 453, 454, 456, 457, 460, 466, 468, 469, 484, 489, 490, 492, 496, 497, 498, 503, 504, 505, 507, 508, 510, 511, 517, 520, 524, 525, 527, 528, 530, 531, 532, 534, 535, 537, 542, 543, 547, 550, 551, 552, 556, 560, 562, 563, 579, 586, 590, 591, 592, 600, 604, 605, 612, 614, 615, 619, 620, 621, 624, 630, 633, 640, 648, 649, 661, 663, 664, 665, 671, 672, 678, 679, 689, 690, 691, 692, 694, 700, 704, 705, 706, 715, 722, 728, 738, 753, 755, 765, 768, 771, 783, 784, 792, 795, 797, 799, 803, 807, 808, 813, 815, 817, 832, 838, 845, 849, 856, 860, 862, 865, 867, 869, 871, 872, 873, 875, 880, 886, 887, 889, 891, 894, 895, 896, 907, 913, 924, 926, 927, 930, 932, 934, 935, 936, 937, 941, 942, 946, 948, 950, 951, 953, 954, 955, 956, 965, 970, 979, 985, 987, 988, 991, 993, 994, 995, 997, 998, 1000, 1001, 1004, 1006, 1009, 1014, 1019, 1026, 1029, 1030, 1033, 1034, 1035, 1040, 1041, 1045, 1050, 1051, 1057, 1060, 1063, 1068, 1073, 1074, 1080, 1085, 1086, 1087, 1089, 1091, 1095, 1098, 1101, 1106, 1109, 1112, 1115, 1119, 1122, 1123, 1126, 1130, 1131, 1132, 1133, 1137, 1139, 1142, 1143, 1146, 1148, 1150, 1151, 1154, 1155, 1159, 1161, 1168, 1169, 1173, 1175, 1186, 1189, 1194, 1204, 1205, 1207, 1217, 1227, 1228, 1232, 1241, 1244, 1252, 1254, 1258, 1259, 1260, 1272, 1277, 1280, 1281, 1291, 1292, 1296, 1301, 1304, 1313, 1318, 1320, 1323, 1325, 1341, 1344, 1346, 1348, 1353, 1356, 1357, 1363, 1375, 1376, 1378, 1389, 1390, 1407, 1410, 1414, 1420, 1421, 1425, 1431, 1433, 1436, 1437, 1449, 1452, 1456, 1465, 1466, 1477, 1484, 1487, 1489, 1494, 1495, 1498, 1501, 1504, 1518, 1519, 1523, 1525, 1532, 1537, 1540, 1545, 1546, 1549, 1550, 1551, 1552, 1559, 1562, 1565, 1569, 1571, 1574, 1580, 1582, 1584, 1591, 1593, 1603, 1604, 1606, 1609, 1613, 1615, 1624, 1635, 1637, 1645, 1653, 1655, 1663, 1674, 1676, 1688, 1699, 1700, 1707, 1714, 1722, 1727, 1728, 1734, 1744, 1746, 1750, 1751, 1754, 1755, 1758, 1762, 1763, 1770, 1776, 1783, 1786, 1788, 1796, 1798, 1813, 1818, 1820, 1827, 1835, 1837, 1838, 1844, 1846, 1848, 1850, 1851, 1862, 1863, 1865, 1866, 1871, 1875, 1879, 1889, 1891, 1892, 1896, 1899, 1900, 1902, 1905, 1906, 1909, 1911, 1912, 1913, 1914, 1922, 1926, 1929, 1930, 1936, 1939, 1940, 1942, 1944, 1946, 1948, 1952, 1954, 1955, 1957, 1964, 1965, 1973, 1979, 1982, 1983, 1985, 1990, 1996, 2001, 2002, 2008, 2011, 2023, 2025, 2026, 2030, 2031, 2034, 2041, 2048, 2050, 2053, 2055, 2060, 2063, 2066, 2070, 2072, 2074, 2075, 2078, 2081, 2083, 2087, 2096, 2099, 2102, 2107, 2108, 2112, 2115, 2116, 2117, 2122, 2124, 2135, 2136, 2141, 2152, 2158, 2162, 2167, 2168, 2172, 2177, 2178, 2181, 2184, 2187, 2191, 2192, 2194, 2196, 2198, 2205, 2212, 2218, 2219, 2222, 2226, 2234, 2236, 2241, 2245, 2248, 2249, 2257, 2263, 2281, 2283, 2290, 2291, 2295, 2297, 2298, 2304, 2306, 2309, 2315, 2316, 2318, 2328, 2329, 2330, 2335, 2336, 2338, 2339, 2345, 2349, 2355, 2356, 2358, 2361, 2362, 2363, 2368, 2380, 2381, 2387, 2388, 2390, 2395, 2404, 2405, 2406, 2412, 2413, 2416, 2417, 2418, 2424, 2430, 2436, 2437, 2438, 2441, 2445, 2448, 2450, 2454, 2456, 2459, 2460, 2462, 2464, 2467, 2468, 2469, 2474, 2477, 2479, 2491, 2493, 2498, 2503, 2504, 2506, 2507, 2509, 2510, 2511, 2513, 2514, 2524, 2532, 2537, 2542, 2549, 2550, 2552, 2553, 2555, 2557, 2559, 2565, 2570, 2572, 2574, 2582, 2584, 2590, 2591, 2593, 2596, 2598, 2600, 2601, 2605, 2608, 2611, 2614, 2619, 2620, 2626, 2628, 2633, 2634, 2639, 2640, 2642, 2648, 2651, 2655, 2659, 2661, 2670, 2675, 2691, 2692, 2696, 2700, 2703, 2706, 2707, 2711, 2717, 2718, 2722, 2728, 2731, 2735, 2739, 2742, 2744, 2756, 2757, 2759, 2761, 2762, 2763, 2766, 2767, 2768, 2770, 2775, 2780, 2790, 2791, 2794, 2796, 2802, 2803, 2804, 2809, 2810, 2811, 2812, 2816, 2822, 2823, 2831, 2834, 2840, 2845, 2846, 2848, 2849, 2852, 2855, 2856, 2857, 2859, 2873, 2875, 2878, 2879, 2881, 2893, 2895, 2900, 2903, 2905, 2908, 2914, 2915, 2916, 2918, 2923, 2925, 2926, 2927, 2928, 2933, 2937, 2955, 2956, 2957, 2962, 2966, 2979, 2984, 2985, 2986, 2996, 2997, 2999, 3002, 3006, 3008, 3012, 3013, 3018, 3020, 3021, 3022, 3027, 3030, 3031, 3032, 3035, 3038, 3041, 3044, 3047, 3048, 3049, 3050, 3060, 3069, 3070, 3072, 3073, 3081, 3083, 3084, 3086, 3088, 3089, 3097, 3101, 3102, 3107, 3112, 3119, 3122, 3123, 3125, 3128, 3130, 3132, 3135, 3136, 3137, 3139, 3150, 3155, 3157, 3159, 3160, 3163, 3166, 3167, 3168, 3170, 3173, 3175, 3180, 3183, 3186, 3189, 3190, 3192, 3200, 3205, 3209, 3212, 3214, 3219, 3221, 3224, 3229, 3235, 3249, 3254, 3257, 3258, 3261, 3263, 3266, 3275, 3276, 3277, 3285, 3290, 3291, 3297, 3313, 3315, 3326, 3330, 3331, 3332, 3333, 3334, 3338, 3340, 3343, 3345, 3350, 3353, 3360, 3371, 3372, 3383, 3394, 3396, 3397, 3399, 3402, 3403, 3404, 3407, 3418, 3420, 3424, 3428, 3430, 3432, 3437, 3440, 3443, 3448, 3449, 3451, 3452, 3454, 3455, 3456, 3458, 3462, 3463, 3465, 3467, 3469, 3471, 3474, 3476, 3477, 3479, 3482, 3487, 3495, 3496, 3497, 3504, 3507, 3516, 3521, 3522, 3524, 3525, 3526, 3529, 3534, 3539, 3542, 3549, 3555, 3556, 3557, 3564, 3566, 3570, 3576, 3577, 3578, 3579, 3589, 3592, 3595, 3596, 3606, 3607, 3608, 3615, 3619, 3624, 3626, 3629, 3633, 3642, 3643, 3650, 3652, 3656, 3662, 3665, 3672, 3674, 3675, 3682, 3687, 3694, 3697, 3698, 3700, 3701, 3702, 3703, 3705, 3709, 3715, 3718, 3719, 3720, 3721, 3723, 3731, 3736, 3737, 3744, 3746, 3751, 3752, 3754, 3755, 3757, 3764, 3765, 3768, 3769, 3770, 3772, 3775, 3779, 3786, 3793, 3797, 3799, 3800, 3809, 3810, 3812, 3813, 3816, 3819, 3821, 3833, 3837, 3842, 3843, 3846, 3847, 3849, 3853, 3854, 3855, 3880, 3881, 3888, 3889, 3892, 3895, 3906, 3915, 3916, 3922, 3923, 3928, 3929, 3948, 3951, 3953, 3955, 3958, 3960, 3963, 3969, 3976, 3977, 3989, 3992, 3994, 4019, 4021, 4027, 4030, 4034, 4035, 4044, 4045, 4046, 4051, 4052, 4058, 4059, 4060, 4061, 4062, 4063, 4064, 4072, 4074, 4075, 4077, 4078, 4083, 4085, 4091, 4095, 4098, 4110, 4114, 4122, 4123, 4133, 4135, 4138, 4143, 4145, 4146, 4150, 4156, 4157, 4162, 4164, 4170, 4175, 4177, 4179, 4182, 4183, 4184, 4186, 4194, 4197, 4203, 4205, 4209, 4214, 4216, 4218, 4219, 4223, 4241, 4242, 4243, 4246, 4247, 4248, 4249, 4254, 4255, 4260, 4261, 4263, 4267, 4271, 4276, 4279, 4280, 4296, 4298, 4299, 4300, 4301, 4303, 4305, 4310, 4311, 4315, 4328, 4335, 4336, 4339, 4343, 4344, 4345, 4347, 4349, 4352, 4353, 4354, 4355, 4357, 4367, 4373, 4378, 4380, 4384, 4388, 4390, 4393, 4395, 4397, 4399, 4400, 4401, 4409, 4417, 4418, 4431, 4434, 4439, 4446, 4448, 4449, 4454, 4457, 4458, 4459, 4461, 4462, 4466, 4470, 4476, 4479, 4481, 4483, 4487, 4493, 4502, 4509, 4510, 4516, 4522, 4528, 4539, 4545, 4547, 4553, 4557, 4560, 4567, 4569, 4570, 4572, 4584, 4588, 4592, 4598, 4600, 4602, 4606, 4607, 4609, 4610, 4621, 4622, 4623, 4624, 4628, 4629, 4635, 4638, 4641, 4642, 4648, 4651, 4652, 4655, 4659, 4660, 4661, 4662, 4667, 4673, 4675, 4679, 4684, 4687, 4691, 4693, 4695, 4697, 4700, 4701, 4706, 4708, 4709, 4712, 4723, 4724, 4725, 4727, 4728, 4730, 4737, 4742, 4743, 4744, 4752, 4755, 4756, 4767, 4770, 4774, 4776, 4780, 4789, 4792, 4793, 4797, 4798, 4805, 4807, 4812, 4813, 4814, 4815, 4816, 4818, 4821, 4822, 4824, 4827, 4828, 4831, 4832, 4833, 4835, 4848, 4851, 4854, 4858, 4859, 4862, 4863, 4875, 4876, 4878, 4879, 4883, 4886, 4887, 4888, 4891, 4892, 4899, 4900, 4902, 4927, 4932, 4934, 4936, 4946, 4949, 4953, 4957, 4959, 4960, 4966, 4970, 4975, 4976, 4985, 4990, 4994, 4996, 5000, 5003, 5011, 5019, 5032, 5033, 5036, 5049, 5053, 5055, 5056, 5057, 5058, 5062, 5065, 5068, 5069, 5075, 5079, 5081, 5088, 5091, 5097, 5117, 5131, 5134, 5135, 5138, 5143, 5147, 5148, 5150, 5154, 5156, 5159, 5161, 5166, 5170, 5171, 5172, 5175, 5176, 5186, 5188, 5192, 5199, 5202, 5206, 5210, 5211, 5215, 5225, 5227, 5233, 5235, 5239, 5240, 5244, 5246, 5247, 5250, 5251, 5256, 5257, 5260, 5264, 5272, 5280, 5282, 5289, 5291, 5293, 5299, 5302, 5303, 5308, 5309, 5312, 5314, 5316, 5317, 5318, 5335, 5338, 5340, 5345, 5353, 5355, 5364, 5366, 5368, 5370, 5373, 5376, 5381, 5391, 5393, 5395, 5398, 5399, 5401, 5404, 5409, 5415, 5416, 5422, 5424, 5425, 5428, 5430, 5432, 5433, 5442, 5443, 5444, 5446, 5451, 5453, 5454, 5457, 5462, 5466, 5467, 5473, 5476, 5485, 5491, 5494, 5499, 5500, 5503, 5509, 5511, 5513, 5518, 5519, 5523, 5526, 5530, 5531, 5534, 5539, 5541, 5544, 5547, 5549, 5554, 5556, 5559, 5563, 5564, 5566, 5572, 5577, 5579, 5589, 5591, 5592, 5595, 5596, 5602, 5603, 5609, 5613, 5616, 5624, 5627, 5635, 5637, 5639, 5640, 5643, 5650, 5652, 5656, 5658, 5660, 5661, 5665, 5666, 5674, 5675, 5679, 5680, 5681, 5688, 5697, 5703, 5710, 5715, 5716, 5717, 5718, 5719, 5720, 5721, 5723, 5724, 5729, 5736, 5737, 5738, 5739, 5742, 5748, 5762, 5766, 5767, 5771, 5773, 5775, 5776, 5777, 5778, 5779, 5784, 5791, 5793, 5803, 5805, 5806, 5809, 5813, 5814, 5819, 5823, 5829, 5830, 5837, 5838, 5839, 5840, 5841, 5843, 5844, 5845, 5847, 5851, 5852, 5853, 5857, 5859, 5863, 5865, 5874, 5875, 5876, 5878, 5880, 5882, 5896, 5914, 5924, 5929, 5934, 5944, 5948, 5953, 5955, 5965, 5968, 5973, 5976, 5979, 5987, 5989, 5991, 5992, 5994, 5996, 5997, 5998, 6000, 6003, 6005, 6006, 6011, 6012, 6013, 6027, 6028, 6030, 6035, 6042, 6044, 6045, 6056, 6057, 6058, 6063, 6069, 6073, 6075, 6080, 6081, 6085, 6095, 6096, 6099, 6100, 6106, 6107, 6108, 6111, 6114, 6119, 6127, 6135, 6143, 6144, 6145, 6150, 6152, 6157, 6171, 6175, 6178, 6179, 6181, 6184, 6185, 6186, 6194, 6195, 6197, 6199, 6200, 6203, 6204, 6205, 6213, 6218, 6221, 6223, 6224, 6231, 6235, 6242, 6249, 6253, 6258, 6262, 6263, 6264, 6269, 6270, 6273, 6277, 6279, 6280, 6283, 6285, 6289, 6291, 6295, 6296, 6299, 6301, 6308, 6309, 6310, 6314, 6315, 6320, 6321, 6322, 6331, 6332, 6334, 6336, 6339, 6343, 6347, 6348, 6349, 6350, 6353, 6360, 6363, 6364, 6365, 6369, 6371, 6375, 6381, 6385, 6387, 6388, 6401, 6404, 6405, 6411, 6412, 6427, 6432, 6434, 6435, 6436, 6440, 6441, 6443, 6445, 6447, 6451, 6454, 6458, 6464, 6465, 6467, 6475, 6476, 6483, 6486, 6488, 6489, 6490, 6491, 6492, 6495, 6500, 6503, 6514, 6520, 6521, 6531, 6532, 6539, 6544, 6546, 6549, 6552, 6554, 6565, 6569, 6571, 6575, 6577, 6579, 6581, 6598, 6602, 6603, 6606, 6608, 6609, 6611, 6612, 6619, 6626, 6629, 6631, 6635, 6648, 6651, 6652, 6655, 6660, 6662, 6664, 6668, 6671, 6677, 6679, 6684, 6686, 6687, 6689, 6692, 6694, 6699, 6701, 6707, 6713, 6715, 6716, 6725, 6729, 6737, 6738, 6739, 6749, 6750, 6756, 6759, 6761, 6764, 6769, 6770, 6775, 6777, 6784, 6785, 6788, 6790, 6804, 6805, 6807, 6808, 6809, 6810, 6818, 6821, 6827, 6828, 6832, 6835, 6840, 6841, 6842, 6844, 6852, 6853, 6854, 6855, 6856, 6858, 6859, 6861, 6871, 6875, 6878, 6882, 6885, 6886, 6889, 6891, 6893, 6894, 6897, 6898, 6899, 6902, 6911, 6913, 6917, 6918, 6921, 6922, 6933, 6934, 6935, 6939, 6940, 6941, 6942, 6945, 6947, 6949, 6953, 6959, 6960, 6969, 6970, 6971, 6974, 6979, 6980, 6982, 6987, 6989, 6990, 6992, 6997, 7003, 7007, 7009, 7010, 7013, 7016, 7021, 7035, 7036, 7038, 7040, 7047, 7048, 7053, 7056, 7062, 7063, 7065, 7069, 7070, 7071, 7082, 7092, 7093, 7096, 7097, 7101, 7105, 7106, 7107, 7120, 7121, 7122, 7124, 7127, 7135, 7136, 7143, 7144, 7146, 7149, 7150, 7154, 7158, 7159, 7165, 7168, 7172, 7173, 7176, 7178, 7187, 7188, 7189, 7191, 7201, 7203, 7211, 7215, 7218, 7221, 7222, 7226, 7231, 7235, 7240, 7244, 7245, 7251, 7253, 7256, 7257, 7259, 7268, 7270, 7280, 7289, 7307, 7312, 7314, 7318, 7324, 7334, 7336, 7342, 7343, 7346, 7347, 7351, 7352, 7357, 7359, 7360, 7361, 7364, 7365, 7366, 7372, 7374, 7381, 7386, 7390, 7394, 7398, 7399, 7403, 7408, 7410, 7411, 7419, 7420, 7422, 7426, 7432, 7434, 7435, 7436, 7441, 7442, 7447, 7449, 7450, 7457, 7460, 7471, 7472, 7476, 7477, 7482, 7483, 7484, 7485, 7486, 7488, 7495, 7498, 7499, 7504, 7511, 7515, 7519, 7526, 7527, 7529, 7530, 7532, 7542, 7544, 7545, 7548, 7549, 7555, 7556, 7561, 7568, 7572, 7584, 7587, 7591, 7592, 7595, 7597, 7598, 7602, 7617, 7618, 7619, 7620, 7623, 7624, 7629, 7630, 7631, 7632, 7633, 7634, 7636, 7640, 7642, 7644, 7655, 7658, 7662, 7664, 7670, 7672, 7677, 7681, 7682, 7686, 7687, 7689, 7690, 7692, 7705, 7712, 7714, 7724, 7730, 7734, 7741, 7752, 7753, 7755, 7761, 7766, 7769, 7772, 7773, 7774, 7777, 7778, 7781, 7789, 7797, 7798, 7800, 7801, 7805, 7814, 7817, 7824, 7838, 7843, 7844, 7845, 7846, 7847, 7850, 7851, 7856, 7863, 7864, 7866, 7868, 7871, 7877, 7878, 7879, 7884, 7886, 7888, 7892, 7895, 7898, 7899, 7903, 7907, 7908, 7909, 7913, 7921, 7924, 7926, 7933, 7934, 7940, 7941, 7943, 7944, 7946, 7948, 7950, 7958, 7963, 7968, 7969, 7971, 7974, 7975, 7981, 7982, 7984, 7997, 7998, 8001, 8004, 8010, 8014, 8021, 8028, 8029, 8030, 8031, 8032, 8039, 8041, 8042, 8044, 8045, 8046, 8054, 8055, 8056, 8057, 8071, 8072, 8076, 8081, 8083, 8084, 8086, 8087, 8088, 8089, 8090, 8091, 8092, 8093, 8094, 8096, 8112, 8117, 8119, 8120, 8127, 8132, 8147, 8148, 8153, 8158, 8159, 8161, 8163, 8165, 8179, 8182, 8184, 8187, 8189, 8190, 8191, 8193, 8194, 8197, 8208, 8221, 8223, 8225, 8226, 8228, 8230, 8231, 8235, 8242, 8245, 8247, 8250, 8251, 8252, 8255, 8257, 8264, 8265, 8269, 8270, 8273, 8279, 8284, 8286, 8293, 8294, 8301, 8304, 8314, 8317, 8328, 8329, 8330, 8333, 8341, 8344, 8348, 8349, 8351, 8357, 8360, 8362, 8364, 8368, 8372, 8387, 8390, 8398, 8408, 8414, 8418, 8419, 8421, 8438, 8439, 8450, 8454, 8457, 8461, 8463, 8464, 8467, 8473, 8479, 8482, 8497, 8499, 8503, 8507, 8511, 8515, 8517, 8520, 8522, 8524, 8525, 8526, 8528, 8529, 8534, 8535, 8536, 8545, 8553, 8555, 8563, 8566, 8567, 8569, 8572, 8577, 8579, 8585, 8592, 8601, 8603, 8606, 8607, 8608, 8610, 8616, 8625, 8629, 8630, 8632, 8633, 8634, 8637, 8639, 8641, 8645, 8647, 8648, 8652, 8654, 8657, 8658, 8667, 8669, 8673, 8678, 8680, 8686, 8688, 8691, 8692, 8696, 8698, 8701, 8704, 8706, 8707, 8708, 8709, 8714, 8715, 8723, 8728, 8733, 8736, 8740, 8742, 8745, 8752, 8759, 8761, 8771, 8783, 8784, 8788, 8789, 8791, 8792, 8793, 8800, 8801, 8806, 8811, 8813, 8815, 8816, 8820, 8821, 8823, 8830, 8839, 8843, 8846, 8847, 8850, 8852, 8853, 8856, 8861, 8862, 8864, 8865, 8869, 8881, 8882, 8884, 8891, 8893, 8894, 8895, 8899, 8900, 8928, 8929, 8931, 8932, 8935, 8936, 8937, 8944, 8947, 8949, 8952, 8959, 8961, 8968, 8969, 8971, 8972, 8973, 8975, 8978, 8984, 8997, 8999, 9005, 9011, 9017, 9019, 9023, 9025, 9028, 9035, 9036, 9038, 9042, 9044, 9045, 9051, 9054, 9055, 9058, 9060, 9061, 9076, 9078, 9079, 9080, 9082, 9085, 9086, 9093, 9096, 9100, 9105, 9108, 9114, 9117, 9120, 9123, 9124, 9125, 9133, 9141, 9142, 9146, 9150, 9160, 9163, 9166, 9175, 9177, 9178, 9183, 9186, 9201, 9203, 9205, 9214, 9230, 9235, 9238, 9246, 9250, 9256, 9257, 9260, 9263, 9272, 9274, 9279, 9281, 9285, 9287, 9291, 9295, 9296, 9297, 9299, 9310, 9316, 9320, 9322, 9325, 9328, 9331, 9334, 9341, 9342, 9343, 9344, 9345, 9346, 9348, 9356, 9357, 9358, 9365, 9366, 9374, 9377, 9382, 9388, 9389, 9395, 9396, 9399, 9403, 9412, 9413, 9415, 9418, 9426, 9427, 9429, 9430, 9431, 9433, 9436, 9438, 9440, 9442, 9445, 9450, 9454, 9459, 9460, 9467, 9470, 9472, 9474, 9478, 9480, 9481, 9482, 9490, 9494, 9496, 9503, 9515, 9517, 9523, 9526, 9536, 9540, 9541, 9542, 9545, 9546, 9550, 9551, 9553, 9555, 9562, 9563, 9568, 9575, 9582, 9585, 9591, 9605, 9606, 9608, 9609, 9615, 9632, 9634, 9635, 9638, 9639, 9641, 9642, 9645, 9651, 9663, 9664, 9668, 9669, 9673, 9674, 9675, 9676, 9677, 9681, 9683, 9685, 9700, 9708, 9712, 9714, 9718, 9720, 9725, 9728, 9729, 9731, 9736, 9740, 9744, 9746, 9750, 9753, 9756, 9759, 9762, 9767, 9774, 9782, 9785, 9786, 9789, 9796, 9799, 9810, 9812, 9821, 9823, 9828, 9830, 9832, 9843, 9845, 9851, 9860, 9866, 9868, 9870, 9872, 9876, 9881, 9884, 9890, 9899, 9901, 9902, 9904, 9905, 9906, 9911, 9918, 9920, 9921, 9923, 9926, 9935, 9937, 9943, 9949, 9950, 9958, 9963, 9969, 9970, 9972, 9977, 9979, 9982, 9987, 9992, 9993, 9996, 9997, 10001, 10002, 10004, 10007, 10010, 10017, 10027, 10029, 10030, 10031, 10040, 10046, 10047, 10049, 10052, 10057, 10071, 10072, 10073, 10080, 10081, 10084, 10085, 10086, 10088, 10095, 10098, 10109, 10115, 10116, 10123, 10130, 10132, 10134, 10136, 10137, 10141, 10145, 10147, 10151, 10152, 10157, 10161, 10167, 10170, 10171, 10176, 10181, 10183, 10186, 10189, 10190, 10192, 10193, 10196, 10199, 10202, 10203, 10204, 10205, 10207, 10210, 10217, 10219, 10226, 10227, 10232, 10235, 10236, 10238, 10241, 10243, 10251, 10256, 10259, 10262, 10266, 10268, 10277, 10281, 10282, 10284, 10285, 10288, 10296, 10297, 10302, 10303, 10305, 10313, 10316, 10319, 10321, 10323, 10326, 10327, 10329, 10333, 10335, 10350, 10352, 10365, 10368, 10369, 10371, 10375, 10377, 10378, 10379, 10386, 10388, 10391, 10394, 10398, 10400, 10407, 10410, 10412, 10415, 10419, 10421, 10424, 10428, 10429, 10431, 10433, 10434, 10441, 10443, 10445, 10446, 10447, 10449, 10453, 10460, 10463, 10466, 10468, 10472, 10473, 10479, 10483, 10487, 10492, 10494, 10495, 10496, 10502, 10506, 10508, 10511, 10514, 10517, 10518, 10520, 10526, 10528, 10529, 10530, 10543, 10550, 10551, 10552, 10558, 10559, 10560, 10565, 10566, 10574, 10583, 10585, 10594, 10596, 10597, 10607, 10609, 10615, 10617, 10620, 10623, 10627, 10629, 10635, 10645, 10648, 10651, 10657, 10659, 10660, 10664, 10665, 10667, 10670, 10671, 10672, 10674, 10678, 10689, 10705, 10706, 10708, 10713, 10716, 10717, 10718, 10726, 10730, 10738, 10740, 10742, 10745, 10748, 10749, 10751, 10753, 10761, 10764, 10765, 10766, 10768, 10771, 10772, 10774, 10783, 10786, 10790, 10791, 10795, 10805, 10807, 10810, 10812, 10816, 10824, 10827, 10830, 10831, 10832, 10838, 10847, 10848, 10849, 10852, 10856, 10865, 10868, 10875, 10879, 10880, 10884, 10900, 10901, 10904, 10908, 10911, 10914, 10919, 10924, 10927, 10932, 10935, 10936, 10937, 10945, 10946, 10949, 10953, 10954, 10957, 10958, 10959, 10978, 10988, 10989, 10990, 10991, 10993, 10995, 11000, 11005, 11011, 11012, 11013, 11014, 11015, 11018, 11020, 11024, 11025, 11026, 11037, 11045, 11053, 11054, 11061, 11064, 11066, 11072, 11077, 11081, 11087, 11089, 11096, 11097, 11098, 11101, 11106, 11111, 11112, 11113, 11116, 11119, 11122, 11125, 11129, 11130, 11134, 11135, 11139, 11144, 11145, 11157, 11160, 11164, 11167, 11173, 11176, 11182, 11187, 11189, 11193, 11194, 11197, 11202, 11205, 11209, 11217, 11219, 11224, 11231, 11232, 11240, 11241, 11242, 11243, 11247, 11250, 11253, 11263, 11264, 11269, 11270, 11276, 11277, 11284, 11285, 11290, 11291, 11293, 11294, 11295, 11297, 11304, 11305, 11313, 11314, 11327, 11334, 11338, 11340, 11351, 11353, 11355, 11358, 11363, 11364, 11366, 11372, 11384, 11393, 11396, 11402, 11412, 11414, 11417, 11418, 11422, 11425, 11429, 11430, 11432, 11434, 11440, 11441, 11447, 11454, 11455, 11456, 11459, 11461, 11466, 11469, 11480, 11485, 11490, 11496, 11499, 11502, 11503, 11504, 11505, 11511, 11512, 11513, 11514, 11516, 11521, 11523, 11526, 11527, 11537, 11538, 11540, 11541, 11542, 11543, 11547, 11549, 11550, 11555, 11556, 11559, 11561, 11563, 11564, 11567, 11569, 11570, 11573, 11575, 11576, 11578, 11579, 11585, 11592, 11601, 11610, 11612, 11615, 11619, 11622, 11623, 11626, 11641, 11643, 11644, 11646, 11649, 11651, 11652, 11655, 11656, 11657, 11659, 11668, 11670, 11671, 11675, 11681, 11687, 11691, 11703, 11708, 11709, 11713, 11725, 11726, 11727, 11729, 11733, 11734, 11736, 11744, 11749, 11750, 11757, 11758, 11760, 11765, 11766, 11771, 11774, 11776, 11777, 11785, 11787, 11789, 11798, 11799, 11802, 11803, 11816, 11822, 11836, 11837, 11842, 11843, 11851, 11854, 11856, 11857, 11859, 11864, 11865, 11872, 11873, 11876, 11882, 11883, 11886, 11887, 11889, 11890, 11891, 11895, 11901, 11906, 11908, 11909, 11912, 11916, 11917, 11918, 11925, 11931, 11933, 11935, 11938, 11940, 11945, 11947, 11949, 11952, 11960, 11962, 11964, 11972, 11973, 11974, 11978, 11980, 11981, 11994, 12014, 12017, 12018, 12024, 12025, 12029, 12031, 12033, 12035, 12039, 12041, 12046, 12056, 12057, 12060, 12062, 12067, 12068, 12072, 12083, 12085, 12086, 12093, 12095, 12097, 12098, 12100, 12105, 12108, 12110, 12119, 12124, 12127, 12129, 12147, 12149, 12150, 12151, 12155, 12157, 12158, 12161, 12175, 12179, 12188, 12196, 12197, 12198, 12203, 12205, 12207, 12209, 12213, 12216, 12218, 12229, 12232, 12233, 12237, 12238, 12242, 12243, 12246, 12248, 12249, 12250, 12256, 12268, 12271, 12274, 12275, 12278, 12284, 12285, 12291, 12297, 12299, 12301, 12303, 12310, 12315, 12325, 12329, 12335, 12338, 12340, 12344, 12345, 12349, 12351, 12361, 12363, 12366, 12367, 12373, 12380, 12388, 12398, 12400, 12406, 12410, 12411, 12413, 12414, 12417, 12419, 12431, 12434, 12441, 12445, 12447, 12449, 12450, 12451, 12456, 12458, 12459, 12460, 12463, 12464, 12469, 12472, 12476, 12478, 12481, 12486, 12491, 12494, 12496, 12498, 12514, 12522, 12525, 12530, 12536, 12537, 12542, 12545, 12548, 12549, 12550, 12551, 12553, 12555, 12559, 12580, 12583, 12587, 12588, 12590, 12594, 12597, 12599, 12600, 12602, 12609, 12612, 12617, 12621, 12622, 12629, 12631, 12639, 12644, 12652, 12656, 12657, 12660, 12674, 12690, 12694, 12695, 12698, 12700, 12708, 12712, 12715, 12717, 12718, 12722, 12728, 12729, 12734, 12736, 12742, 12744, 12747, 12749, 12760, 12771, 12772, 12778, 12782, 12783, 12784, 12786, 12787, 12793, 12804, 12806, 12807, 12808, 12809, 12810, 12825, 12828, 12830, 12834, 12836, 12837, 12844, 12845, 12846, 12855, 12865, 12866, 12867, 12870, 12876, 12878, 12880, 12883, 12887, 12888, 12891, 12894, 12895, 12902, 12906, 12909, 12910, 12913, 12915, 12916, 12919, 12922, 12926, 12930, 12933, 12944, 12957, 12961, 12968, 12969, 12971, 12972, 12973, 12974, 12976, 12978, 12979, 12981, 12985, 12986, 12989, 12991, 12994, 13002, 13018, 13019, 13025, 13027, 13034, 13040, 13045, 13049, 13050, 13051, 13053, 13056, 13058, 13062, 13063, 13064, 13066, 13068, 13076, 13078, 13079, 13089, 13094, 13097, 13105, 13107, 13110, 13111, 13118, 13122, 13124, 13125, 13129, 13130, 13132, 13137, 13139, 13142, 13151, 13155, 13160, 13162, 13165, 13166, 13171, 13174, 13176, 13178, 13179, 13180, 13181, 13189, 13190, 13191, 13192, 13194, 13195, 13198, 13208, 13209, 13212, 13213, 13216, 13220, 13221, 13223, 13225, 13231, 13234, 13235, 13237, 13241, 13248, 13249, 13251, 13252, 13267, 13270, 13273, 13276, 13287, 13288, 13297, 13298, 13303, 13305, 13312, 13313, 13315, 13316, 13317, 13321, 13325, 13327, 13328, 13330, 13335, 13336, 13337, 13340, 13341, 13344, 13347, 13351, 13354, 13356, 13360, 13362, 13375, 13376, 13397, 13398, 13399, 13401, 13402, 13404, 13406, 13408, 13413, 13414, 13415, 13418, 13419, 13426, 13427, 13428, 13431, 13432, 13436, 13438, 13439, 13447, 13463, 13467, 13468, 13471, 13472, 13474, 13483, 13487, 13488, 13496, 13497, 13499, 13500, 13505, 13509, 13511, 13520, 13527, 13528, 13530, 13535, 13537, 13540, 13541, 13543, 13544, 13545, 13548, 13552, 13567, 13574, 13583, 13586, 13592, 13594, 13597, 13604, 13605, 13606, 13610, 13615, 13618, 13619, 13621, 13624, 13626, 13628, 13630, 13632, 13634, 13635, 13636, 13637, 13649, 13653, 13663, 13668, 13676, 13678, 13680, 13684, 13688, 13691, 13693, 13701, 13704, 13705, 13708, 13709, 13710, 13711, 13712, 13716, 13717, 13721, 13728, 13731, 13735, 13737, 13747, 13748, 13749, 13750, 13755, 13758, 13759, 13763, 13765, 13770, 13773, 13775, 13777, 13783, 13786, 13788, 13789, 13792, 13796, 13802, 13806, 13808, 13809, 13813, 13817, 13818, 13827, 13828, 13829, 13831, 13841, 13849, 13857, 13861, 13867, 13870, 13871, 13872, 13875, 13876, 13880, 13882, 13883, 13899, 13907, 13908, 13913, 13914, 13917, 13920, 13921, 13938, 13945, 13948, 13952, 13955, 13960, 13961, 13962, 13963, 13964, 13965, 13966, 13969, 13973, 13977, 13984, 13991, 13998, 14004, 14006, 14008, 14012, 14015, 14018, 14021, 14025, 14026, 14027, 14036, 14037, 14040, 14041, 14043, 14050, 14053, 14056, 14061, 14062, 14067, 14068, 14070, 14074, 14075, 14076, 14077, 14082, 14090, 14091, 14092, 14094, 14095, 14098, 14103, 14106, 14113, 14114, 14115, 14118, 14119, 14125, 14127, 14129, 14130, 14136, 14141, 14151, 14152, 14163, 14165, 14171, 14176, 14182, 14191, 14194, 14205, 14207, 14208, 14209, 14211, 14212, 14218, 14220, 14223, 14233, 14238, 14246, 14249, 14251, 14252, 14257, 14262, 14265, 14267, 14274, 14280, 14283, 14284, 14285, 14288, 14302, 14304, 14307, 14310, 14311, 14316, 14322, 14324, 14325, 14326, 14328, 14331, 14336, 14337, 14338, 14345, 14346, 14347, 14349, 14353, 14362, 14364, 14366, 14369, 14373, 14380, 14382, 14389, 14400, 14402, 14403, 14405, 14415, 14419, 14427, 14430, 14433, 14437, 14440, 14443, 14458, 14459, 14461, 14464, 14471, 14475, 14477, 14485, 14489, 14491, 14493, 14494, 14495, 14498, 14500, 14502, 14503, 14509, 14510, 14516, 14519, 14520, 14527, 14529, 14536, 14538, 14542, 14543, 14546, 14550, 14560, 14562, 14564, 14567, 14568, 14570, 14572, 14579, 14582, 14583, 14590, 14592, 14596, 14597, 14598, 14599, 14600, 14602, 14611, 14612, 14616, 14625, 14628, 14631, 14635, 14649, 14651, 14660, 14665, 14666, 14669, 14675, 14676, 14679, 14681, 14683, 14687, 14688, 14694, 14701, 14702, 14705, 14707, 14712, 14725, 14732, 14741, 14742, 14745, 14748, 14752, 14754, 14755, 14756, 14763, 14776, 14786, 14791, 14795, 14796, 14797, 14798, 14802, 14805, 14809, 14817, 14821, 14829, 14830, 14831, 14832, 14833, 14834, 14836, 14838, 14847, 14852, 14853, 14859, 14860, 14869, 14885, 14888, 14889, 14892, 14893, 14894, 14900, 14903, 14904, 14910, 14913, 14918, 14923, 14929, 14931, 14942, 14943, 14944, 14948, 14950, 14952, 14957, 14963, 14965, 14967, 14973, 14984, 14986, 14987, 14988, 14989, 14991, 14992, 14993, 14998, 14999, 15003, 15006, 15007, 15008, 15009, 15010, 15012, 15014, 15015, 15017, 15018, 15019, 15022, 15024, 15026, 15028, 15030, 15032, 15033, 15034, 15035, 15038, 15040, 15044, 15053, 15057, 15058, 15059, 15063, 15071, 15072, 15074, 15075, 15076, 15078, 15088, 15091, 15092, 15095, 15098, 15103, 15107, 15108, 15109, 15111, 15113, 15116, 15123, 15128, 15134, 15135, 15136, 15138, 15140, 15143, 15145, 15146, 15153, 15159, 15160, 15164, 15166, 15170, 15171, 15175, 15181, 15183, 15186, 15187, 15190, 15192, 15207, 15208, 15222, 15227, 15228, 15230, 15231, 15238, 15239, 15245, 15247, 15248, 15251, 15254, 15257, 15260, 15262, 15264, 15269, 15270, 15272, 15275, 15287, 15289, 15292, 15295, 15298, 15301, 15302, 15307, 15309, 15315, 15321, 15322, 15323, 15325, 15327, 15335, 15338, 15344, 15351, 15354, 15355, 15357, 15364, 15366, 15372, 15375, 15377, 15382, 15385, 15391, 15392, 15398, 15403, 15404, 15407, 15408, 15412, 15414, 15420, 15424, 15427, 15430, 15447, 15448, 15450, 15455, 15461, 15471, 15472, 15473, 15474, 15475, 15480, 15482, 15483, 15484, 15485, 15486, 15488, 15490, 15491, 15492, 15500, 15504, 15506, 15511, 15512, 15514, 15524, 15527, 15529, 15530, 15534, 15535, 15541, 15545, 15549, 15550, 15553, 15556, 15559, 15562, 15568, 15569, 15572, 15573, 15578, 15580, 15582, 15583, 15584, 15586, 15593, 15594, 15596, 15597, 15599, 15600, 15602, 15603, 15604, 15605, 15609, 15615, 15624, 15627, 15629, 15631, 15634, 15644, 15650, 15652, 15661, 15673, 15674, 15680, 15681, 15686, 15688, 15690, 15691, 15693, 15698, 15701, 15705, 15706, 15708, 15713, 15716, 15717, 15721, 15724, 15732, 15733, 15736, 15740, 15743, 15745, 15755, 15759, 15760, 15761, 15763, 15766, 15767, 15771, 15774, 15777, 15778, 15779, 15781, 15783, 15786, 15790, 15791, 15792, 15802, 15805, 15814, 15816, 15823, 15824, 15826, 15829, 15832, 15833, 15835, 15836, 15838, 15842, 15843, 15849, 15854, 15856, 15858, 15860, 15861, 15869, 15871, 15873, 15874, 15876, 15877, 15878, 15886, 15887, 15890, 15896, 15904, 15912, 15915, 15925, 15928, 15940, 15943, 15944, 15950, 15951, 15953, 15955, 15958, 15961, 15971, 15980, 15985, 15986, 15987, 15989, 15991, 15995, 15998, 16000, 16001, 16014, 16018, 16022, 16032, 16038, 16039, 16045, 16053, 16054, 16058, 16062, 16065, 16066, 16068, 16069, 16074, 16077, 16082, 16083, 16084, 16085, 16089, 16091, 16092, 16098, 16104, 16113, 16116, 16117, 16120, 16122, 16123, 16124, 16127, 16135, 16142, 16143, 16149, 16151, 16154, 16161, 16163, 16165, 16166, 16169, 16175, 16178, 16186, 16191, 16199, 16200, 16202, 16207, 16210, 16213, 16216, 16217, 16219, 16223, 16226, 16229, 16232, 16234, 16239, 16242, 16247, 16249, 16252, 16253, 16254, 16261, 16263, 16266, 16267, 16273, 16274, 16276, 16283, 16284, 16289, 16292, 16295, 16297, 16302, 16307, 16311, 16313, 16319, 16324, 16325, 16329, 16333, 16335, 16336, 16337, 16338, 16341, 16343, 16345, 16346, 16347, 16348, 16349, 16350, 16353, 16356, 16358, 16360, 16362, 16364, 16367, 16368, 16370, 16371, 16374, 16381, 16390, 16393, 16402, 16408, 16413, 16414, 16416, 16420, 16425, 16428, 16429, 16430, 16435, 16440, 16441, 16446, 16452, 16458, 16465, 16470, 16472, 16476, 16478, 16480, 16483, 16486, 16488, 16493, 16495, 16498, 16501, 16506, 16507, 16508, 16510, 16511, 16515, 16516, 16518, 16519, 16523, 16529, 16530, 16532, 16534, 16535, 16536, 16538, 16540, 16545, 16549, 16552, 16555, 16558, 16563, 16564, 16565, 16567, 16569, 16571, 16573, 16574, 16579, 16585, 16586, 16587, 16593, 16594, 16597, 16598, 16600, 16601, 16606, 16623, 16632, 16634, 16637, 16643, 16661, 16665, 16672, 16673, 16683, 16691, 16694, 16699, 16705, 16712, 16715, 16716, 16720, 16722, 16725, 16729, 16730, 16732, 16737, 16739, 16740, 16741, 16744, 16746, 16750, 16752, 16759, 16760, 16764, 16769, 16773, 16776, 16780, 16782, 16784, 16785, 16786, 16787, 16788, 16789, 16790, 16791, 16792, 16794, 16795, 16797, 16798, 16803, 16808, 16809, 16812, 16814, 16818, 16820, 16822, 16823, 16828, 16831, 16833, 16834, 16835, 16837, 16843, 16846, 16849, 16851, 16853, 16854, 16856, 16858, 16861, 16864, 16865, 16866, 16874, 16876, 16878, 16879, 16885, 16898, 16901, 16910, 16911, 16913, 16916, 16917, 16918, 16923, 16924, 16927, 16928, 16930, 16932, 16934, 16935, 16937, 16941, 16942, 16947, 16960, 16961, 16963, 16964, 16966, 16968, 16970, 16976, 16979, 16980, 16994, 16995, 17003, 17008, 17011, 17013, 17016, 17021, 17023, 17025, 17028, 17031, 17039, 17045, 17050, 17053, 17056, 17059, 17060, 17061, 17068, 17069, 17076, 17077, 17080, 17084, 17094, 17100, 17109, 17112, 17113, 17116, 17121, 17126, 17130, 17131, 17134, 17139, 17147, 17165, 17174, 17176, 17177, 17178, 17183, 17188, 17190, 17193, 17195, 17198, 17199, 17202, 17208, 17209, 17221, 17224, 17227, 17232, 17234, 17235, 17236, 17238, 17239, 17243, 17244, 17246, 17247, 17257, 17258, 17267, 17268, 17283, 17285, 17289, 17290, 17300, 17308, 17312, 17315, 17317, 17322, 17334, 17335, 17337, 17338, 17340, 17342, 17348, 17352, 17360, 17362, 17363, 17376, 17378, 17385, 17386, 17388, 17389, 17390, 17391, 17392, 17396, 17397, 17398, 17400, 17402, 17403, 17409, 17411, 17412, 17416, 17417, 17419, 17421, 17423, 17424, 17428, 17434, 17438, 17439, 17442, 17445, 17446, 17447, 17454, 17455, 17467, 17469, 17471, 17476, 17477, 17478, 17486, 17507, 17508, 17511, 17513, 17515, 17517, 17523, 17526, 17535, 17541, 17542, 17549, 17552, 17553, 17557, 17559, 17562, 17565, 17566, 17571, 17572, 17573, 17576, 17577, 17587, 17591, 17593, 17600, 17605, 17606, 17610, 17614, 17615, 17619, 17620, 17623, 17631, 17638, 17641, 17643, 17645, 17649, 17654, 17660, 17668, 17669, 17670, 17671, 17673, 17675, 17678, 17680, 17682, 17685, 17692, 17698, 17699, 17700, 17702, 17706, 17710, 17712, 17713, 17714, 17715, 17716, 17723, 17729, 17733, 17735, 17736, 17739, 17742, 17744, 17745, 17756, 17759, 17762, 17766, 17769, 17776, 17780, 17784, 17785, 17787, 17788, 17796, 17798, 17800, 17807, 17821, 17827, 17832, 17840, 17847, 17853, 17857, 17858, 17859, 17860, 17869, 17874, 17880, 17881, 17882, 17886, 17888, 17892, 17894, 17897, 17909, 17911, 17912, 17917, 17923, 17926, 17929, 17943, 17946, 17948, 17952, 17953, 17955, 17958, 17964, 17965, 17968, 17978, 17979, 17981, 17984, 17991, 17996]\n",
      "4960\n"
     ]
    }
   ],
   "source": [
    "index = 0\n",
    "misclassified_images = []\n",
    "for label, predict in zip(y_test, y_pred_b_1_final):\n",
    "    if label != predict: \n",
    "        misclassified_images.append(index)\n",
    "    index +=1\n",
    "print(misclassified_images)\n",
    "print(len(misclassified_images))"
   ]
  },
  {
   "cell_type": "code",
   "execution_count": 101,
   "id": "8c7d29f3",
   "metadata": {},
   "outputs": [
    {
     "name": "stdout",
     "output_type": "stream",
     "text": [
      "Was predicted  3\n",
      "Was labeled  3\n",
      "Predicted Probabilities:  [[1.5150120e-09 1.0447627e-09 5.1994697e-09 9.9999785e-01 2.0003489e-10\n",
      "  2.0102495e-06 3.0795968e-09 1.4377974e-09 4.7505818e-08 1.4613940e-07]]\n"
     ]
    },
    {
     "data": {
      "image/png": "[encoded data removed]",
      "text/plain": [
       "<Figure size 432x288 with 1 Axes>"
      ]
     },
     "metadata": {
      "needs_background": "light"
     },
     "output_type": "display_data"
    }
   ],
   "source": [
    "image_index = 445\n",
    "plt.imshow(X_test[image_index].reshape(32, 32),cmap='Greys')\n",
    "pred = model_b_1.predict(X_test[image_index].reshape(-1, 1024))\n",
    "print(\"Was predicted \",pred.argmax())\n",
    "print(\"Was labeled \",y_test[image_index])\n",
    "print(\"Predicted Probabilities: \",pred)"
   ]
  },
  {
   "cell_type": "markdown",
   "id": "58e684b4",
   "metadata": {
    "id": "-JD472gVvnuf"
   },
   "source": [
    "## Model with hyperparameter tuning"
   ]
  },
  {
   "cell_type": "code",
   "execution_count": 102,
   "id": "4eb8df54",
   "metadata": {},
   "outputs": [
    {
     "name": "stdout",
     "output_type": "stream",
     "text": [
      "              precision    recall  f1-score   support\n",
      "\n",
      "           0       0.80      0.77      0.78      1814\n",
      "           1       0.73      0.83      0.78      1828\n",
      "           2       0.79      0.81      0.80      1803\n",
      "           3       0.75      0.71      0.73      1719\n",
      "           4       0.81      0.83      0.82      1812\n",
      "           5       0.74      0.73      0.73      1768\n",
      "           6       0.77      0.75      0.76      1832\n",
      "           7       0.82      0.80      0.81      1808\n",
      "           8       0.74      0.72      0.73      1812\n",
      "           9       0.75      0.74      0.75      1804\n",
      "\n",
      "    accuracy                           0.77     18000\n",
      "   macro avg       0.77      0.77      0.77     18000\n",
      "weighted avg       0.77      0.77      0.77     18000\n",
      "\n"
     ]
    }
   ],
   "source": [
    "from sklearn.metrics import classification_report\n",
    "print(classification_report(y_test,y_pred_final_7))"
   ]
  },
  {
   "cell_type": "code",
   "execution_count": 103,
   "id": "ce819dbb",
   "metadata": {
    "id": "u9QpcoZzhkP3"
   },
   "outputs": [],
   "source": [
    "from sklearn.metrics import confusion_matrix\n",
    "cm_1=confusion_matrix(y_test,y_pred_final_7)"
   ]
  },
  {
   "cell_type": "code",
   "execution_count": 104,
   "id": "94879e16",
   "metadata": {
    "colab": {
     "base_uri": "https://localhost:8080/",
     "height": 459
    },
    "id": "CcM8g7kMhp8N",
    "outputId": "214c276c-98e5-48a9-a069-eff5d864190e"
   },
   "outputs": [
    {
     "data": {
      "text/plain": [
       "Text(69.0, 0.5, 'Truth')"
      ]
     },
     "execution_count": 104,
     "metadata": {},
     "output_type": "execute_result"
    },
    {
     "data": {
      "image/png": "[encoded data removed]",
      "text/plain": [
       "<Figure size 720x504 with 2 Axes>"
      ]
     },
     "metadata": {
      "needs_background": "light"
     },
     "output_type": "display_data"
    }
   ],
   "source": [
    "plt.figure(figsize=(10,7))\n",
    "sns.heatmap(cm_1,annot=True,fmt='d')\n",
    "plt.xlabel('Predicted')\n",
    "plt.ylabel('Truth')"
   ]
  },
  {
   "cell_type": "code",
   "execution_count": 105,
   "id": "d1862192",
   "metadata": {
    "colab": {
     "base_uri": "https://localhost:8080/"
    },
    "id": "0dZ8vu1MzlFO",
    "outputId": "983aa6f4-0dfc-4e26-8dca-3893e552a1d1"
   },
   "outputs": [
    {
     "name": "stdout",
     "output_type": "stream",
     "text": [
      "[0, 1, 7, 8, 11, 14, 23, 25, 27, 37, 40, 45, 46, 47, 56, 67, 68, 76, 89, 90, 92, 93, 96, 97, 98, 100, 102, 108, 109, 114, 120, 127, 132, 136, 137, 138, 140, 142, 150, 151, 152, 154, 155, 156, 158, 161, 163, 170, 175, 176, 177, 182, 183, 185, 188, 194, 200, 203, 207, 210, 222, 223, 230, 232, 235, 239, 242, 251, 252, 253, 267, 270, 274, 284, 290, 301, 303, 307, 323, 324, 337, 347, 351, 355, 356, 360, 363, 372, 374, 375, 396, 398, 400, 402, 414, 415, 418, 426, 428, 429, 432, 437, 446, 448, 451, 454, 456, 457, 466, 484, 489, 490, 492, 496, 497, 498, 503, 504, 505, 507, 510, 511, 516, 520, 523, 524, 527, 530, 532, 534, 535, 537, 543, 551, 556, 562, 563, 586, 590, 592, 600, 612, 617, 619, 621, 630, 633, 640, 648, 652, 663, 664, 665, 671, 672, 690, 691, 694, 698, 700, 704, 706, 710, 717, 728, 753, 755, 756, 765, 768, 771, 780, 783, 784, 787, 790, 795, 797, 799, 803, 808, 813, 814, 815, 817, 835, 838, 845, 849, 856, 860, 862, 865, 867, 869, 871, 872, 875, 879, 887, 895, 896, 907, 908, 926, 927, 932, 935, 936, 941, 942, 946, 948, 951, 954, 955, 956, 965, 970, 983, 985, 988, 991, 993, 995, 997, 1004, 1006, 1009, 1013, 1016, 1021, 1025, 1026, 1030, 1035, 1040, 1041, 1045, 1046, 1050, 1057, 1060, 1063, 1066, 1068, 1073, 1074, 1081, 1085, 1086, 1087, 1089, 1095, 1098, 1101, 1106, 1109, 1112, 1115, 1126, 1127, 1132, 1133, 1137, 1139, 1142, 1146, 1147, 1148, 1150, 1151, 1154, 1155, 1159, 1169, 1175, 1180, 1182, 1186, 1189, 1192, 1194, 1204, 1205, 1207, 1217, 1220, 1223, 1227, 1228, 1232, 1244, 1252, 1260, 1272, 1279, 1280, 1291, 1292, 1296, 1301, 1304, 1313, 1318, 1320, 1325, 1341, 1344, 1353, 1355, 1356, 1357, 1363, 1366, 1375, 1376, 1378, 1390, 1403, 1407, 1410, 1414, 1418, 1420, 1421, 1425, 1431, 1433, 1436, 1437, 1449, 1452, 1466, 1467, 1470, 1477, 1479, 1484, 1495, 1507, 1523, 1532, 1537, 1540, 1546, 1549, 1550, 1552, 1559, 1562, 1565, 1569, 1573, 1574, 1580, 1582, 1584, 1591, 1593, 1596, 1603, 1604, 1606, 1609, 1613, 1615, 1620, 1635, 1645, 1655, 1663, 1674, 1675, 1676, 1688, 1692, 1700, 1706, 1714, 1717, 1722, 1727, 1728, 1734, 1746, 1749, 1750, 1751, 1756, 1762, 1763, 1770, 1786, 1788, 1818, 1827, 1835, 1837, 1838, 1844, 1846, 1848, 1850, 1851, 1853, 1862, 1863, 1865, 1871, 1873, 1875, 1879, 1880, 1886, 1889, 1890, 1891, 1892, 1895, 1899, 1905, 1906, 1907, 1909, 1910, 1912, 1913, 1914, 1922, 1928, 1930, 1936, 1939, 1942, 1946, 1948, 1952, 1955, 1957, 1964, 1971, 1973, 1979, 1983, 1985, 1990, 1995, 1996, 2001, 2005, 2008, 2011, 2020, 2023, 2025, 2026, 2030, 2031, 2034, 2041, 2050, 2055, 2056, 2060, 2063, 2066, 2070, 2072, 2074, 2081, 2083, 2096, 2099, 2102, 2107, 2109, 2112, 2115, 2116, 2117, 2124, 2127, 2128, 2141, 2156, 2158, 2159, 2167, 2168, 2178, 2184, 2187, 2191, 2195, 2196, 2205, 2212, 2213, 2219, 2226, 2233, 2234, 2236, 2245, 2247, 2248, 2249, 2278, 2281, 2283, 2294, 2297, 2298, 2309, 2320, 2328, 2329, 2335, 2336, 2338, 2339, 2347, 2349, 2361, 2363, 2368, 2369, 2378, 2381, 2387, 2388, 2404, 2405, 2406, 2412, 2416, 2417, 2418, 2419, 2424, 2430, 2431, 2436, 2437, 2438, 2440, 2441, 2445, 2448, 2449, 2450, 2454, 2456, 2459, 2462, 2464, 2467, 2468, 2469, 2479, 2488, 2489, 2493, 2503, 2506, 2507, 2509, 2511, 2513, 2514, 2517, 2523, 2524, 2532, 2542, 2546, 2549, 2552, 2553, 2554, 2555, 2557, 2559, 2565, 2570, 2574, 2582, 2591, 2596, 2598, 2600, 2601, 2605, 2607, 2608, 2609, 2611, 2614, 2617, 2619, 2620, 2622, 2626, 2628, 2632, 2633, 2634, 2636, 2648, 2651, 2655, 2659, 2661, 2668, 2670, 2675, 2691, 2700, 2703, 2706, 2707, 2708, 2711, 2717, 2718, 2722, 2731, 2733, 2744, 2749, 2759, 2763, 2766, 2780, 2791, 2794, 2796, 2802, 2803, 2804, 2810, 2811, 2812, 2822, 2831, 2834, 2840, 2845, 2846, 2849, 2851, 2855, 2856, 2857, 2859, 2869, 2873, 2875, 2878, 2879, 2881, 2905, 2908, 2911, 2914, 2916, 2918, 2923, 2925, 2928, 2931, 2937, 2945, 2955, 2956, 2957, 2962, 2979, 2984, 2985, 2996, 2997, 2999, 3006, 3007, 3012, 3013, 3018, 3020, 3021, 3022, 3026, 3027, 3029, 3036, 3038, 3041, 3044, 3047, 3049, 3050, 3060, 3066, 3072, 3073, 3081, 3082, 3083, 3084, 3086, 3088, 3097, 3102, 3112, 3113, 3119, 3123, 3128, 3132, 3136, 3137, 3146, 3147, 3153, 3157, 3159, 3160, 3163, 3166, 3167, 3170, 3173, 3175, 3183, 3186, 3190, 3192, 3200, 3219, 3221, 3235, 3245, 3250, 3254, 3257, 3261, 3263, 3275, 3276, 3277, 3290, 3291, 3313, 3328, 3330, 3333, 3334, 3338, 3340, 3343, 3350, 3371, 3372, 3383, 3393, 3394, 3397, 3402, 3403, 3404, 3407, 3414, 3418, 3424, 3428, 3430, 3432, 3435, 3437, 3438, 3442, 3443, 3448, 3451, 3452, 3454, 3462, 3463, 3464, 3465, 3466, 3469, 3471, 3473, 3476, 3477, 3487, 3495, 3507, 3516, 3521, 3529, 3531, 3534, 3539, 3556, 3557, 3564, 3573, 3576, 3579, 3584, 3589, 3592, 3595, 3596, 3607, 3608, 3612, 3619, 3624, 3626, 3640, 3642, 3643, 3650, 3652, 3656, 3662, 3669, 3672, 3674, 3687, 3692, 3694, 3698, 3700, 3701, 3715, 3719, 3721, 3731, 3736, 3737, 3746, 3749, 3751, 3752, 3755, 3757, 3764, 3765, 3768, 3769, 3772, 3778, 3779, 3783, 3786, 3793, 3797, 3799, 3810, 3812, 3813, 3816, 3821, 3823, 3844, 3853, 3854, 3879, 3880, 3888, 3892, 3895, 3901, 3903, 3906, 3915, 3916, 3922, 3928, 3938, 3948, 3951, 3956, 3958, 3960, 3976, 3977, 3981, 3983, 3989, 3992, 4019, 4021, 4027, 4029, 4030, 4032, 4034, 4035, 4044, 4045, 4046, 4058, 4060, 4061, 4063, 4072, 4075, 4078, 4083, 4085, 4091, 4095, 4098, 4120, 4122, 4130, 4131, 4133, 4135, 4139, 4143, 4145, 4146, 4150, 4152, 4154, 4156, 4162, 4164, 4167, 4170, 4175, 4177, 4179, 4182, 4183, 4184, 4186, 4194, 4197, 4205, 4209, 4213, 4216, 4217, 4218, 4219, 4235, 4241, 4247, 4248, 4249, 4251, 4255, 4260, 4261, 4266, 4267, 4272, 4279, 4288, 4298, 4299, 4301, 4305, 4310, 4311, 4315, 4328, 4335, 4336, 4339, 4343, 4345, 4350, 4352, 4353, 4354, 4355, 4367, 4373, 4376, 4378, 4380, 4387, 4388, 4390, 4396, 4397, 4399, 4400, 4401, 4409, 4415, 4418, 4431, 4434, 4439, 4446, 4448, 4457, 4459, 4461, 4462, 4466, 4470, 4483, 4487, 4493, 4502, 4509, 4516, 4528, 4539, 4557, 4560, 4567, 4569, 4572, 4574, 4582, 4588, 4592, 4602, 4606, 4607, 4610, 4621, 4622, 4623, 4628, 4630, 4635, 4638, 4641, 4642, 4646, 4647, 4651, 4652, 4655, 4659, 4660, 4661, 4662, 4667, 4673, 4675, 4679, 4687, 4693, 4695, 4697, 4699, 4700, 4709, 4712, 4719, 4723, 4727, 4728, 4730, 4736, 4742, 4743, 4744, 4752, 4755, 4756, 4770, 4780, 4789, 4798, 4805, 4812, 4813, 4814, 4815, 4816, 4818, 4822, 4824, 4831, 4832, 4833, 4835, 4838, 4839, 4854, 4856, 4858, 4862, 4875, 4878, 4883, 4887, 4892, 4899, 4900, 4919, 4927, 4932, 4934, 4946, 4949, 4953, 4957, 4960, 4966, 4970, 4984, 4985, 4989, 4990, 4994, 4996, 5000, 5003, 5019, 5029, 5033, 5036, 5042, 5046, 5049, 5058, 5062, 5068, 5069, 5072, 5075, 5079, 5081, 5086, 5087, 5088, 5091, 5101, 5108, 5131, 5135, 5138, 5143, 5147, 5154, 5155, 5161, 5164, 5166, 5171, 5175, 5179, 5185, 5186, 5188, 5194, 5199, 5210, 5211, 5225, 5227, 5230, 5239, 5240, 5244, 5246, 5247, 5251, 5256, 5260, 5262, 5264, 5272, 5282, 5291, 5293, 5308, 5309, 5312, 5316, 5317, 5318, 5335, 5338, 5340, 5345, 5353, 5364, 5366, 5370, 5373, 5381, 5391, 5394, 5395, 5398, 5400, 5401, 5404, 5415, 5416, 5424, 5433, 5439, 5442, 5443, 5451, 5453, 5454, 5457, 5462, 5466, 5467, 5476, 5477, 5485, 5494, 5499, 5500, 5503, 5505, 5511, 5513, 5522, 5523, 5526, 5530, 5532, 5534, 5539, 5541, 5549, 5556, 5557, 5559, 5563, 5564, 5566, 5577, 5579, 5589, 5591, 5592, 5595, 5596, 5602, 5603, 5609, 5611, 5616, 5624, 5627, 5639, 5640, 5647, 5650, 5656, 5658, 5660, 5661, 5665, 5666, 5674, 5679, 5680, 5681, 5688, 5689, 5697, 5704, 5710, 5715, 5716, 5719, 5721, 5724, 5729, 5732, 5736, 5748, 5749, 5762, 5766, 5767, 5771, 5773, 5776, 5777, 5778, 5779, 5783, 5784, 5791, 5793, 5803, 5805, 5809, 5812, 5813, 5814, 5823, 5829, 5835, 5837, 5838, 5839, 5840, 5841, 5847, 5849, 5852, 5853, 5857, 5859, 5863, 5865, 5875, 5876, 5878, 5880, 5899, 5919, 5924, 5929, 5934, 5948, 5953, 5955, 5968, 5976, 5979, 5986, 5987, 5991, 5992, 5996, 5998, 6000, 6003, 6006, 6011, 6012, 6019, 6022, 6028, 6030, 6039, 6044, 6056, 6057, 6063, 6069, 6075, 6080, 6081, 6090, 6095, 6096, 6099, 6100, 6106, 6107, 6108, 6114, 6115, 6119, 6127, 6132, 6135, 6139, 6145, 6150, 6152, 6153, 6157, 6166, 6174, 6181, 6183, 6184, 6194, 6195, 6197, 6199, 6200, 6202, 6203, 6204, 6205, 6207, 6218, 6219, 6221, 6223, 6224, 6231, 6235, 6249, 6253, 6263, 6264, 6266, 6269, 6270, 6273, 6277, 6279, 6280, 6283, 6285, 6289, 6291, 6296, 6298, 6299, 6301, 6302, 6304, 6308, 6309, 6310, 6311, 6315, 6320, 6322, 6331, 6332, 6334, 6336, 6347, 6348, 6349, 6350, 6353, 6359, 6360, 6364, 6365, 6366, 6369, 6370, 6373, 6384, 6385, 6386, 6388, 6411, 6412, 6427, 6428, 6432, 6434, 6435, 6436, 6440, 6441, 6443, 6445, 6447, 6457, 6458, 6465, 6467, 6475, 6483, 6486, 6488, 6489, 6492, 6500, 6503, 6514, 6520, 6521, 6524, 6531, 6532, 6539, 6544, 6546, 6548, 6549, 6552, 6565, 6569, 6571, 6581, 6587, 6588, 6593, 6596, 6602, 6603, 6605, 6606, 6609, 6612, 6615, 6619, 6626, 6629, 6631, 6635, 6650, 6655, 6662, 6671, 6678, 6684, 6686, 6687, 6689, 6699, 6701, 6707, 6713, 6715, 6716, 6719, 6725, 6737, 6738, 6749, 6750, 6756, 6759, 6760, 6761, 6764, 6766, 6769, 6770, 6775, 6785, 6788, 6790, 6795, 6807, 6808, 6809, 6818, 6821, 6832, 6835, 6841, 6842, 6852, 6853, 6854, 6855, 6856, 6858, 6860, 6866, 6875, 6878, 6882, 6887, 6889, 6891, 6893, 6894, 6898, 6900, 6911, 6913, 6918, 6921, 6922, 6933, 6934, 6935, 6936, 6937, 6939, 6941, 6942, 6945, 6947, 6948, 6949, 6952, 6959, 6960, 6963, 6969, 6970, 6971, 6980, 6982, 6990, 6992, 6998, 7003, 7007, 7013, 7024, 7035, 7036, 7048, 7056, 7062, 7065, 7071, 7077, 7082, 7092, 7093, 7101, 7106, 7122, 7124, 7127, 7128, 7134, 7136, 7138, 7143, 7144, 7146, 7149, 7150, 7152, 7154, 7158, 7159, 7161, 7164, 7168, 7173, 7176, 7181, 7187, 7189, 7199, 7201, 7211, 7218, 7221, 7226, 7231, 7235, 7240, 7244, 7246, 7253, 7257, 7259, 7264, 7265, 7272, 7289, 7290, 7300, 7304, 7307, 7314, 7318, 7324, 7334, 7335, 7336, 7341, 7342, 7343, 7346, 7347, 7351, 7352, 7360, 7361, 7365, 7369, 7372, 7373, 7374, 7394, 7398, 7399, 7403, 7411, 7419, 7420, 7423, 7424, 7429, 7431, 7432, 7434, 7435, 7436, 7441, 7442, 7447, 7448, 7450, 7457, 7466, 7471, 7476, 7477, 7482, 7483, 7488, 7499, 7500, 7504, 7507, 7511, 7515, 7526, 7527, 7529, 7530, 7532, 7537, 7542, 7544, 7545, 7550, 7556, 7561, 7574, 7582, 7584, 7585, 7586, 7591, 7592, 7595, 7601, 7602, 7617, 7618, 7619, 7623, 7624, 7629, 7630, 7631, 7632, 7633, 7636, 7640, 7642, 7644, 7655, 7658, 7662, 7664, 7668, 7672, 7681, 7686, 7687, 7689, 7692, 7705, 7707, 7709, 7712, 7714, 7724, 7751, 7752, 7753, 7757, 7761, 7766, 7769, 7772, 7773, 7778, 7781, 7789, 7795, 7797, 7800, 7801, 7805, 7809, 7817, 7838, 7841, 7843, 7845, 7851, 7863, 7864, 7866, 7871, 7877, 7878, 7879, 7886, 7895, 7898, 7899, 7903, 7907, 7909, 7913, 7920, 7921, 7926, 7927, 7931, 7934, 7941, 7943, 7944, 7948, 7950, 7953, 7958, 7964, 7969, 7971, 7974, 7984, 7997, 8001, 8010, 8014, 8024, 8028, 8029, 8031, 8032, 8039, 8042, 8044, 8045, 8046, 8055, 8056, 8057, 8070, 8076, 8084, 8089, 8091, 8094, 8096, 8112, 8117, 8118, 8120, 8132, 8147, 8148, 8158, 8161, 8175, 8179, 8182, 8184, 8189, 8190, 8191, 8193, 8194, 8208, 8220, 8222, 8223, 8225, 8226, 8228, 8235, 8242, 8245, 8247, 8250, 8251, 8252, 8260, 8264, 8265, 8269, 8270, 8273, 8284, 8286, 8294, 8309, 8310, 8314, 8316, 8317, 8318, 8328, 8329, 8333, 8344, 8348, 8349, 8364, 8368, 8386, 8387, 8390, 8392, 8398, 8414, 8415, 8418, 8419, 8438, 8439, 8444, 8450, 8454, 8456, 8461, 8463, 8467, 8484, 8489, 8499, 8503, 8507, 8511, 8515, 8517, 8520, 8524, 8534, 8535, 8536, 8537, 8539, 8540, 8545, 8546, 8553, 8562, 8563, 8567, 8572, 8577, 8579, 8592, 8603, 8606, 8607, 8608, 8610, 8625, 8629, 8630, 8634, 8637, 8639, 8641, 8645, 8647, 8652, 8657, 8666, 8669, 8673, 8676, 8678, 8680, 8686, 8688, 8691, 8696, 8698, 8704, 8706, 8707, 8708, 8709, 8723, 8728, 8734, 8739, 8740, 8745, 8746, 8759, 8761, 8771, 8783, 8788, 8789, 8792, 8793, 8800, 8806, 8815, 8820, 8821, 8823, 8833, 8840, 8843, 8846, 8847, 8850, 8852, 8856, 8861, 8862, 8864, 8865, 8869, 8871, 8881, 8882, 8891, 8893, 8895, 8899, 8900, 8904, 8908, 8918, 8928, 8929, 8932, 8936, 8937, 8944, 8947, 8949, 8952, 8956, 8959, 8961, 8968, 8971, 8972, 8974, 8975, 8978, 8984, 8997, 8999, 9008, 9017, 9019, 9023, 9025, 9035, 9036, 9038, 9042, 9044, 9051, 9055, 9058, 9060, 9061, 9064, 9065, 9076, 9078, 9080, 9082, 9086, 9093, 9105, 9107, 9108, 9111, 9114, 9120, 9123, 9125, 9128, 9133, 9141, 9142, 9144, 9149, 9152, 9160, 9163, 9175, 9177, 9178, 9183, 9186, 9201, 9205, 9214, 9230, 9235, 9238, 9243, 9250, 9257, 9260, 9265, 9274, 9275, 9279, 9285, 9286, 9287, 9291, 9296, 9310, 9316, 9320, 9322, 9325, 9328, 9331, 9342, 9343, 9344, 9345, 9351, 9356, 9358, 9365, 9377, 9382, 9388, 9396, 9399, 9403, 9405, 9413, 9415, 9423, 9424, 9426, 9427, 9428, 9429, 9430, 9431, 9433, 9436, 9438, 9440, 9442, 9445, 9448, 9450, 9459, 9460, 9462, 9463, 9472, 9474, 9480, 9481, 9482, 9489, 9494, 9503, 9515, 9517, 9523, 9526, 9535, 9536, 9540, 9541, 9545, 9546, 9550, 9553, 9555, 9568, 9575, 9582, 9589, 9596, 9605, 9606, 9608, 9609, 9615, 9634, 9638, 9640, 9641, 9642, 9645, 9651, 9663, 9664, 9676, 9677, 9681, 9683, 9685, 9689, 9700, 9708, 9714, 9720, 9725, 9728, 9729, 9736, 9740, 9746, 9750, 9752, 9753, 9761, 9762, 9765, 9774, 9782, 9785, 9799, 9810, 9812, 9817, 9828, 9830, 9832, 9835, 9843, 9845, 9850, 9851, 9854, 9855, 9868, 9870, 9872, 9876, 9884, 9890, 9899, 9901, 9902, 9904, 9905, 9906, 9911, 9917, 9918, 9921, 9923, 9926, 9934, 9937, 9943, 9948, 9949, 9950, 9958, 9963, 9969, 9970, 9977, 9979, 9982, 9988, 9993, 9996, 9997, 9999, 10001, 10002, 10005, 10010, 10027, 10029, 10030, 10040, 10046, 10047, 10052, 10071, 10072, 10084, 10085, 10087, 10088, 10095, 10098, 10099, 10105, 10109, 10115, 10123, 10130, 10136, 10141, 10142, 10146, 10147, 10148, 10151, 10152, 10161, 10167, 10171, 10176, 10186, 10188, 10189, 10192, 10193, 10194, 10196, 10202, 10204, 10205, 10207, 10209, 10210, 10217, 10219, 10225, 10227, 10232, 10235, 10236, 10240, 10241, 10243, 10251, 10256, 10262, 10265, 10266, 10268, 10271, 10282, 10284, 10285, 10294, 10297, 10302, 10305, 10310, 10313, 10316, 10319, 10322, 10329, 10333, 10342, 10347, 10365, 10368, 10371, 10375, 10378, 10379, 10382, 10386, 10391, 10398, 10400, 10410, 10412, 10415, 10419, 10421, 10424, 10428, 10431, 10433, 10434, 10438, 10443, 10445, 10446, 10447, 10449, 10453, 10460, 10466, 10468, 10470, 10472, 10473, 10479, 10483, 10487, 10492, 10494, 10495, 10496, 10502, 10506, 10508, 10509, 10514, 10517, 10527, 10528, 10529, 10535, 10538, 10543, 10550, 10551, 10552, 10558, 10565, 10566, 10572, 10574, 10583, 10585, 10594, 10596, 10601, 10604, 10607, 10609, 10615, 10620, 10627, 10628, 10629, 10635, 10645, 10651, 10652, 10658, 10659, 10667, 10669, 10670, 10671, 10672, 10674, 10678, 10689, 10705, 10706, 10716, 10717, 10718, 10726, 10738, 10740, 10742, 10745, 10748, 10751, 10753, 10761, 10764, 10765, 10766, 10768, 10771, 10772, 10774, 10790, 10791, 10792, 10795, 10807, 10810, 10816, 10824, 10826, 10827, 10830, 10831, 10832, 10853, 10854, 10856, 10865, 10868, 10873, 10884, 10892, 10904, 10906, 10908, 10911, 10914, 10926, 10932, 10935, 10937, 10945, 10946, 10953, 10954, 10958, 10960, 10963, 10971, 10978, 10981, 10989, 10990, 10991, 10995, 11000, 11008, 11013, 11014, 11018, 11024, 11025, 11026, 11028, 11037, 11040, 11045, 11053, 11054, 11061, 11064, 11072, 11077, 11088, 11096, 11097, 11101, 11106, 11113, 11116, 11119, 11125, 11130, 11135, 11139, 11144, 11145, 11155, 11157, 11160, 11164, 11169, 11173, 11174, 11176, 11187, 11193, 11194, 11197, 11202, 11209, 11216, 11219, 11231, 11240, 11241, 11243, 11247, 11250, 11253, 11263, 11269, 11275, 11277, 11284, 11290, 11291, 11293, 11299, 11305, 11307, 11313, 11314, 11318, 11327, 11334, 11338, 11340, 11351, 11353, 11355, 11363, 11364, 11366, 11372, 11377, 11383, 11393, 11394, 11395, 11396, 11402, 11414, 11417, 11418, 11422, 11425, 11429, 11432, 11434, 11435, 11443, 11456, 11466, 11469, 11470, 11480, 11490, 11496, 11499, 11502, 11504, 11505, 11512, 11513, 11514, 11523, 11526, 11527, 11533, 11537, 11538, 11540, 11541, 11542, 11543, 11549, 11550, 11554, 11555, 11556, 11559, 11563, 11564, 11569, 11570, 11575, 11576, 11585, 11592, 11610, 11615, 11619, 11622, 11639, 11646, 11651, 11652, 11655, 11656, 11659, 11665, 11670, 11671, 11674, 11675, 11681, 11687, 11691, 11698, 11703, 11709, 11712, 11722, 11734, 11736, 11741, 11744, 11749, 11757, 11758, 11760, 11765, 11766, 11771, 11776, 11777, 11783, 11785, 11787, 11789, 11798, 11799, 11803, 11805, 11816, 11819, 11822, 11842, 11848, 11851, 11854, 11855, 11857, 11864, 11865, 11872, 11873, 11882, 11886, 11889, 11890, 11891, 11901, 11909, 11912, 11918, 11925, 11933, 11935, 11938, 11945, 11949, 11950, 11960, 11962, 11964, 11973, 11974, 11975, 11981, 11994, 11999, 12017, 12018, 12024, 12025, 12026, 12029, 12031, 12033, 12035, 12037, 12039, 12041, 12046, 12057, 12062, 12068, 12072, 12083, 12093, 12095, 12097, 12098, 12100, 12102, 12108, 12110, 12112, 12113, 12115, 12119, 12121, 12124, 12127, 12129, 12130, 12147, 12150, 12151, 12152, 12155, 12158, 12159, 12161, 12184, 12190, 12196, 12197, 12198, 12203, 12205, 12207, 12209, 12213, 12216, 12218, 12229, 12238, 12242, 12243, 12245, 12246, 12249, 12256, 12257, 12268, 12271, 12277, 12284, 12291, 12297, 12302, 12310, 12315, 12329, 12334, 12335, 12338, 12339, 12349, 12350, 12351, 12361, 12363, 12373, 12380, 12398, 12400, 12410, 12411, 12413, 12414, 12417, 12419, 12423, 12433, 12434, 12441, 12447, 12449, 12450, 12451, 12456, 12463, 12464, 12469, 12471, 12478, 12481, 12486, 12491, 12496, 12498, 12502, 12505, 12517, 12522, 12525, 12530, 12537, 12545, 12548, 12553, 12559, 12580, 12583, 12587, 12588, 12590, 12594, 12597, 12599, 12600, 12602, 12609, 12612, 12617, 12621, 12622, 12629, 12631, 12632, 12652, 12653, 12656, 12657, 12660, 12674, 12677, 12690, 12694, 12698, 12700, 12703, 12704, 12708, 12712, 12717, 12718, 12722, 12729, 12736, 12742, 12744, 12747, 12763, 12766, 12772, 12778, 12779, 12782, 12784, 12786, 12787, 12804, 12806, 12808, 12810, 12821, 12825, 12828, 12830, 12834, 12836, 12837, 12844, 12845, 12855, 12864, 12865, 12866, 12870, 12873, 12874, 12878, 12880, 12883, 12887, 12888, 12891, 12894, 12895, 12902, 12903, 12906, 12909, 12910, 12913, 12919, 12922, 12926, 12930, 12933, 12944, 12947, 12955, 12961, 12965, 12968, 12969, 12971, 12972, 12976, 12978, 12979, 12981, 12986, 12994, 12996, 13002, 13006, 13007, 13019, 13025, 13028, 13034, 13045, 13049, 13051, 13053, 13056, 13061, 13062, 13063, 13068, 13076, 13078, 13079, 13085, 13086, 13089, 13094, 13097, 13102, 13107, 13110, 13111, 13118, 13124, 13129, 13130, 13133, 13134, 13140, 13147, 13158, 13160, 13162, 13163, 13166, 13168, 13171, 13174, 13179, 13180, 13181, 13190, 13193, 13194, 13195, 13200, 13206, 13207, 13208, 13209, 13216, 13220, 13223, 13225, 13231, 13234, 13235, 13237, 13241, 13248, 13249, 13251, 13252, 13270, 13273, 13276, 13282, 13285, 13287, 13298, 13303, 13312, 13315, 13317, 13321, 13325, 13328, 13330, 13333, 13335, 13336, 13337, 13340, 13341, 13343, 13344, 13351, 13354, 13356, 13360, 13362, 13375, 13376, 13392, 13397, 13398, 13401, 13402, 13408, 13409, 13413, 13414, 13415, 13418, 13419, 13427, 13431, 13436, 13438, 13439, 13447, 13453, 13463, 13467, 13468, 13471, 13472, 13474, 13483, 13487, 13488, 13496, 13499, 13500, 13503, 13505, 13509, 13520, 13528, 13530, 13535, 13540, 13541, 13543, 13545, 13548, 13574, 13583, 13594, 13597, 13599, 13608, 13610, 13618, 13621, 13624, 13628, 13630, 13632, 13635, 13636, 13637, 13648, 13649, 13674, 13678, 13680, 13684, 13691, 13693, 13701, 13702, 13704, 13708, 13709, 13711, 13714, 13720, 13724, 13731, 13737, 13747, 13748, 13749, 13755, 13759, 13763, 13765, 13773, 13775, 13777, 13783, 13784, 13786, 13788, 13789, 13796, 13802, 13806, 13808, 13811, 13817, 13823, 13827, 13828, 13831, 13841, 13857, 13861, 13867, 13876, 13883, 13907, 13913, 13917, 13938, 13940, 13945, 13948, 13952, 13955, 13960, 13961, 13962, 13963, 13964, 13965, 13966, 13969, 13973, 13984, 13998, 14004, 14006, 14009, 14012, 14018, 14019, 14024, 14036, 14037, 14040, 14055, 14061, 14067, 14068, 14070, 14074, 14076, 14091, 14092, 14094, 14095, 14097, 14098, 14100, 14118, 14126, 14127, 14133, 14139, 14141, 14151, 14152, 14171, 14176, 14177, 14182, 14190, 14194, 14195, 14205, 14207, 14209, 14211, 14218, 14220, 14246, 14252, 14262, 14265, 14274, 14280, 14283, 14284, 14285, 14288, 14295, 14303, 14307, 14308, 14310, 14311, 14314, 14316, 14323, 14324, 14325, 14326, 14328, 14330, 14331, 14336, 14341, 14345, 14352, 14355, 14364, 14369, 14373, 14380, 14384, 14394, 14395, 14402, 14403, 14405, 14415, 14419, 14422, 14427, 14430, 14433, 14437, 14440, 14443, 14459, 14461, 14464, 14471, 14473, 14475, 14477, 14478, 14485, 14489, 14491, 14493, 14494, 14500, 14503, 14509, 14516, 14519, 14520, 14529, 14541, 14550, 14560, 14561, 14562, 14567, 14572, 14579, 14582, 14592, 14597, 14599, 14602, 14611, 14612, 14616, 14617, 14619, 14622, 14625, 14628, 14631, 14635, 14636, 14649, 14651, 14657, 14666, 14668, 14675, 14676, 14677, 14679, 14681, 14682, 14683, 14687, 14688, 14697, 14701, 14702, 14704, 14705, 14712, 14725, 14732, 14741, 14742, 14743, 14748, 14752, 14754, 14755, 14756, 14763, 14776, 14786, 14791, 14795, 14796, 14797, 14798, 14802, 14805, 14809, 14817, 14821, 14824, 14830, 14831, 14832, 14833, 14836, 14838, 14844, 14852, 14853, 14859, 14885, 14888, 14889, 14892, 14893, 14894, 14903, 14904, 14905, 14913, 14914, 14917, 14918, 14923, 14931, 14942, 14943, 14944, 14952, 14960, 14963, 14967, 14969, 14973, 14982, 14984, 14986, 14988, 14989, 14992, 14993, 14998, 15006, 15008, 15009, 15010, 15012, 15014, 15015, 15017, 15019, 15022, 15026, 15028, 15030, 15031, 15032, 15033, 15038, 15040, 15053, 15057, 15058, 15062, 15063, 15071, 15072, 15074, 15076, 15078, 15085, 15091, 15092, 15095, 15098, 15100, 15103, 15107, 15108, 15109, 15111, 15113, 15115, 15119, 15123, 15128, 15134, 15136, 15138, 15143, 15153, 15159, 15160, 15164, 15166, 15170, 15171, 15181, 15186, 15190, 15192, 15201, 15208, 15215, 15227, 15238, 15239, 15248, 15251, 15252, 15253, 15254, 15257, 15260, 15262, 15269, 15273, 15275, 15287, 15289, 15292, 15298, 15301, 15302, 15307, 15315, 15320, 15321, 15322, 15325, 15327, 15329, 15335, 15344, 15354, 15357, 15364, 15372, 15377, 15385, 15391, 15392, 15398, 15400, 15403, 15407, 15409, 15414, 15415, 15417, 15420, 15424, 15425, 15430, 15435, 15442, 15447, 15450, 15461, 15471, 15473, 15474, 15475, 15480, 15482, 15485, 15486, 15488, 15490, 15491, 15492, 15497, 15511, 15522, 15524, 15527, 15530, 15533, 15534, 15545, 15550, 15568, 15569, 15571, 15572, 15578, 15580, 15584, 15586, 15593, 15597, 15599, 15602, 15603, 15605, 15609, 15615, 15627, 15629, 15630, 15631, 15635, 15637, 15644, 15650, 15652, 15661, 15674, 15680, 15681, 15686, 15688, 15693, 15694, 15698, 15701, 15705, 15706, 15708, 15713, 15717, 15721, 15724, 15729, 15730, 15732, 15736, 15740, 15745, 15753, 15755, 15759, 15760, 15761, 15763, 15766, 15767, 15771, 15775, 15777, 15778, 15779, 15781, 15783, 15789, 15790, 15791, 15792, 15802, 15809, 15814, 15823, 15829, 15832, 15833, 15835, 15836, 15842, 15843, 15853, 15854, 15858, 15861, 15869, 15871, 15873, 15874, 15876, 15886, 15887, 15890, 15896, 15904, 15913, 15915, 15924, 15925, 15928, 15940, 15943, 15944, 15950, 15951, 15955, 15956, 15966, 15968, 15971, 15980, 15985, 15991, 15995, 15996, 16000, 16001, 16011, 16015, 16018, 16022, 16032, 16035, 16037, 16038, 16039, 16049, 16056, 16058, 16062, 16066, 16068, 16069, 16078, 16083, 16084, 16085, 16091, 16092, 16098, 16100, 16112, 16113, 16116, 16117, 16122, 16123, 16127, 16141, 16143, 16149, 16151, 16154, 16161, 16163, 16166, 16169, 16174, 16175, 16176, 16178, 16186, 16196, 16199, 16200, 16207, 16208, 16213, 16216, 16217, 16219, 16223, 16226, 16232, 16234, 16239, 16242, 16243, 16244, 16247, 16249, 16252, 16253, 16263, 16274, 16276, 16283, 16284, 16292, 16295, 16297, 16298, 16302, 16307, 16311, 16314, 16319, 16329, 16333, 16335, 16336, 16337, 16341, 16345, 16346, 16347, 16348, 16350, 16355, 16356, 16358, 16362, 16364, 16367, 16368, 16371, 16374, 16382, 16390, 16393, 16402, 16408, 16413, 16425, 16429, 16430, 16432, 16435, 16440, 16441, 16452, 16458, 16465, 16470, 16476, 16480, 16483, 16488, 16493, 16495, 16506, 16507, 16508, 16510, 16511, 16515, 16516, 16519, 16520, 16523, 16529, 16530, 16532, 16535, 16536, 16538, 16540, 16545, 16549, 16551, 16552, 16558, 16560, 16563, 16564, 16565, 16567, 16569, 16571, 16573, 16585, 16593, 16596, 16597, 16598, 16600, 16606, 16623, 16631, 16632, 16633, 16634, 16643, 16648, 16652, 16657, 16661, 16663, 16665, 16672, 16673, 16683, 16691, 16699, 16705, 16712, 16715, 16716, 16720, 16725, 16730, 16737, 16740, 16741, 16744, 16746, 16750, 16752, 16760, 16764, 16769, 16773, 16776, 16780, 16782, 16785, 16786, 16787, 16789, 16790, 16794, 16798, 16803, 16812, 16814, 16820, 16822, 16823, 16828, 16831, 16833, 16834, 16835, 16836, 16837, 16843, 16846, 16851, 16853, 16854, 16856, 16858, 16861, 16864, 16865, 16874, 16876, 16878, 16879, 16894, 16896, 16901, 16904, 16910, 16911, 16913, 16914, 16916, 16917, 16918, 16923, 16927, 16930, 16932, 16934, 16935, 16937, 16940, 16941, 16942, 16947, 16961, 16964, 16966, 16970, 16976, 16979, 16992, 16994, 17001, 17013, 17014, 17021, 17023, 17025, 17028, 17031, 17039, 17042, 17046, 17053, 17059, 17061, 17068, 17076, 17077, 17080, 17084, 17097, 17100, 17109, 17112, 17113, 17116, 17121, 17130, 17131, 17136, 17147, 17165, 17169, 17170, 17174, 17176, 17178, 17183, 17190, 17193, 17198, 17199, 17208, 17209, 17210, 17215, 17221, 17224, 17227, 17229, 17232, 17234, 17235, 17238, 17239, 17243, 17244, 17246, 17247, 17257, 17258, 17267, 17268, 17281, 17283, 17285, 17289, 17290, 17301, 17308, 17312, 17315, 17317, 17322, 17336, 17337, 17338, 17342, 17343, 17348, 17360, 17362, 17367, 17376, 17378, 17389, 17390, 17391, 17398, 17400, 17402, 17409, 17411, 17412, 17416, 17417, 17419, 17421, 17423, 17424, 17428, 17438, 17439, 17442, 17445, 17446, 17454, 17455, 17467, 17469, 17471, 17476, 17477, 17478, 17486, 17508, 17511, 17512, 17515, 17517, 17526, 17531, 17535, 17536, 17541, 17542, 17549, 17552, 17557, 17558, 17559, 17565, 17566, 17569, 17572, 17573, 17576, 17577, 17587, 17588, 17591, 17600, 17605, 17610, 17614, 17623, 17624, 17631, 17641, 17643, 17645, 17649, 17654, 17660, 17671, 17678, 17682, 17685, 17692, 17698, 17700, 17701, 17703, 17708, 17710, 17712, 17713, 17714, 17715, 17723, 17731, 17733, 17735, 17739, 17742, 17743, 17744, 17756, 17766, 17769, 17771, 17776, 17777, 17788, 17793, 17796, 17798, 17807, 17808, 17821, 17827, 17829, 17840, 17852, 17857, 17858, 17860, 17869, 17874, 17880, 17881, 17882, 17886, 17892, 17897, 17900, 17909, 17911, 17917, 17923, 17926, 17940, 17943, 17946, 17948, 17953, 17955, 17963, 17964, 17970, 17978, 17979, 17984]\n",
      "4141\n"
     ]
    }
   ],
   "source": [
    "index = 0\n",
    "misclassified_images = []\n",
    "for label, predict in zip(y_test, y_pred_final_7):\n",
    "    if label != predict: \n",
    "        misclassified_images.append(index)\n",
    "    index +=1\n",
    "print(misclassified_images)\n",
    "print(len(misclassified_images))"
   ]
  },
  {
   "cell_type": "code",
   "execution_count": 106,
   "id": "e75a3157",
   "metadata": {
    "colab": {
     "base_uri": "https://localhost:8080/",
     "height": 333
    },
    "id": "RQXa4gEqh4yW",
    "outputId": "2a55b9f2-0af7-4214-a307-5dde04ac3d8b"
   },
   "outputs": [
    {
     "name": "stdout",
     "output_type": "stream",
     "text": [
      "Was predicted  4\n",
      "Was labeled  4\n",
      "Predicted Probabilities:  [[0.00681585 0.00741961 0.00166622 0.00396774 0.96185493 0.0023834\n",
      "  0.0022668  0.00112305 0.01041365 0.00208887]]\n"
     ]
    },
    {
     "data": {
      "image/png": "[encoded data removed]",
      "text/plain": [
       "<Figure size 432x288 with 1 Axes>"
      ]
     },
     "metadata": {
      "needs_background": "light"
     },
     "output_type": "display_data"
    }
   ],
   "source": [
    "image_index = 115\n",
    "plt.imshow(X_test[image_index].reshape(32, 32),cmap='Greys')\n",
    "pred = estimator_v7.predict(X_test[image_index].reshape(-1, 1024))\n",
    "print(\"Was predicted \",pred.argmax())\n",
    "print(\"Was labeled \",y_test[image_index])\n",
    "print(\"Predicted Probabilities: \",pred)"
   ]
  },
  {
   "cell_type": "markdown",
   "id": "0e59ea08",
   "metadata": {},
   "source": [
    "##### D. Plot the training loss, validation loss vs number of epochs and training accuracy, validation accuracy vs number of epochs plot and write your observations on the same. [4 Marks]"
   ]
  },
  {
   "cell_type": "markdown",
   "id": "45d8ad96",
   "metadata": {},
   "source": [
    "### Training loss, validation loss vs number of epochs before hyperparameter tuning"
   ]
  },
  {
   "cell_type": "code",
   "execution_count": 107,
   "id": "0f0c91c3",
   "metadata": {},
   "outputs": [
    {
     "name": "stdout",
     "output_type": "stream",
     "text": [
      "[0.8719114065170288, 0.7244444489479065]\n"
     ]
    },
    {
     "data": {
      "image/png": "[encoded data removed]",
      "text/plain": [
       "<Figure size 432x288 with 1 Axes>"
      ]
     },
     "metadata": {
      "needs_background": "light"
     },
     "output_type": "display_data"
    }
   ],
   "source": [
    "# Capturing learning history per epoch\n",
    "hist  = pd.DataFrame(history_1.history)\n",
    "hist['epoch'] = history_1.epoch\n",
    "\n",
    "# Plotting loss at different epochs\n",
    "plt.plot(hist['loss'])\n",
    "plt.plot(hist['val_loss'])\n",
    "plt.title('Training and Validation Loss')\n",
    "plt.ylabel('Loss')\n",
    "plt.xlabel('Epoch')\n",
    "plt.legend((\"Training\" , \"Validation\") , loc ='best')\n",
    "\n",
    "#Printing results\n",
    "results = model_b_1.evaluate(X_test, y_test_cat, verbose=False)\n",
    "print(results)"
   ]
  },
  {
   "cell_type": "markdown",
   "id": "61223426",
   "metadata": {},
   "source": [
    "### Training accuracy, validation accuracy vs number of epochs before hyperparameter tuning"
   ]
  },
  {
   "cell_type": "code",
   "execution_count": 108,
   "id": "ef91f395",
   "metadata": {},
   "outputs": [
    {
     "data": {
      "image/png": "[encoded data removed]",
      "text/plain": [
       "<Figure size 432x288 with 1 Axes>"
      ]
     },
     "metadata": {
      "needs_background": "light"
     },
     "output_type": "display_data"
    }
   ],
   "source": [
    "loss, accuracy  = model_b_1.evaluate(X_test, y_test_cat, verbose=False)\n",
    "    \n",
    "plt.plot(history_1.history['accuracy'])\n",
    "plt.plot(history_1.history['val_accuracy'])\n",
    "plt.title('Training and Validation Accuracy')\n",
    "plt.ylabel('Accuracy')\n",
    "plt.xlabel('Epoch')\n",
    "plt.legend(['Training', 'Validation'], loc='best')\n",
    "plt.show()"
   ]
  },
  {
   "cell_type": "markdown",
   "id": "629f6b10",
   "metadata": {},
   "source": [
    "### Training loss, validation loss vs number of epochs after hyperparameter tuning"
   ]
  },
  {
   "cell_type": "code",
   "execution_count": 109,
   "id": "ac0ae0e2",
   "metadata": {},
   "outputs": [
    {
     "name": "stdout",
     "output_type": "stream",
     "text": [
      "[0.750493049621582, 0.769944429397583]\n"
     ]
    },
    {
     "data": {
      "image/png": "[encoded data removed]",
      "text/plain": [
       "<Figure size 432x288 with 1 Axes>"
      ]
     },
     "metadata": {
      "needs_background": "light"
     },
     "output_type": "display_data"
    }
   ],
   "source": [
    "# Capturing learning history per epoch\n",
    "hist  = pd.DataFrame(history_7.history)\n",
    "hist['epoch'] = history_7.epoch\n",
    "\n",
    "# Plotting loss at different epochs\n",
    "plt.plot(hist['loss'])\n",
    "plt.plot(hist['val_loss'])\n",
    "plt.title('Training and Validation Loss')\n",
    "plt.ylabel('Loss')\n",
    "plt.xlabel('Epoch')\n",
    "plt.legend((\"Training\" , \"Validation\") , loc ='best')\n",
    "\n",
    "#Printing results\n",
    "results = estimator_v7.evaluate(X_test, y_test_cat, verbose=False)\n",
    "print(results)"
   ]
  },
  {
   "cell_type": "markdown",
   "id": "e70ddb35",
   "metadata": {},
   "source": [
    "### Training accuracy, validation accuracy vs number of epochs after hyperparameter tuning"
   ]
  },
  {
   "cell_type": "code",
   "execution_count": 110,
   "id": "82bcab3b",
   "metadata": {},
   "outputs": [
    {
     "data": {
      "image/png": "[encoded data removed]",
      "text/plain": [
       "<Figure size 432x288 with 1 Axes>"
      ]
     },
     "metadata": {
      "needs_background": "light"
     },
     "output_type": "display_data"
    }
   ],
   "source": [
    "loss, accuracy  = estimator_v7.evaluate(X_test, y_test_cat, verbose=False)\n",
    "    \n",
    "plt.plot(history_7.history['accuracy'])\n",
    "plt.plot(history_7.history['val_accuracy'])\n",
    "plt.title('Training and Validation Accuracy')\n",
    "plt.ylabel('Accuracy')\n",
    "plt.xlabel('Epoch')\n",
    "plt.legend(['Training', 'Validation'], loc='best')\n",
    "plt.show()"
   ]
  },
  {
   "cell_type": "markdown",
   "id": "b914214f",
   "metadata": {
    "id": "7rojee-LwAjq"
   },
   "source": [
    "### Observations on the traning, validation loss and accuracy vs no of Epoch plots:\n",
    "\n",
    "1. We can observe that initial base model gave an accuracy of 0.72 and loss of 0.87 at Epoch = 10.\n",
    "2. Based on the Training vs validation plot for both loss and accuracy, we can conclude that the train is similar to validation. Which implies the model is not overfit and therefore there is no need for regularization methods like dropout or batch normalization.\n",
    "3. Thus, our base neural network model itself is the best model and we have 5 hidden layers apart from input and output layers.\n",
    "4. After carrying out hyperparameter tuning, the best parameters we got was {'batch_size': 64, 'lr': 0.001}. And accuracy of 0.77 and loss of 0.75 is observed as the best in epoch = 14.\n",
    "5. Based on the Training vs validation plot for both loss and accuracy for the final model after hyperparameter tuning, we can prove that the train results are similar to validation. This implies the model is not overfit and therefore there is no need for regularization methods like dropout or batch normalization.\n",
    "6. Thus we achieve higher accuracy score of 80%."
   ]
  }
 ],
 "metadata": {
  "kernelspec": {
   "display_name": "Python 3",
   "language": "python",
   "name": "python3"
  },
  "language_info": {
   "codemirror_mode": {
    "name": "ipython",
    "version": 3
   },
   "file_extension": ".py",
   "mimetype": "text/x-python",
   "name": "python",
   "nbconvert_exporter": "python",
   "pygments_lexer": "ipython3",
   "version": "3.8.8"
  }
 },
 "nbformat": 4,
 "nbformat_minor": 5
}
